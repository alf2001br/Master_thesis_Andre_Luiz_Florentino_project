{
 "cells": [
  {
   "cell_type": "markdown",
   "id": "01f1ae66",
   "metadata": {},
   "source": [
    "### Centro Universitário da Fundação Educacional Inaciana \"Padre Sabóia de Medeiros\" (FEI)\n",
    "\n",
    "\n",
    "*FEI's Stricto Sensu Graduate Program in Electrical Engineering*\n",
    "\n",
    "Concentration area: ARTIFICIAL INTELLIGENCE APPLIED TO AUTOMATION AND ROBOTICS\n",
    "\n",
    "Master's thesis student Andre Luiz Florentino"
   ]
  },
  {
   "cell_type": "markdown",
   "id": "2ebf792d",
   "metadata": {},
   "source": [
    "## Select the processor type"
   ]
  },
  {
   "cell_type": "code",
   "execution_count": 1,
   "id": "76a6f8c5",
   "metadata": {},
   "outputs": [
    {
     "name": "stdout",
     "output_type": "stream",
     "text": [
      "\n",
      "1-) CPU only\n",
      "2-) CPU + GPU\n",
      "\n",
      "Select the processor: 1\n"
     ]
    }
   ],
   "source": [
    "# Select the way to load tensorflow in order to run on CPU only or CPU + GPU\n",
    "\n",
    "import os\n",
    "\n",
    "opc = 0\n",
    "while str(opc) not in '12':\n",
    "    print()\n",
    "    print(\"1-) CPU only\")\n",
    "    print(\"2-) CPU + GPU\")\n",
    "\n",
    "    opc = input(\"\\nSelect the processor: \")\n",
    "    if opc.isdigit():\n",
    "        opc = int(opc)\n",
    "    else:\n",
    "        opc = 0\n",
    "\n",
    "if opc == 1:\n",
    "    os.environ[\"CUDA_DEVICE_ORDER\"] = \"PCI_BUS_ID\"\n",
    "    os.environ['CUDA_VISIBLE_DEVICES'] = '-1'\n",
    "    \n",
    "    import tensorflow as tf\n",
    "\n",
    "else:\n",
    "    import tensorflow as tf\n",
    "    print(tf.__version__)\n",
    "\n",
    "    pd = tf.config.experimental.list_physical_devices()\n",
    "    for i in pd:\n",
    "        print(i)\n",
    "    print('------------------------------------------------------------------------------------------')\n",
    "\n",
    "\n",
    "    print(tf.config.list_physical_devices('GPU'))\n",
    "    # [PhysicalDevice(name='/physical_device:GPU:0', device_type='GPU')]\n",
    "\n",
    "    print(tf.test.is_built_with_cuda)\n",
    "    # <function is_built_with_cuda at 0x000001AA24AFEC10>\n",
    "\n",
    "    print(tf.test.gpu_device_name())\n",
    "    # /device:GPU:0\n",
    "\n",
    "    #gvd = tf.config.get_visible_devices()\n",
    "    for j in tf.config.get_visible_devices():\n",
    "        print(j)\n",
    "    # PhysicalDevice(name='/physical_device:CPU:0', device_type='CPU')\n",
    "    # PhysicalDevice(name='/physical_device:GPU:0', device_type='GPU')\n",
    "\n",
    "    #physical_devices = tf.config.experimental.list_physical_devices()\n",
    "    #tf.config.experimental.set_memory_growth(physical_devices[2], True)"
   ]
  },
  {
   "cell_type": "markdown",
   "id": "f94ffa49",
   "metadata": {},
   "source": [
    "## Check for GPU"
   ]
  },
  {
   "cell_type": "code",
   "execution_count": 2,
   "id": "40dce707",
   "metadata": {},
   "outputs": [
    {
     "name": "stdout",
     "output_type": "stream",
     "text": [
      "No GPU found\n"
     ]
    }
   ],
   "source": [
    "if tf.test.gpu_device_name():\n",
    "    print('GPU found')\n",
    "else:\n",
    "    print(\"No GPU found\")"
   ]
  },
  {
   "cell_type": "code",
   "execution_count": 3,
   "id": "4107be9e",
   "metadata": {},
   "outputs": [],
   "source": [
    "#Unload Tensorflow \n",
    "del tf"
   ]
  },
  {
   "cell_type": "markdown",
   "id": "f99e4150",
   "metadata": {},
   "source": [
    "# Chapter 15: ESR (Environmental Sound Recognition)"
   ]
  },
  {
   "cell_type": "markdown",
   "id": "583d75fe",
   "metadata": {},
   "source": [
    "## Import modules"
   ]
  },
  {
   "cell_type": "code",
   "execution_count": 4,
   "id": "5399dc8f",
   "metadata": {},
   "outputs": [],
   "source": [
    "import pyaudio\n",
    "import os\n",
    "import librosa\n",
    "import wave\n",
    "\n",
    "import ipywidgets      as widgets\n",
    "import IPython.display as ipd\n",
    "\n",
    "from IPython.display import display\n",
    "from queue           import Queue\n",
    "from threading       import Thread"
   ]
  },
  {
   "cell_type": "code",
   "execution_count": 5,
   "id": "3ca0d9fb",
   "metadata": {},
   "outputs": [],
   "source": [
    "# Globals\n",
    "current_path = os.getcwd()\n",
    "\n",
    "# For the picture names\n",
    "pic_first_name = '15_ESR_'"
   ]
  },
  {
   "cell_type": "code",
   "execution_count": 6,
   "id": "b4b3b6f1",
   "metadata": {},
   "outputs": [],
   "source": [
    "# Path were the trained models and arrays are stored\n",
    "\n",
    "path_modelsVal = os.path.join(current_path, \"_ESR\", \"Saved_models_fold_1_validation\")\n",
    "path_arrays    = os.path.join(current_path, \"_ESR\", \"Arrays\")"
   ]
  },
  {
   "cell_type": "code",
   "execution_count": 7,
   "id": "656b2102",
   "metadata": {},
   "outputs": [],
   "source": [
    "# Load the ESR algorythm\n",
    "\n",
    "from MT_ESR_evaluation_tflite import ESR_evaluation_tflite"
   ]
  },
  {
   "cell_type": "code",
   "execution_count": 8,
   "id": "31336f47",
   "metadata": {},
   "outputs": [],
   "source": [
    "cache_audio = os.path.join(current_path, '_cache_record_audio')\n",
    "\n",
    "# Check if the folder exists, if not, create it\n",
    "if not os.path.exists(cache_audio):\n",
    "    os.makedirs(cache_audio)\n",
    "    \n",
    "CHUNK    = 1024\n",
    "FORMAT   = pyaudio.paInt16\n",
    "CHANNELS = 1\n",
    "RATE     = 44100 # Higher sampling rate for recording live audio\n",
    "RATE_ESR = 22050 # Lower sampling rate to match the predicting models"
   ]
  },
  {
   "cell_type": "code",
   "execution_count": 9,
   "id": "08846928",
   "metadata": {},
   "outputs": [],
   "source": [
    "# Find audio device index\n",
    "\n",
    "devices = []\n",
    "p = pyaudio.PyAudio()\n",
    "for i in range(p.get_device_count()):\n",
    "    devices.append(p.get_device_info_by_index(i))\n",
    "\n",
    "p.terminate()"
   ]
  },
  {
   "cell_type": "code",
   "execution_count": 10,
   "id": "3b45d236",
   "metadata": {},
   "outputs": [
    {
     "data": {
      "text/plain": [
       "[{'index': 0,\n",
       "  'structVersion': 2,\n",
       "  'name': 'Microsoft Sound Mapper - Input',\n",
       "  'hostApi': 0,\n",
       "  'maxInputChannels': 2,\n",
       "  'maxOutputChannels': 0,\n",
       "  'defaultLowInputLatency': 0.09,\n",
       "  'defaultLowOutputLatency': 0.09,\n",
       "  'defaultHighInputLatency': 0.18,\n",
       "  'defaultHighOutputLatency': 0.18,\n",
       "  'defaultSampleRate': 44100.0},\n",
       " {'index': 1,\n",
       "  'structVersion': 2,\n",
       "  'name': 'Microphone (WordForum USB   )',\n",
       "  'hostApi': 0,\n",
       "  'maxInputChannels': 1,\n",
       "  'maxOutputChannels': 0,\n",
       "  'defaultLowInputLatency': 0.09,\n",
       "  'defaultLowOutputLatency': 0.09,\n",
       "  'defaultHighInputLatency': 0.18,\n",
       "  'defaultHighOutputLatency': 0.18,\n",
       "  'defaultSampleRate': 44100.0},\n",
       " {'index': 2,\n",
       "  'structVersion': 2,\n",
       "  'name': 'Microphone Array (Intel® Smart ',\n",
       "  'hostApi': 0,\n",
       "  'maxInputChannels': 4,\n",
       "  'maxOutputChannels': 0,\n",
       "  'defaultLowInputLatency': 0.09,\n",
       "  'defaultLowOutputLatency': 0.09,\n",
       "  'defaultHighInputLatency': 0.18,\n",
       "  'defaultHighOutputLatency': 0.18,\n",
       "  'defaultSampleRate': 44100.0},\n",
       " {'index': 3,\n",
       "  'structVersion': 2,\n",
       "  'name': 'Microsoft Sound Mapper - Output',\n",
       "  'hostApi': 0,\n",
       "  'maxInputChannels': 0,\n",
       "  'maxOutputChannels': 2,\n",
       "  'defaultLowInputLatency': 0.09,\n",
       "  'defaultLowOutputLatency': 0.09,\n",
       "  'defaultHighInputLatency': 0.18,\n",
       "  'defaultHighOutputLatency': 0.18,\n",
       "  'defaultSampleRate': 44100.0},\n",
       " {'index': 4,\n",
       "  'structVersion': 2,\n",
       "  'name': 'Speakers (Realtek(R) Audio)',\n",
       "  'hostApi': 0,\n",
       "  'maxInputChannels': 0,\n",
       "  'maxOutputChannels': 2,\n",
       "  'defaultLowInputLatency': 0.09,\n",
       "  'defaultLowOutputLatency': 0.09,\n",
       "  'defaultHighInputLatency': 0.18,\n",
       "  'defaultHighOutputLatency': 0.18,\n",
       "  'defaultSampleRate': 44100.0},\n",
       " {'index': 5,\n",
       "  'structVersion': 2,\n",
       "  'name': 'Microphone (Realtek HD Audio Mic input)',\n",
       "  'hostApi': 1,\n",
       "  'maxInputChannels': 2,\n",
       "  'maxOutputChannels': 0,\n",
       "  'defaultLowInputLatency': 0.01,\n",
       "  'defaultLowOutputLatency': 0.01,\n",
       "  'defaultHighInputLatency': 0.04,\n",
       "  'defaultHighOutputLatency': 0.04,\n",
       "  'defaultSampleRate': 44100.0},\n",
       " {'index': 6,\n",
       "  'structVersion': 2,\n",
       "  'name': 'Stereo Mix (Realtek HD Audio Stereo input)',\n",
       "  'hostApi': 1,\n",
       "  'maxInputChannels': 2,\n",
       "  'maxOutputChannels': 0,\n",
       "  'defaultLowInputLatency': 0.01,\n",
       "  'defaultLowOutputLatency': 0.01,\n",
       "  'defaultHighInputLatency': 0.04,\n",
       "  'defaultHighOutputLatency': 0.04,\n",
       "  'defaultSampleRate': 48000.0},\n",
       " {'index': 7,\n",
       "  'structVersion': 2,\n",
       "  'name': 'Speakers 1 (Realtek HD Audio output with SST)',\n",
       "  'hostApi': 1,\n",
       "  'maxInputChannels': 0,\n",
       "  'maxOutputChannels': 2,\n",
       "  'defaultLowInputLatency': 0.01,\n",
       "  'defaultLowOutputLatency': 0.01,\n",
       "  'defaultHighInputLatency': 0.04,\n",
       "  'defaultHighOutputLatency': 0.04,\n",
       "  'defaultSampleRate': 48000.0},\n",
       " {'index': 8,\n",
       "  'structVersion': 2,\n",
       "  'name': 'Speakers 2 (Realtek HD Audio output with SST)',\n",
       "  'hostApi': 1,\n",
       "  'maxInputChannels': 0,\n",
       "  'maxOutputChannels': 2,\n",
       "  'defaultLowInputLatency': 0.01,\n",
       "  'defaultLowOutputLatency': 0.01,\n",
       "  'defaultHighInputLatency': 0.04,\n",
       "  'defaultHighOutputLatency': 0.04,\n",
       "  'defaultSampleRate': 44100.0},\n",
       " {'index': 9,\n",
       "  'structVersion': 2,\n",
       "  'name': 'PC Speaker (Realtek HD Audio output with SST)',\n",
       "  'hostApi': 1,\n",
       "  'maxInputChannels': 2,\n",
       "  'maxOutputChannels': 0,\n",
       "  'defaultLowInputLatency': 0.01,\n",
       "  'defaultLowOutputLatency': 0.01,\n",
       "  'defaultHighInputLatency': 0.04,\n",
       "  'defaultHighOutputLatency': 0.04,\n",
       "  'defaultSampleRate': 48000.0},\n",
       " {'index': 10,\n",
       "  'structVersion': 2,\n",
       "  'name': 'Headphones 1 (Realtek HD Audio 2nd output with SST)',\n",
       "  'hostApi': 1,\n",
       "  'maxInputChannels': 0,\n",
       "  'maxOutputChannels': 2,\n",
       "  'defaultLowInputLatency': 0.01,\n",
       "  'defaultLowOutputLatency': 0.01,\n",
       "  'defaultHighInputLatency': 0.04,\n",
       "  'defaultHighOutputLatency': 0.04,\n",
       "  'defaultSampleRate': 48000.0},\n",
       " {'index': 11,\n",
       "  'structVersion': 2,\n",
       "  'name': 'Headphones 2 (Realtek HD Audio 2nd output with SST)',\n",
       "  'hostApi': 1,\n",
       "  'maxInputChannels': 0,\n",
       "  'maxOutputChannels': 2,\n",
       "  'defaultLowInputLatency': 0.01,\n",
       "  'defaultLowOutputLatency': 0.01,\n",
       "  'defaultHighInputLatency': 0.04,\n",
       "  'defaultHighOutputLatency': 0.04,\n",
       "  'defaultSampleRate': 44100.0},\n",
       " {'index': 12,\n",
       "  'structVersion': 2,\n",
       "  'name': 'PC Speaker (Realtek HD Audio 2nd output with SST)',\n",
       "  'hostApi': 1,\n",
       "  'maxInputChannels': 2,\n",
       "  'maxOutputChannels': 0,\n",
       "  'defaultLowInputLatency': 0.01,\n",
       "  'defaultLowOutputLatency': 0.01,\n",
       "  'defaultHighInputLatency': 0.04,\n",
       "  'defaultHighOutputLatency': 0.04,\n",
       "  'defaultSampleRate': 48000.0},\n",
       " {'index': 13,\n",
       "  'structVersion': 2,\n",
       "  'name': 'Microphone Array (Intel® Smart Sound Technology (Intel® SST) Microphone)',\n",
       "  'hostApi': 1,\n",
       "  'maxInputChannels': 4,\n",
       "  'maxOutputChannels': 0,\n",
       "  'defaultLowInputLatency': 0.01,\n",
       "  'defaultLowOutputLatency': 0.01,\n",
       "  'defaultHighInputLatency': 0.04,\n",
       "  'defaultHighOutputLatency': 0.04,\n",
       "  'defaultSampleRate': 48000.0},\n",
       " {'index': 14,\n",
       "  'structVersion': 2,\n",
       "  'name': 'Microphone (WordForum USB)',\n",
       "  'hostApi': 1,\n",
       "  'maxInputChannels': 1,\n",
       "  'maxOutputChannels': 0,\n",
       "  'defaultLowInputLatency': 0.01,\n",
       "  'defaultLowOutputLatency': 0.01,\n",
       "  'defaultHighInputLatency': 0.08533333333333333,\n",
       "  'defaultHighOutputLatency': 0.08533333333333333,\n",
       "  'defaultSampleRate': 44100.0}]"
      ]
     },
     "execution_count": 10,
     "metadata": {},
     "output_type": "execute_result"
    }
   ],
   "source": [
    "devices"
   ]
  },
  {
   "cell_type": "code",
   "execution_count": 11,
   "id": "59529a5e",
   "metadata": {},
   "outputs": [
    {
     "data": {
      "text/plain": [
       "{'index': 1,\n",
       " 'structVersion': 2,\n",
       " 'name': 'Microphone (WordForum USB   )',\n",
       " 'hostApi': 0,\n",
       " 'maxInputChannels': 1,\n",
       " 'maxOutputChannels': 0,\n",
       " 'defaultLowInputLatency': 0.09,\n",
       " 'defaultLowOutputLatency': 0.09,\n",
       " 'defaultHighInputLatency': 0.18,\n",
       " 'defaultHighOutputLatency': 0.18,\n",
       " 'defaultSampleRate': 44100.0}"
      ]
     },
     "execution_count": 11,
     "metadata": {},
     "output_type": "execute_result"
    }
   ],
   "source": [
    "devices[1]"
   ]
  },
  {
   "cell_type": "code",
   "execution_count": 12,
   "id": "102ee4d8",
   "metadata": {},
   "outputs": [],
   "source": [
    "# Method to record the audio from the thread\n",
    "\n",
    "RECORD_SECONDS = 1\n",
    "SAMPLE_SIZE    = 2\n",
    "frames         = []\n",
    "\n",
    "def record_microphone(chunk=CHUNK):\n",
    "    p = pyaudio.PyAudio()\n",
    "\n",
    "    stream = p.open(format             = FORMAT,\n",
    "                    channels           = CHANNELS,\n",
    "                    rate               = RATE,\n",
    "                    input              = True,\n",
    "                    input_device_index = devices[1]['index'],\n",
    "                    frames_per_buffer  = CHUNK)\n",
    "\n",
    "    global frames\n",
    "\n",
    "    while not messages.empty():\n",
    "        data = stream.read(chunk)\n",
    "        frames.append(data)\n",
    "        if len(frames) >= (RATE * RECORD_SECONDS) / chunk:\n",
    "            recordings.put(frames.copy())\n",
    "            frames = []\n",
    "\n",
    "    stream.stop_stream()\n",
    "    stream.close()\n",
    "    p.terminate()"
   ]
  },
  {
   "cell_type": "code",
   "execution_count": 13,
   "id": "37f53fba",
   "metadata": {},
   "outputs": [],
   "source": [
    "def start_recording(data):\n",
    "    messages.put(True)\n",
    "    \n",
    "    with output:\n",
    "        display(\"Starting...\")\n",
    "        \n",
    "        record = Thread(target=record_microphone)\n",
    "        record.start()\n",
    "        \n",
    "        # Here starts the ESR algorithm\n",
    "        esr = Thread(target=ESR, args=(output,))\n",
    "        esr.start()"
   ]
  },
  {
   "cell_type": "code",
   "execution_count": 14,
   "id": "26a30570",
   "metadata": {},
   "outputs": [],
   "source": [
    "def stop_recording(data):\n",
    "    with output:\n",
    "        messages.get()\n",
    "        display(\"Stopped.\")"
   ]
  },
  {
   "cell_type": "code",
   "execution_count": 15,
   "id": "2833ad7d",
   "metadata": {},
   "outputs": [],
   "source": [
    "def play_recording(data):\n",
    "\n",
    "    print(\"Playing...\")\n",
    "\n",
    "    global frames\n",
    "\n",
    "    play=pyaudio.PyAudio()\n",
    "    stream_play=play.open(format   = FORMAT,\n",
    "                          channels = CHANNELS,\n",
    "                          rate     = RATE,\n",
    "                          output   = True)\n",
    "    for data in frames: \n",
    "        stream_play.write(data)\n",
    "    stream_play.stop_stream()\n",
    "    stream_play.close()\n",
    "    play.terminate()"
   ]
  },
  {
   "cell_type": "code",
   "execution_count": 16,
   "id": "c5df736d",
   "metadata": {},
   "outputs": [],
   "source": [
    "def ESR(output):\n",
    "    \n",
    "    while not messages.empty():\n",
    "        \n",
    "        frames = recordings.get()\n",
    "\n",
    "        # Save the audio file as .WAV for loading into Librosa\n",
    "        wf = wave.open(os.path.join(cache_audio, \"output.wav\"), \"wb\")\n",
    "        wf.setnchannels(CHANNELS)\n",
    "        wf.setsampwidth(p.get_sample_size(FORMAT))\n",
    "        wf.setframerate(RATE)\n",
    "        wf.writeframes(b''.join(frames))\n",
    "        wf.close()\n",
    "\n",
    "        rawdata, _  = librosa.load(os.path.join(cache_audio, 'output.wav'), sr = RATE_ESR, mono = True)\n",
    "        \n",
    "        print(\"================================================\")\n",
    "        print(f'Sound duration..: {librosa.get_duration(y=rawdata):2f}\\n')\n",
    "        ESR_evaluation_tflite([rawdata], 'CNN2D', path_modelsVal, path_arrays)"
   ]
  },
  {
   "cell_type": "code",
   "execution_count": 20,
   "id": "ff1e0306",
   "metadata": {},
   "outputs": [
    {
     "data": {
      "application/vnd.jupyter.widget-view+json": {
       "model_id": "4840dfbfa8d9415cac1b39bbb812871e",
       "version_major": 2,
       "version_minor": 0
      },
      "text/plain": [
       "Button(button_style='success', description='Record', icon='microphone', style=ButtonStyle(), tooltip='Record')"
      ]
     },
     "metadata": {},
     "output_type": "display_data"
    },
    {
     "data": {
      "application/vnd.jupyter.widget-view+json": {
       "model_id": "7348fbb7a5d24a6d84e80cac25ec69f9",
       "version_major": 2,
       "version_minor": 0
      },
      "text/plain": [
       "Button(button_style='warning', description='Stop', icon='stop', style=ButtonStyle(), tooltip='Stop')"
      ]
     },
     "metadata": {},
     "output_type": "display_data"
    },
    {
     "data": {
      "application/vnd.jupyter.widget-view+json": {
       "model_id": "7db12866bd0946158493b1fc17260847",
       "version_major": 2,
       "version_minor": 0
      },
      "text/plain": [
       "Button(button_style='primary', description='Play', icon='play', style=ButtonStyle(), tooltip='Play')"
      ]
     },
     "metadata": {},
     "output_type": "display_data"
    },
    {
     "data": {
      "application/vnd.jupyter.widget-view+json": {
       "model_id": "eadde24f29de45a0b3c66cf0300c5561",
       "version_major": 2,
       "version_minor": 0
      },
      "text/plain": [
       "Output()"
      ]
     },
     "metadata": {},
     "output_type": "display_data"
    }
   ],
   "source": [
    "# Render the buttons for recording, stopping and outputing\n",
    "\n",
    "# Pass the variables for the thread\n",
    "messages   = Queue()\n",
    "recordings = Queue()\n",
    "\n",
    "record_button = widgets.Button(\n",
    "    description='Record',\n",
    "    disabled=False,\n",
    "    button_style='success',\n",
    "    tooltip='Record',\n",
    "    icon='microphone'\n",
    ")\n",
    "\n",
    "stop_button = widgets.Button(\n",
    "    description='Stop',\n",
    "    disabled=False,\n",
    "    button_style='warning',\n",
    "    tooltip='Stop',\n",
    "    icon='stop'\n",
    ")\n",
    "\n",
    "play_button = widgets.Button(\n",
    "    description='Play',\n",
    "    disabled=False,\n",
    "    button_style='primary',\n",
    "    tooltip='Play',\n",
    "    icon='play'\n",
    ")\n",
    "\n",
    "output = widgets.Output()\n",
    "\n",
    "   \n",
    "record_button.on_click(start_recording)\n",
    "stop_button.on_click(stop_recording)\n",
    "play_button.on_click(play_recording)\n",
    "\n",
    "display(record_button, stop_button, play_button, output)\n"
   ]
  },
  {
   "cell_type": "code",
   "execution_count": null,
   "id": "27367e26",
   "metadata": {},
   "outputs": [],
   "source": []
  },
  {
   "cell_type": "code",
   "execution_count": null,
   "id": "7c5a1402",
   "metadata": {},
   "outputs": [],
   "source": []
  }
 ],
 "metadata": {
  "kernelspec": {
   "display_name": "Python 3 (ipykernel)",
   "language": "python",
   "name": "python3"
  },
  "language_info": {
   "codemirror_mode": {
    "name": "ipython",
    "version": 3
   },
   "file_extension": ".py",
   "mimetype": "text/x-python",
   "name": "python",
   "nbconvert_exporter": "python",
   "pygments_lexer": "ipython3",
   "version": "3.8.18"
  }
 },
 "nbformat": 4,
 "nbformat_minor": 5
}
