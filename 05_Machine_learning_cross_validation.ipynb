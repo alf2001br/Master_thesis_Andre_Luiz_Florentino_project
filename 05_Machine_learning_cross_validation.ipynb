{
 "cells": [
  {
   "cell_type": "markdown",
   "id": "3faa6a4b",
   "metadata": {},
   "source": [
    "### Faculdade de Engenharia Industrial - FEI\n",
    "\n",
    "### Centro Universitário da Fundação Educacional Inaciana \"Padre Sabóia de Medeiros\" (FEI)\n",
    "\n",
    "\n",
    "*FEI's Stricto Sensu Graduate Program in Electrical Engineering*\n",
    "\n",
    "Concentration area: ARTIFICIAL INTELLIGENCE APPLIED TO AUTOMATION AND ROBOTICS\n",
    "\n",
    "Master's thesis student Andre Luiz Florentino"
   ]
  },
  {
   "cell_type": "markdown",
   "id": "5bd16632",
   "metadata": {},
   "source": [
    "***"
   ]
  },
  {
   "cell_type": "markdown",
   "id": "02245d16",
   "metadata": {},
   "source": [
    "## Check for GPU"
   ]
  },
  {
   "cell_type": "code",
   "execution_count": 1,
   "id": "6ffabcfc",
   "metadata": {},
   "outputs": [
    {
     "name": "stdout",
     "output_type": "stream",
     "text": [
      "2.3.0\n",
      "PhysicalDevice(name='/physical_device:CPU:0', device_type='CPU')\n",
      "PhysicalDevice(name='/physical_device:XLA_CPU:0', device_type='XLA_CPU')\n",
      "PhysicalDevice(name='/physical_device:GPU:0', device_type='GPU')\n",
      "PhysicalDevice(name='/physical_device:XLA_GPU:0', device_type='XLA_GPU')\n",
      "------------------------------------------------------------------------------------------\n",
      "[PhysicalDevice(name='/physical_device:GPU:0', device_type='GPU')]\n",
      "<function is_built_with_cuda at 0x000001DC05A610D0>\n",
      "/device:GPU:0\n",
      "PhysicalDevice(name='/physical_device:CPU:0', device_type='CPU')\n",
      "PhysicalDevice(name='/physical_device:GPU:0', device_type='GPU')\n"
     ]
    }
   ],
   "source": [
    "import tensorflow as tf\n",
    "print(tf.__version__)\n",
    "\n",
    "pd = tf.config.experimental.list_physical_devices()\n",
    "for i in pd:\n",
    "    print(i)\n",
    "print('------------------------------------------------------------------------------------------')\n",
    "\n",
    "\n",
    "print(tf.config.list_physical_devices('GPU'))\n",
    "# [PhysicalDevice(name='/physical_device:GPU:0', device_type='GPU')]\n",
    "\n",
    "print(tf.test.is_built_with_cuda)\n",
    "# <function is_built_with_cuda at 0x000001AA24AFEC10>\n",
    "\n",
    "print(tf.test.gpu_device_name())\n",
    "# /device:GPU:0\n",
    "\n",
    "#gvd = tf.config.get_visible_devices()\n",
    "for j in tf.config.get_visible_devices():\n",
    "    print(j)\n",
    "# PhysicalDevice(name='/physical_device:CPU:0', device_type='CPU')\n",
    "# PhysicalDevice(name='/physical_device:GPU:0', device_type='GPU')"
   ]
  },
  {
   "cell_type": "markdown",
   "id": "68de63c0",
   "metadata": {},
   "source": [
    "# Chapter 5: Machine learning k-fold cross-validation\n",
    "\n",
    "ASSUMPTION --> run for datasets ESC-10, BDLib2 and US8K:\n",
    "\n",
    "* *01_Feature_extraction_exploration.ipynb*\n",
    "* *02_PreProcessing_and_ML_modeling.ipynb* \n",
    "\n",
    "And run for the new dataset US8K_AV:\n",
    "* *03_New_dataset_US8K_AV.ipynb*\n",
    "\n",
    "After that, run for all datasets:\n",
    "* *04_ML_modeling.ipynb*\n",
    "\n",
    "***"
   ]
  },
  {
   "cell_type": "markdown",
   "id": "f4504379",
   "metadata": {},
   "source": [
    "## Importe modules"
   ]
  },
  {
   "cell_type": "code",
   "execution_count": 2,
   "id": "6f29048a",
   "metadata": {},
   "outputs": [],
   "source": [
    "import librosa\n",
    "import os\n",
    "import glob\n",
    "import warnings\n",
    "import mimetypes\n",
    "import itertools\n",
    "import time\n",
    "import sys\n",
    "\n",
    "import pandas  as pd\n",
    "import seaborn as sns\n",
    "import numpy   as np\n",
    "from IPython.display import display\n",
    "\n",
    "from matplotlib  import pyplot as plt\n",
    "\n",
    "from tqdm                      import tqdm\n",
    "\n",
    "from sklearn                   import metrics\n",
    "from sklearn.model_selection   import train_test_split\n",
    "from sklearn.feature_selection import mutual_info_classif, SelectKBest, chi2\n",
    "from sklearn.linear_model      import LogisticRegression\n",
    "from sklearn.naive_bayes       import GaussianNB\n",
    "from sklearn.svm               import SVC\n",
    "from sklearn.neighbors         import KNeighborsClassifier\n",
    "from sklearn.ensemble          import RandomForestClassifier, VotingClassifier\n",
    "from sklearn.decomposition     import PCA\n",
    "from sklearn.metrics           import classification_report\n",
    "\n",
    "mimetypes.init()\n",
    "mimetypes.add_type('audio/ogg','.ogg')\n",
    "\n",
    "warnings.filterwarnings('ignore')\n",
    "\n",
    "pd.set_option('display.max_columns', 10)\n",
    "pd.set_option('display.width', 300)\n",
    "pd.set_option('display.max_colwidth', 120)\n",
    "\n",
    "cmap_cm   = plt.cm.Blues"
   ]
  },
  {
   "cell_type": "code",
   "execution_count": 3,
   "id": "de6556a6",
   "metadata": {},
   "outputs": [],
   "source": [
    "# Globals\n",
    "current_path = os.getcwd()\n",
    "\n",
    "# For the picture names\n",
    "pic_first_name = '05_Machine_learning_cross_validation_'\n",
    "\n",
    "# For Librosa\n",
    "FRAME_SIZE  = 1024\n",
    "HOP_LENGTH  = 512\n",
    "SEED        = 1000\n",
    "SR          = 22050"
   ]
  },
  {
   "cell_type": "markdown",
   "id": "53326eea",
   "metadata": {},
   "source": [
    "# Loading the dataset\n"
   ]
  },
  {
   "cell_type": "code",
   "execution_count": 4,
   "id": "64563cdf",
   "metadata": {},
   "outputs": [
    {
     "name": "stdout",
     "output_type": "stream",
     "text": [
      "\n",
      "1-) ESC-10\n",
      "2-) BDLib2\n",
      "3-) US8K\n",
      "4-) US8K_AV\n",
      "\n",
      "Select the dataset: 4\n"
     ]
    }
   ],
   "source": [
    "# Select the dataset\n",
    "\n",
    "opc = 0\n",
    "while str(opc) not in '1234':\n",
    "    print()\n",
    "    print(\"1-) ESC-10\")\n",
    "    print(\"2-) BDLib2\")\n",
    "    print(\"3-) US8K\")\n",
    "    print(\"4-) US8K_AV\")\n",
    "\n",
    "\n",
    "    opc = input(\"\\nSelect the dataset: \")\n",
    "    if opc.isdigit():\n",
    "        opc = int(opc)\n",
    "    else:\n",
    "        opc = 0\n",
    "\n",
    "if opc == 1:\n",
    "\n",
    "    path        = os.path.join(current_path, \"_dataset\", \"ESC-10\")\n",
    "    path_pic    = os.path.join(current_path, \"ESC-10_results\")\n",
    "    path_models = os.path.join(current_path, \"ESC-10_saved_models\")\n",
    "    \n",
    "   \n",
    "    subfolders  = next(os.walk(path))[1]\n",
    "    nom_dataset = 'ESC-10' \n",
    "    csv_file    = 'ESC-10.csv'\n",
    "    fold        = '1'\n",
    "\n",
    "    pkl_features           = 'ESC-10_features_original.pkl'\n",
    "    pkl_aug_features      = 'ESC-10_features_augmented_no_windowing.pkl'\n",
    "    pkl_aug_wind_features = 'ESC-10_features_augmented.pkl'\n",
    "\n",
    "    \n",
    "if opc == 2:\n",
    "    \n",
    "    path        = os.path.join(current_path, \"_dataset\", \"BDLib2\")\n",
    "    path_pic    = os.path.join(current_path, \"BDLib2_results\")\n",
    "    path_models = os.path.join(current_path, \"BDLib2_saved_models\")\n",
    "\n",
    "    subfolders  = next(os.walk(path))[1]\n",
    "    nom_dataset = 'BDLib2' \n",
    "    csv_file    = 'BDLib2.csv'\n",
    "    fold        = 'fold-1'\n",
    "\n",
    "    pkl_features          = 'BDLib2_features_original.pkl'\n",
    "    pkl_aug_features      = 'BDLib2_features_augmented_no_windowing.pkl'\n",
    "    pkl_aug_wind_features = 'BDLib2_features_augmented.pkl'\n",
    "\n",
    "    \n",
    "if opc == 3:\n",
    "    \n",
    "    path        = os.path.join(current_path, \"_dataset\", \"US8K\")\n",
    "    path_pic    = os.path.join(current_path, \"US8K_results\")\n",
    "    path_models = os.path.join(current_path, \"US8K_saved_models\")\n",
    "    \n",
    "    subfolders  = next(os.walk(path))[1]\n",
    "    nom_dataset = 'US8K' \n",
    "    csv_file    = 'US8K.csv'\n",
    "    fold        = '1'\n",
    "    \n",
    "    pkl_features          = 'US8K_features_original.pkl'\n",
    "    pkl_aug_features      = 'US8K_features_augmented_no_windowing.pkl'\n",
    "    pkl_aug_wind_features = 'US8K_features_windowed.pkl' # augmented and windowed makes no sense. Dataset is already quite large\n",
    "    \n",
    "\n",
    "if opc == 4:\n",
    "\n",
    "    path        = os.path.join(current_path, \"_dataset\", \"US8K_AV\")\n",
    "    path_pic    = os.path.join(current_path, \"US8K_AV_results\")\n",
    "    path_models = os.path.join(current_path, \"US8K_AV_saved_models\")\n",
    "\n",
    "    subfolders  = next(os.walk(path))[1]\n",
    "    nom_dataset = 'US8K_AV' \n",
    "    csv_file    = 'US8K_AV.csv'\n",
    "    fold        = '1'\n",
    "\n",
    "    pkl_features          = 'US8K_AV_features_original.pkl'\n",
    "    pkl_aug_features      = 'US8K_AV_features_augmented_no_windowing.pkl'\n",
    "    pkl_aug_wind_features = 'US8K_AV_features_windowed.pkl' # augmented and windowed makes no sense. Dataset is already quite large"
   ]
  },
  {
   "cell_type": "code",
   "execution_count": 5,
   "id": "c8a054a0",
   "metadata": {},
   "outputs": [],
   "source": [
    "def get_next_file_number(folder: str):\n",
    "    files = [f for f in os.listdir(folder) if os.path.isfile(os.path.join(folder, f)) and f.startswith(pic_first_name)]\n",
    "    if not files:\n",
    "        return 1\n",
    "    else:\n",
    "        numbers = [int(f.split('.')[0].split('_')[-1]) for f in files]\n",
    "        return max(numbers) + 1"
   ]
  },
  {
   "cell_type": "code",
   "execution_count": 6,
   "id": "0ff6af21",
   "metadata": {},
   "outputs": [],
   "source": [
    "from MT_loadDataset import loadDataset"
   ]
  },
  {
   "cell_type": "code",
   "execution_count": 7,
   "id": "d08ecfe4",
   "metadata": {},
   "outputs": [
    {
     "name": "stdout",
     "output_type": "stream",
     "text": [
      "\n",
      "Classes:\n",
      "--------------------\n",
      "Class_categorical\n",
      "dog_bark            1000\n",
      "children_playing    1000\n",
      "background          1000\n",
      "siren                929\n",
      "car_horn             429\n",
      "Name: count, dtype: int64\n",
      "\n",
      "Total number of unique files..........:  4358\n",
      "Total number of AUDIO files...........:  4358\n"
     ]
    },
    {
     "data": {
      "text/html": [
       "<div>\n",
       "<style scoped>\n",
       "    .dataframe tbody tr th:only-of-type {\n",
       "        vertical-align: middle;\n",
       "    }\n",
       "\n",
       "    .dataframe tbody tr th {\n",
       "        vertical-align: top;\n",
       "    }\n",
       "\n",
       "    .dataframe thead th {\n",
       "        text-align: right;\n",
       "    }\n",
       "</style>\n",
       "<table border=\"1\" class=\"dataframe\">\n",
       "  <thead>\n",
       "    <tr style=\"text-align: right;\">\n",
       "      <th></th>\n",
       "      <th>Fold</th>\n",
       "      <th>Folder_name</th>\n",
       "      <th>Class_OHEV</th>\n",
       "      <th>Class_categorical</th>\n",
       "      <th>File_name</th>\n",
       "      <th>...</th>\n",
       "      <th>classID</th>\n",
       "      <th>fsID</th>\n",
       "      <th>start</th>\n",
       "      <th>end</th>\n",
       "      <th>salience</th>\n",
       "    </tr>\n",
       "  </thead>\n",
       "  <tbody>\n",
       "    <tr>\n",
       "      <th>0</th>\n",
       "      <td>5</td>\n",
       "      <td>fold5</td>\n",
       "      <td>[0, 0, 0, 1, 0]</td>\n",
       "      <td>dog_bark</td>\n",
       "      <td>100032-3-0-0.wav</td>\n",
       "      <td>...</td>\n",
       "      <td>3</td>\n",
       "      <td>100032</td>\n",
       "      <td>0.000000</td>\n",
       "      <td>0.317551</td>\n",
       "      <td>1</td>\n",
       "    </tr>\n",
       "    <tr>\n",
       "      <th>1</th>\n",
       "      <td>5</td>\n",
       "      <td>fold5</td>\n",
       "      <td>[0, 0, 1, 0, 0]</td>\n",
       "      <td>children_playing</td>\n",
       "      <td>100263-2-0-117.wav</td>\n",
       "      <td>...</td>\n",
       "      <td>2</td>\n",
       "      <td>100263</td>\n",
       "      <td>58.500000</td>\n",
       "      <td>62.500000</td>\n",
       "      <td>1</td>\n",
       "    </tr>\n",
       "    <tr>\n",
       "      <th>2</th>\n",
       "      <td>5</td>\n",
       "      <td>fold5</td>\n",
       "      <td>[0, 0, 1, 0, 0]</td>\n",
       "      <td>children_playing</td>\n",
       "      <td>100263-2-0-121.wav</td>\n",
       "      <td>...</td>\n",
       "      <td>2</td>\n",
       "      <td>100263</td>\n",
       "      <td>60.500000</td>\n",
       "      <td>64.500000</td>\n",
       "      <td>1</td>\n",
       "    </tr>\n",
       "    <tr>\n",
       "      <th>3</th>\n",
       "      <td>5</td>\n",
       "      <td>fold5</td>\n",
       "      <td>[0, 0, 1, 0, 0]</td>\n",
       "      <td>children_playing</td>\n",
       "      <td>100263-2-0-126.wav</td>\n",
       "      <td>...</td>\n",
       "      <td>2</td>\n",
       "      <td>100263</td>\n",
       "      <td>63.000000</td>\n",
       "      <td>67.000000</td>\n",
       "      <td>1</td>\n",
       "    </tr>\n",
       "    <tr>\n",
       "      <th>4</th>\n",
       "      <td>5</td>\n",
       "      <td>fold5</td>\n",
       "      <td>[0, 0, 1, 0, 0]</td>\n",
       "      <td>children_playing</td>\n",
       "      <td>100263-2-0-137.wav</td>\n",
       "      <td>...</td>\n",
       "      <td>2</td>\n",
       "      <td>100263</td>\n",
       "      <td>68.500000</td>\n",
       "      <td>72.500000</td>\n",
       "      <td>1</td>\n",
       "    </tr>\n",
       "    <tr>\n",
       "      <th>...</th>\n",
       "      <td>...</td>\n",
       "      <td>...</td>\n",
       "      <td>...</td>\n",
       "      <td>...</td>\n",
       "      <td>...</td>\n",
       "      <td>...</td>\n",
       "      <td>...</td>\n",
       "      <td>...</td>\n",
       "      <td>...</td>\n",
       "      <td>...</td>\n",
       "      <td>...</td>\n",
       "    </tr>\n",
       "    <tr>\n",
       "      <th>4353</th>\n",
       "      <td>7</td>\n",
       "      <td>fold7</td>\n",
       "      <td>[0, 1, 0, 0, 0]</td>\n",
       "      <td>car_horn</td>\n",
       "      <td>99812-1-2-0.wav</td>\n",
       "      <td>...</td>\n",
       "      <td>1</td>\n",
       "      <td>99812</td>\n",
       "      <td>159.522205</td>\n",
       "      <td>163.522205</td>\n",
       "      <td>2</td>\n",
       "    </tr>\n",
       "    <tr>\n",
       "      <th>4354</th>\n",
       "      <td>7</td>\n",
       "      <td>fold7</td>\n",
       "      <td>[0, 1, 0, 0, 0]</td>\n",
       "      <td>car_horn</td>\n",
       "      <td>99812-1-3-0.wav</td>\n",
       "      <td>...</td>\n",
       "      <td>1</td>\n",
       "      <td>99812</td>\n",
       "      <td>181.142431</td>\n",
       "      <td>183.284976</td>\n",
       "      <td>2</td>\n",
       "    </tr>\n",
       "    <tr>\n",
       "      <th>4355</th>\n",
       "      <td>7</td>\n",
       "      <td>fold7</td>\n",
       "      <td>[0, 1, 0, 0, 0]</td>\n",
       "      <td>car_horn</td>\n",
       "      <td>99812-1-4-0.wav</td>\n",
       "      <td>...</td>\n",
       "      <td>1</td>\n",
       "      <td>99812</td>\n",
       "      <td>242.691902</td>\n",
       "      <td>246.197885</td>\n",
       "      <td>2</td>\n",
       "    </tr>\n",
       "    <tr>\n",
       "      <th>4356</th>\n",
       "      <td>7</td>\n",
       "      <td>fold7</td>\n",
       "      <td>[0, 1, 0, 0, 0]</td>\n",
       "      <td>car_horn</td>\n",
       "      <td>99812-1-5-0.wav</td>\n",
       "      <td>...</td>\n",
       "      <td>1</td>\n",
       "      <td>99812</td>\n",
       "      <td>253.209850</td>\n",
       "      <td>255.741948</td>\n",
       "      <td>2</td>\n",
       "    </tr>\n",
       "    <tr>\n",
       "      <th>4357</th>\n",
       "      <td>7</td>\n",
       "      <td>fold7</td>\n",
       "      <td>[0, 1, 0, 0, 0]</td>\n",
       "      <td>car_horn</td>\n",
       "      <td>99812-1-6-0.wav</td>\n",
       "      <td>...</td>\n",
       "      <td>1</td>\n",
       "      <td>99812</td>\n",
       "      <td>332.289233</td>\n",
       "      <td>334.821332</td>\n",
       "      <td>2</td>\n",
       "    </tr>\n",
       "  </tbody>\n",
       "</table>\n",
       "<p>4358 rows × 11 columns</p>\n",
       "</div>"
      ],
      "text/plain": [
       "      Fold Folder_name       Class_OHEV Class_categorical           File_name  ... classID    fsID       start         end  salience\n",
       "0        5       fold5  [0, 0, 0, 1, 0]          dog_bark    100032-3-0-0.wav  ...       3  100032    0.000000    0.317551         1\n",
       "1        5       fold5  [0, 0, 1, 0, 0]  children_playing  100263-2-0-117.wav  ...       2  100263   58.500000   62.500000         1\n",
       "2        5       fold5  [0, 0, 1, 0, 0]  children_playing  100263-2-0-121.wav  ...       2  100263   60.500000   64.500000         1\n",
       "3        5       fold5  [0, 0, 1, 0, 0]  children_playing  100263-2-0-126.wav  ...       2  100263   63.000000   67.000000         1\n",
       "4        5       fold5  [0, 0, 1, 0, 0]  children_playing  100263-2-0-137.wav  ...       2  100263   68.500000   72.500000         1\n",
       "...    ...         ...              ...               ...                 ...  ...     ...     ...         ...         ...       ...\n",
       "4353     7       fold7  [0, 1, 0, 0, 0]          car_horn     99812-1-2-0.wav  ...       1   99812  159.522205  163.522205         2\n",
       "4354     7       fold7  [0, 1, 0, 0, 0]          car_horn     99812-1-3-0.wav  ...       1   99812  181.142431  183.284976         2\n",
       "4355     7       fold7  [0, 1, 0, 0, 0]          car_horn     99812-1-4-0.wav  ...       1   99812  242.691902  246.197885         2\n",
       "4356     7       fold7  [0, 1, 0, 0, 0]          car_horn     99812-1-5-0.wav  ...       1   99812  253.209850  255.741948         2\n",
       "4357     7       fold7  [0, 1, 0, 0, 0]          car_horn     99812-1-6-0.wav  ...       1   99812  332.289233  334.821332         2\n",
       "\n",
       "[4358 rows x 11 columns]"
      ]
     },
     "execution_count": 7,
     "metadata": {},
     "output_type": "execute_result"
    }
   ],
   "source": [
    "loadDataset = loadDataset(path)\n",
    "DB          = loadDataset.db_B\n",
    "\n",
    "print(\"\\nClasses:\\n--------------------\")\n",
    "print(DB[\"Class_categorical\"].value_counts())\n",
    "print(\"\\nTotal number of unique files..........: \", len(np.unique(DB[\"File_name\"])))\n",
    "print(\"Total number of AUDIO files...........: \", len(DB))\n",
    "DB"
   ]
  },
  {
   "cell_type": "code",
   "execution_count": 8,
   "id": "6aa52adb",
   "metadata": {},
   "outputs": [
    {
     "data": {
      "text/plain": [
       "Fold                   int64\n",
       "Folder_name           object\n",
       "Class_OHEV            object\n",
       "Class_categorical     object\n",
       "File_name             object\n",
       "Path                  object\n",
       "classID                int64\n",
       "fsID                   int64\n",
       "start                float64\n",
       "end                  float64\n",
       "salience               int64\n",
       "dtype: object"
      ]
     },
     "execution_count": 8,
     "metadata": {},
     "output_type": "execute_result"
    }
   ],
   "source": [
    "DB.dtypes"
   ]
  },
  {
   "cell_type": "code",
   "execution_count": 9,
   "id": "c6ee21d6",
   "metadata": {},
   "outputs": [
    {
     "data": {
      "image/png": "[encoded data removed]",
      "text/plain": [
       "<Figure size 1150.62x500 with 1 Axes>"
      ]
     },
     "metadata": {},
     "output_type": "display_data"
    }
   ],
   "source": [
    "# Analysis of the class balancing\n",
    "\n",
    "sns.set_style(\"darkgrid\")\n",
    "gTitle = f'{nom_dataset} - Number of classes = ' + str(len(pd.Series(DB['Class_categorical']).unique()))\n",
    "g = sns.displot(DB,x='Class_categorical', hue='Class_categorical',height = 5, aspect = 2).set(title=gTitle)\n",
    "g.set_xticklabels(rotation=90)\n",
    "g.set_titles('Number of classes')\n",
    "\n",
    "# Retrieve the axes object from the plot\n",
    "axes = g.ax\n",
    "\n",
    "# Iterate over each bar in the plot\n",
    "for p in axes.patches:\n",
    "    # Get the coordinates of the bar\n",
    "    width = p.get_width()\n",
    "    height = p.get_height()\n",
    "    cord_x, cord_y = p.get_xy()\n",
    "    if height > 0:\n",
    "        axes.annotate(f'{height}', (cord_x + width/2, cord_y + height), ha='center')\n",
    "        \n",
    "g._legend.remove()\n",
    "\n",
    "plt.tight_layout()"
   ]
  },
  {
   "cell_type": "code",
   "execution_count": 10,
   "id": "82624f6b",
   "metadata": {},
   "outputs": [
    {
     "name": "stdout",
     "output_type": "stream",
     "text": [
      "\n",
      "1-) Features original\n",
      "2-) Features augmented\n",
      "3-) Features augmented and windowed (US8K only windowed)\n",
      "\n",
      "Select the dataset: 3\n"
     ]
    }
   ],
   "source": [
    "# Read the pkl file with the augmented features extracted\n",
    "\n",
    "opc = 0\n",
    "while str(opc) not in '123':\n",
    "    print()\n",
    "    print(\"1-) Features original\")\n",
    "    print(\"2-) Features augmented\")\n",
    "    print(\"3-) Features augmented and windowed (US8K only windowed)\")\n",
    "\n",
    "    opc = input(\"\\nSelect the dataset: \")\n",
    "    if opc.isdigit():\n",
    "        opc = int(opc)\n",
    "    else:\n",
    "        opc = 0\n",
    "\n",
    "if opc == 1:\n",
    "    DB_from_pkl   = pd.read_pickle(os.path.join(path_models, pkl_features))\n",
    "    model_surname = '_original'\n",
    "\n",
    "if opc == 2:\n",
    "    DB_from_pkl   = pd.read_pickle(os.path.join(path_models, pkl_aug_features))\n",
    "    model_surname = '_augmented'\n",
    "\n",
    "if opc == 3:\n",
    "    DB_from_pkl = pd.read_pickle(os.path.join(path_models, pkl_aug_wind_features))\n",
    "    model_surname = '_windowed'"
   ]
  },
  {
   "cell_type": "code",
   "execution_count": 11,
   "id": "10c3404c",
   "metadata": {},
   "outputs": [
    {
     "data": {
      "text/plain": [
       "Audio                  object\n",
       "Class_categorical      object\n",
       "Class_OHEV             object\n",
       "Fold                   object\n",
       "RMSE                  float64\n",
       "                       ...   \n",
       "TONNETZ_6             float64\n",
       "TONNETZ_std_6         float64\n",
       "TONNETZ_median_6      float64\n",
       "TONNETZ_skew_6        float64\n",
       "TONNETZ_kurtosis_6    float64\n",
       "Length: 379, dtype: object"
      ]
     },
     "execution_count": 11,
     "metadata": {},
     "output_type": "execute_result"
    }
   ],
   "source": [
    "DB_from_pkl.dtypes"
   ]
  },
  {
   "cell_type": "code",
   "execution_count": 12,
   "id": "f65b3d15",
   "metadata": {},
   "outputs": [
    {
     "name": "stdout",
     "output_type": "stream",
     "text": [
      "Total duration of the dataset:  8.4608 h\n"
     ]
    }
   ],
   "source": [
    "total_duration = 0\n",
    "for audio in DB_from_pkl['Audio']:\n",
    "    total_duration = total_duration + librosa.get_duration(y=audio)\n",
    "print('Total duration of the dataset: ' , \"{:0.4f} h\".format(total_duration / 3600))"
   ]
  },
  {
   "cell_type": "code",
   "execution_count": 13,
   "id": "3ccdf122",
   "metadata": {},
   "outputs": [
    {
     "data": {
      "text/html": [
       "<div>\n",
       "<style scoped>\n",
       "    .dataframe tbody tr th:only-of-type {\n",
       "        vertical-align: middle;\n",
       "    }\n",
       "\n",
       "    .dataframe tbody tr th {\n",
       "        vertical-align: top;\n",
       "    }\n",
       "\n",
       "    .dataframe thead th {\n",
       "        text-align: right;\n",
       "    }\n",
       "</style>\n",
       "<table border=\"1\" class=\"dataframe\">\n",
       "  <thead>\n",
       "    <tr style=\"text-align: right;\">\n",
       "      <th></th>\n",
       "      <th>Audio</th>\n",
       "      <th>Class_categorical</th>\n",
       "      <th>Class_OHEV</th>\n",
       "      <th>Fold</th>\n",
       "      <th>RMSE</th>\n",
       "      <th>...</th>\n",
       "      <th>TONNETZ_6</th>\n",
       "      <th>TONNETZ_std_6</th>\n",
       "      <th>TONNETZ_median_6</th>\n",
       "      <th>TONNETZ_skew_6</th>\n",
       "      <th>TONNETZ_kurtosis_6</th>\n",
       "    </tr>\n",
       "  </thead>\n",
       "  <tbody>\n",
       "    <tr>\n",
       "      <th>0</th>\n",
       "      <td>[-0.0034710653, -0.0050192624, -0.004654482, -0.0049833283, -0.0038681468, -0.0023575649, -0.00025486574, 0.00135406...</td>\n",
       "      <td>dog_bark</td>\n",
       "      <td>[0, 0, 0, 1, 0]</td>\n",
       "      <td>5</td>\n",
       "      <td>0.117183</td>\n",
       "      <td>...</td>\n",
       "      <td>-0.046177</td>\n",
       "      <td>0.025644</td>\n",
       "      <td>-0.046785</td>\n",
       "      <td>0.461191</td>\n",
       "      <td>-0.338882</td>\n",
       "    </tr>\n",
       "    <tr>\n",
       "      <th>1</th>\n",
       "      <td>[-0.015428771, -0.0064468235, -0.002025701, -0.009768408, -0.020482529, -0.03246226, -0.046539657, -0.050950672, -0....</td>\n",
       "      <td>dog_bark</td>\n",
       "      <td>[0, 0, 0, 1, 0]</td>\n",
       "      <td>5</td>\n",
       "      <td>0.111724</td>\n",
       "      <td>...</td>\n",
       "      <td>-0.026347</td>\n",
       "      <td>0.026433</td>\n",
       "      <td>-0.030688</td>\n",
       "      <td>0.414979</td>\n",
       "      <td>-0.840459</td>\n",
       "    </tr>\n",
       "    <tr>\n",
       "      <th>2</th>\n",
       "      <td>[-0.17165461, -0.1961453, -0.2095497, -0.116395764, 0.02499168, 0.15181583, 0.2456393, 0.24304995, 0.1697193, 0.0706...</td>\n",
       "      <td>dog_bark</td>\n",
       "      <td>[0, 0, 0, 1, 0]</td>\n",
       "      <td>5</td>\n",
       "      <td>0.124646</td>\n",
       "      <td>...</td>\n",
       "      <td>-0.045096</td>\n",
       "      <td>0.023640</td>\n",
       "      <td>-0.045384</td>\n",
       "      <td>0.629947</td>\n",
       "      <td>0.096665</td>\n",
       "    </tr>\n",
       "    <tr>\n",
       "      <th>3</th>\n",
       "      <td>[-0.004147315, -0.014180049, -0.016550057, -0.017083425, -0.010863152, -0.0018686495, 0.006234308, 0.00725661, 0.005...</td>\n",
       "      <td>dog_bark</td>\n",
       "      <td>[0, 0, 0, 1, 0]</td>\n",
       "      <td>5</td>\n",
       "      <td>0.110741</td>\n",
       "      <td>...</td>\n",
       "      <td>-0.020052</td>\n",
       "      <td>0.024617</td>\n",
       "      <td>-0.025407</td>\n",
       "      <td>0.554764</td>\n",
       "      <td>-0.364067</td>\n",
       "    </tr>\n",
       "    <tr>\n",
       "      <th>4</th>\n",
       "      <td>[-0.047271818, -0.08598116, -0.08329079, -0.15244874, -0.21367016, -0.26584676, -0.19677721, -0.17195633, -0.0841544...</td>\n",
       "      <td>dog_bark</td>\n",
       "      <td>[0, 0, 0, 1, 0]</td>\n",
       "      <td>5</td>\n",
       "      <td>0.125728</td>\n",
       "      <td>...</td>\n",
       "      <td>-0.032483</td>\n",
       "      <td>0.024934</td>\n",
       "      <td>-0.036388</td>\n",
       "      <td>0.770805</td>\n",
       "      <td>0.232676</td>\n",
       "    </tr>\n",
       "    <tr>\n",
       "      <th>...</th>\n",
       "      <td>...</td>\n",
       "      <td>...</td>\n",
       "      <td>...</td>\n",
       "      <td>...</td>\n",
       "      <td>...</td>\n",
       "      <td>...</td>\n",
       "      <td>...</td>\n",
       "      <td>...</td>\n",
       "      <td>...</td>\n",
       "      <td>...</td>\n",
       "      <td>...</td>\n",
       "    </tr>\n",
       "    <tr>\n",
       "      <th>30501</th>\n",
       "      <td>[-0.024376377, -0.010054192, 0.0009410139, 0.005863713, -0.0005189497, -0.0021953415, 0.0013682423, -0.0043018945, -...</td>\n",
       "      <td>car_horn</td>\n",
       "      <td>[0, 1, 0, 0, 0]</td>\n",
       "      <td>7</td>\n",
       "      <td>0.012771</td>\n",
       "      <td>...</td>\n",
       "      <td>-0.066230</td>\n",
       "      <td>0.033488</td>\n",
       "      <td>-0.069738</td>\n",
       "      <td>0.175013</td>\n",
       "      <td>-0.974133</td>\n",
       "    </tr>\n",
       "    <tr>\n",
       "      <th>30502</th>\n",
       "      <td>[0.0066777063, 0.008175363, 0.006157635, 0.0026387093, 0.00059039844, 0.0030925209, 0.0033645788, 0.0056151543, 0.00...</td>\n",
       "      <td>car_horn</td>\n",
       "      <td>[0, 1, 0, 0, 0]</td>\n",
       "      <td>7</td>\n",
       "      <td>0.007954</td>\n",
       "      <td>...</td>\n",
       "      <td>-0.022097</td>\n",
       "      <td>0.021007</td>\n",
       "      <td>-0.018432</td>\n",
       "      <td>-0.690702</td>\n",
       "      <td>-0.099409</td>\n",
       "    </tr>\n",
       "    <tr>\n",
       "      <th>30503</th>\n",
       "      <td>[-0.0020232266, 0.001032982, 0.0023606261, 0.0017964527, 0.0009908059, -0.0011728329, -0.003362489, -0.0054453667, -...</td>\n",
       "      <td>car_horn</td>\n",
       "      <td>[0, 1, 0, 0, 0]</td>\n",
       "      <td>7</td>\n",
       "      <td>0.008383</td>\n",
       "      <td>...</td>\n",
       "      <td>-0.013611</td>\n",
       "      <td>0.021124</td>\n",
       "      <td>-0.016391</td>\n",
       "      <td>-0.028383</td>\n",
       "      <td>-1.071243</td>\n",
       "    </tr>\n",
       "    <tr>\n",
       "      <th>30504</th>\n",
       "      <td>[-0.0015619812, 0.0005301243, 0.0032789772, 0.002725502, 0.0023546133, -0.0019822496, -0.002666029, -0.004454969, -0...</td>\n",
       "      <td>car_horn</td>\n",
       "      <td>[0, 1, 0, 0, 0]</td>\n",
       "      <td>7</td>\n",
       "      <td>0.010459</td>\n",
       "      <td>...</td>\n",
       "      <td>-0.012274</td>\n",
       "      <td>0.027106</td>\n",
       "      <td>-0.017513</td>\n",
       "      <td>-0.121982</td>\n",
       "      <td>-0.606880</td>\n",
       "    </tr>\n",
       "    <tr>\n",
       "      <th>30505</th>\n",
       "      <td>[9.745802e-05, -0.003326854, -0.007318441, -0.0072634676, -0.0057516163, -0.0039380156, -0.0028245365, -0.000594039,...</td>\n",
       "      <td>car_horn</td>\n",
       "      <td>[0, 1, 0, 0, 0]</td>\n",
       "      <td>7</td>\n",
       "      <td>0.013639</td>\n",
       "      <td>...</td>\n",
       "      <td>-0.058342</td>\n",
       "      <td>0.038524</td>\n",
       "      <td>-0.054895</td>\n",
       "      <td>-0.195825</td>\n",
       "      <td>-1.209213</td>\n",
       "    </tr>\n",
       "  </tbody>\n",
       "</table>\n",
       "<p>30506 rows × 379 columns</p>\n",
       "</div>"
      ],
      "text/plain": [
       "                                                                                                                         Audio Class_categorical       Class_OHEV Fold      RMSE  ...  TONNETZ_6  TONNETZ_std_6  TONNETZ_median_6  TONNETZ_skew_6  TONNETZ_kurtosis_6\n",
       "0      [-0.0034710653, -0.0050192624, -0.004654482, -0.0049833283, -0.0038681468, -0.0023575649, -0.00025486574, 0.00135406...          dog_bark  [0, 0, 0, 1, 0]    5  0.117183  ...  -0.046177       0.025644         -0.046785        0.461191           -0.338882\n",
       "1      [-0.015428771, -0.0064468235, -0.002025701, -0.009768408, -0.020482529, -0.03246226, -0.046539657, -0.050950672, -0....          dog_bark  [0, 0, 0, 1, 0]    5  0.111724  ...  -0.026347       0.026433         -0.030688        0.414979           -0.840459\n",
       "2      [-0.17165461, -0.1961453, -0.2095497, -0.116395764, 0.02499168, 0.15181583, 0.2456393, 0.24304995, 0.1697193, 0.0706...          dog_bark  [0, 0, 0, 1, 0]    5  0.124646  ...  -0.045096       0.023640         -0.045384        0.629947            0.096665\n",
       "3      [-0.004147315, -0.014180049, -0.016550057, -0.017083425, -0.010863152, -0.0018686495, 0.006234308, 0.00725661, 0.005...          dog_bark  [0, 0, 0, 1, 0]    5  0.110741  ...  -0.020052       0.024617         -0.025407        0.554764           -0.364067\n",
       "4      [-0.047271818, -0.08598116, -0.08329079, -0.15244874, -0.21367016, -0.26584676, -0.19677721, -0.17195633, -0.0841544...          dog_bark  [0, 0, 0, 1, 0]    5  0.125728  ...  -0.032483       0.024934         -0.036388        0.770805            0.232676\n",
       "...                                                                                                                        ...               ...              ...  ...       ...  ...        ...            ...               ...             ...                 ...\n",
       "30501  [-0.024376377, -0.010054192, 0.0009410139, 0.005863713, -0.0005189497, -0.0021953415, 0.0013682423, -0.0043018945, -...          car_horn  [0, 1, 0, 0, 0]    7  0.012771  ...  -0.066230       0.033488         -0.069738        0.175013           -0.974133\n",
       "30502  [0.0066777063, 0.008175363, 0.006157635, 0.0026387093, 0.00059039844, 0.0030925209, 0.0033645788, 0.0056151543, 0.00...          car_horn  [0, 1, 0, 0, 0]    7  0.007954  ...  -0.022097       0.021007         -0.018432       -0.690702           -0.099409\n",
       "30503  [-0.0020232266, 0.001032982, 0.0023606261, 0.0017964527, 0.0009908059, -0.0011728329, -0.003362489, -0.0054453667, -...          car_horn  [0, 1, 0, 0, 0]    7  0.008383  ...  -0.013611       0.021124         -0.016391       -0.028383           -1.071243\n",
       "30504  [-0.0015619812, 0.0005301243, 0.0032789772, 0.002725502, 0.0023546133, -0.0019822496, -0.002666029, -0.004454969, -0...          car_horn  [0, 1, 0, 0, 0]    7  0.010459  ...  -0.012274       0.027106         -0.017513       -0.121982           -0.606880\n",
       "30505  [9.745802e-05, -0.003326854, -0.007318441, -0.0072634676, -0.0057516163, -0.0039380156, -0.0028245365, -0.000594039,...          car_horn  [0, 1, 0, 0, 0]    7  0.013639  ...  -0.058342       0.038524         -0.054895       -0.195825           -1.209213\n",
       "\n",
       "[30506 rows x 379 columns]"
      ]
     },
     "execution_count": 13,
     "metadata": {},
     "output_type": "execute_result"
    }
   ],
   "source": [
    "DB_from_pkl"
   ]
  },
  {
   "cell_type": "code",
   "execution_count": 14,
   "id": "5592d70f",
   "metadata": {},
   "outputs": [
    {
     "name": "stdout",
     "output_type": "stream",
     "text": [
      "Class_categorical       \n",
      "background         23139    [1, 0, 0, 0, 0]\n",
      "car_horn           25966    [0, 1, 0, 0, 0]\n",
      "children_playing   866      [0, 0, 1, 0, 0]\n",
      "dog_bark           18120    [0, 0, 0, 1, 0]\n",
      "siren              8909     [0, 0, 0, 0, 1]\n",
      "Name: Class_OHEV, dtype: object\n"
     ]
    },
    {
     "data": {
      "text/plain": [
       "{'background': array([1, 0, 0, 0, 0]),\n",
       " 'car_horn': array([0, 1, 0, 0, 0]),\n",
       " 'children_playing': array([0, 0, 1, 0, 0]),\n",
       " 'dog_bark': array([0, 0, 0, 1, 0]),\n",
       " 'siren': array([0, 0, 0, 0, 1])}"
      ]
     },
     "execution_count": 14,
     "metadata": {},
     "output_type": "execute_result"
    }
   ],
   "source": [
    "# Group by the class and get one random sample of each class\n",
    "k = DB_from_pkl.groupby('Class_categorical')['Class_OHEV'].apply(lambda s: s.sample(1))\n",
    "print(k)\n",
    "\n",
    "# Convert the pandas series into a dataframe\n",
    "temp_k_df = k.reset_index()\n",
    "\n",
    "# Delete the index from the grouppby result\n",
    "del temp_k_df['level_1']\n",
    "\n",
    "# Set the \"Class\" as the dataframe index\n",
    "temp_k_df.set_index(\"Class_categorical\", inplace=True)\n",
    "\n",
    "# Convert the dataframe to a dictionary (Class: Class_encoder)\n",
    "encoder_dict = temp_k_df[\"Class_OHEV\"].to_dict()\n",
    "encoder_dict"
   ]
  },
  {
   "cell_type": "code",
   "execution_count": 15,
   "id": "2d05be1c",
   "metadata": {},
   "outputs": [
    {
     "data": {
      "text/plain": [
       "['background', 'car_horn', 'children_playing', 'dog_bark', 'siren']"
      ]
     },
     "execution_count": 15,
     "metadata": {},
     "output_type": "execute_result"
    }
   ],
   "source": [
    "nom_classes = list(encoder_dict.keys())\n",
    "nom_classes"
   ]
  },
  {
   "cell_type": "markdown",
   "id": "d0504cb8",
   "metadata": {},
   "source": [
    "## ML Modeling"
   ]
  },
  {
   "cell_type": "code",
   "execution_count": 16,
   "id": "e8ae0b2a",
   "metadata": {},
   "outputs": [],
   "source": [
    "def get_mutual_info (X: list, X_val: list, X_norm: list, y: list):\n",
    "    \n",
    "    mutual_info = mutual_info_classif(X_norm, y)\n",
    "    mutual_info = pd.Series(mutual_info)\n",
    "    \n",
    "    threshold = np.mean(mutual_info.sort_values(ascending=False))\n",
    "    print(f' Threshold: {threshold}')\n",
    "    \n",
    "    count_mutual = sum(1 for element in mutual_info if element > threshold)\n",
    "    print(f' Count mutual: {count_mutual}\\n')\n",
    "    \n",
    "    chi2_selector    = SelectKBest(chi2, k=count_mutual).fit(X_norm, y)\n",
    "    mutual_idx_train = chi2_selector.get_support(1)\n",
    "    \n",
    "    X_mutual     = X[X.columns[mutual_idx_train]] # final features\n",
    "    X_val_mutual = X_val[X_val.columns[mutual_idx_train]] # final features\n",
    "\n",
    "    print(f'X_train_mutual...: {X_mutual.shape}')\n",
    "    print(f'X_val_mutual.....: {X_val_mutual.shape}\\n')\n",
    "\n",
    "    return X_mutual, X_val_mutual"
   ]
  },
  {
   "cell_type": "code",
   "execution_count": 17,
   "id": "73c4cf38",
   "metadata": {},
   "outputs": [],
   "source": [
    "# Plot the confusion matrix\n",
    "\n",
    "def plot_confusion_matrix(cm, labels, title, cmap, normalize):\n",
    "\n",
    "    if labels is not None:\n",
    "        tick_marks = np.arange(len(labels))\n",
    "        plt.xticks(tick_marks, labels, fontsize=10, rotation=45)\n",
    "        plt.yticks(tick_marks, labels, fontsize=10)\n",
    "   \n",
    "    if cmap is None:\n",
    "        cmap = plt.get_cmap('Blues')\n",
    "    \n",
    "    if normalize:\n",
    "        cm = cm.astype('float') / cm.sum(axis=1)[:, np.newaxis]\n",
    "\n",
    "    thresh = cm.max() / 1.5 if normalize else cm.max() / 2\n",
    "    \n",
    "    for i, j in itertools.product(range(cm.shape[0]), range(cm.shape[1])):\n",
    "        if normalize:\n",
    "            plt.text(j, i, \"{:0.4f}\".format(cm[i, j]),\n",
    "                     horizontalalignment=\"center\",\n",
    "                     color=\"white\" if cm[i, j] > thresh else \"black\", fontsize = 8)\n",
    "        else:\n",
    "            plt.text(j, i, \"{:,}\".format(cm[i, j]),\n",
    "                     horizontalalignment=\"center\",\n",
    "                     color=\"white\" if cm[i, j] > thresh else \"black\", fontsize = 8)\n",
    "\n",
    "    plt.imshow(cm, interpolation = 'nearest', cmap = cmap)\n",
    "    plt.title(title, fontsize=13)\n",
    "    plt.colorbar(shrink=1)\n",
    "    plt.ylabel('True label')\n",
    "    plt.xlabel('Predicted label')\n",
    "    plt.grid(None)\n",
    "    plt.tight_layout()"
   ]
  },
  {
   "cell_type": "code",
   "execution_count": 18,
   "id": "b1a186ee",
   "metadata": {},
   "outputs": [],
   "source": [
    "# Pipeline to run the classifiers and their metrics using k-fold stratification according to the dataset specification\n",
    "\n",
    "def model_classifiers(db: pd.DataFrame, \n",
    "                      scalerOpt: str, \n",
    "                      use_PCA = False,\n",
    "                      use_mutual = False):\n",
    "    \n",
    "    if use_PCA:\n",
    "        p = 2\n",
    "    else:\n",
    "        p = 1\n",
    "    \n",
    "    classifiers = ['Naïve Bayes', 'SVC', 'LogisticR', 'KNN', 'Forest', 'Voting']\n",
    "    \n",
    "    \n",
    "    NB_c          = GaussianNB()\n",
    "    SVC_c         = SVC(kernel = 'linear', C = 0.5, probability = True, random_state = SEED)\n",
    "    LogisticR_c   = LogisticRegression(solver = 'saga', max_iter = 500, C = 0.5, n_jobs = -1)\n",
    "    KNN_c         = KNeighborsClassifier(n_neighbors = 3, metric = 'minkowski', p = p, leaf_size = 20, n_jobs = -1)\n",
    "    forest_c      = RandomForestClassifier(n_estimators = 500, criterion = 'gini',bootstrap = True, n_jobs = -1)\n",
    "    voting_c      = VotingClassifier(estimators = [(classifiers[0], NB_c),\n",
    "                                                   (classifiers[1], SVC_c),\n",
    "                                                   (classifiers[2], LogisticR_c),\n",
    "                                                   (classifiers[3], KNN_c)],\n",
    "                                     voting = 'soft')\n",
    "    \n",
    "    dic_classifiers = {'GaussianNB': NB_c, \n",
    "                       'SVC': SVC_c, \n",
    "                       'LogisticR' : LogisticR_c, \n",
    "                       'KNN': KNN_c, \n",
    "                       'Forest': forest_c, \n",
    "                       'Voting': voting_c}\n",
    "\n",
    "    count       = 1\n",
    "    ratio       = []\n",
    "    models      = []\n",
    "    acc_set     = pd.DataFrame(index=None, columns=['Model',\n",
    "                                                    'Fold',\n",
    "                                                    'Accuracy(Train)',\n",
    "                                                    'Accuracy(Validation)',\n",
    "                                                    'F1(Train)',\n",
    "                                                    'F1(Validation)', \n",
    "                                                    'Precision(Train)',\n",
    "                                                    'Precision(Validation)', \n",
    "                                                    'Recall(Train)',\n",
    "                                                    'Recall(Validation)', \n",
    "                                                    'Conf_M',\n",
    "                                                    'Process_time'])\n",
    "    \n",
    "    for fold in np.unique(db['Fold']):\n",
    "        print(f\"Validation fold: {fold}\")\n",
    "    \n",
    "        DB_VAL = db[db['Fold'] == fold]\n",
    "        DB_TRN = db[db['Fold'] != fold]\n",
    "        \n",
    "        X      = DB_TRN.drop(columns=['Audio','Class_categorical','Class_OHEV', 'Fold'])\n",
    "        y      = np.array(DB_TRN.Class_categorical.to_list())\n",
    "        y_OHEV = np.array(DB_TRN.Class_OHEV.to_list())\n",
    "\n",
    "        X_val      = DB_VAL.drop(columns=['Audio','Class_categorical','Class_OHEV', 'Fold'])\n",
    "        y_val      = np.array(DB_VAL.Class_categorical.to_list())\n",
    "        y_OHEV_val = np.array(DB_VAL.Class_OHEV.to_list())\n",
    "\n",
    "        X_statistics = pd.DataFrame({'mean': X.mean(), 'std': X.std(), 'min': X.min(), 'max': X.max()})\n",
    "\n",
    "        X_mean   = X_statistics.values[:, 0]\n",
    "        X_std    = X_statistics.values[:, 1]\n",
    "        X_min    = X_statistics.values[:, 2]\n",
    "        X_max    = X_statistics.values[:, 3]\n",
    "        \n",
    "        if scalerOpt == \"normalization\":\n",
    "            X_train_norm = (X.values - X_min) / (X_max - X_min)\n",
    "            X_val_norm   = (X_val.values - X_min) / (X_max - X_min)\n",
    "            batch_type    = '_norm'\n",
    "            print(f'X_train_norm shape...:{X_train_norm.shape}')\n",
    "            print(f'X_val_norm shape.....:{X_val_norm.shape}\\n')\n",
    "            \n",
    "        elif scalerOpt == \"standardization\":\n",
    "            X_train_norm = (X.values - X_mean) / X_std\n",
    "            X_val_norm   = (X_val.values - X_mean) / X_std\n",
    "            batch_type    = '_std'\n",
    "            print(f'X_train_norm shape...:{X_train_norm.shape}')\n",
    "            print(f'X_val_norm shape.....:{X_val_norm.shape}\\n')\n",
    "            \n",
    "        else:\n",
    "            sys.exit()\n",
    "            \n",
    "        if use_mutual:\n",
    "            if scalerOpt == \"standardization\":\n",
    "                print(f'Mutual information requires normalization!')\n",
    "                sys.exit()\n",
    "            else:\n",
    "                X_train_norm, X_val_norm = get_mutual_info(X, X_val, X_train_norm, y)\n",
    "                classifiers = ['Forest']\n",
    "                dic_classifiers = {'Forest': forest_c}\n",
    "                batch_type    = batch_type + '_mutual'\n",
    "   \n",
    "        if use_PCA:\n",
    "            pcaT = PCA()\n",
    "            pcaT.fit(X_train_norm)\n",
    "            ratio = pcaT.explained_variance_ratio_\n",
    "            \n",
    "            batch_type = batch_type + '_PCA'\n",
    "            \n",
    "            T           = 0.98\n",
    "            current_sum = 0\n",
    "            countComp   = 0\n",
    "\n",
    "            for element in ratio:\n",
    "                current_sum += element\n",
    "                countComp   += 1\n",
    "\n",
    "                if current_sum >= T:\n",
    "                    break\n",
    "\n",
    "            # Print the result\n",
    "            print(f'Sum of elements............: {current_sum}')\n",
    "            print(f'Number of elements summed..: {countComp}\\n')           \n",
    "            \n",
    "            pca          = PCA(n_components = countComp)\n",
    "            X_train_norm = pca.fit_transform(X_train_norm)\n",
    "            X_val_norm   = pca.transform(X_val_norm)\n",
    "            \n",
    "       \n",
    "        for c in tqdm(dic_classifiers.items()):\n",
    "            \n",
    "            name         = c[0]\n",
    "            model_name   = ('Model_' + c[0] + '_' + str(count))\n",
    "            count        = count + 1\n",
    "            model        = c[1]\n",
    "            print(name)\n",
    "            print(model)\n",
    "            print(X_train_norm.shape)\n",
    "            \n",
    "            # Fitting the model to the classifier\n",
    "            model.fit(X_train_norm, y)\n",
    "\n",
    "            # Get the model predictions\n",
    "            y_train_predicted = model.predict(X_train_norm)\n",
    "            \n",
    "            t_srt             = time.process_time_ns()\n",
    "            y_val_predicited  = model.predict(X_val_norm)\n",
    "            t_end             = time.process_time_ns()\n",
    "            proc_time         = ((t_end - t_srt) / 1000000)\n",
    "\n",
    "            # Compute the classifier metrics\n",
    "            accuracy_train = metrics.accuracy_score(y, y_train_predicted)\n",
    "            accuracy_val   = metrics.accuracy_score(y_val,  y_val_predicited)\n",
    "            \n",
    "            f1_Score_train = metrics.f1_score(y, y_train_predicted, average = 'weighted')\n",
    "            f1_Score_val   = metrics.f1_score(y_val,  y_val_predicited, average = 'weighted')\n",
    "\n",
    "            precision_score_train = metrics.precision_score(y, y_train_predicted, average = 'weighted')\n",
    "            precision_score_val   = metrics.precision_score(y_val,  y_val_predicited, average = 'weighted')\n",
    "\n",
    "            recall_score_train = metrics.recall_score(y, y_train_predicted, average = 'weighted')\n",
    "            recall_score_val   = metrics.recall_score(y_val,  y_val_predicited, average = 'weighted')\n",
    "\n",
    "            class_report_val = classification_report(y_val, y_val_predicited)\n",
    "            print(class_report_val)\n",
    "            \n",
    "            # Compute the confusion matrix\n",
    "            CM = metrics.confusion_matrix(y_val, y_val_predicited)\n",
    "\n",
    "            # Store the name, validation accuracy results and model\n",
    "            models.append((name, accuracy_val, model))\n",
    "            \n",
    "            del model\n",
    "                    \n",
    "            acc_set = pd.concat([acc_set, pd.DataFrame({'Model': [name],\n",
    "                                                        'Fold': [fold],\n",
    "                                                        'Accuracy(Train)': [accuracy_train],\n",
    "                                                        'Accuracy(Validation)': [accuracy_val],\n",
    "                                                        'F1(Train)': [f1_Score_train],\n",
    "                                                        'F1(Validation)': [f1_Score_val],\n",
    "                                                        'Precision(Train)': [precision_score_train],\n",
    "                                                        'Precision(Validation)': [precision_score_val],\n",
    "                                                        'Recall(Train)': [recall_score_train],\n",
    "                                                        'Recall(Validation)': [recall_score_val],\n",
    "                                                        'Conf_M': [CM],\n",
    "                                                        'Process_time': [proc_time]})], ignore_index = True)\n",
    "                   \n",
    "    return acc_set, models, ratio, batch_type"
   ]
  },
  {
   "cell_type": "code",
   "execution_count": 19,
   "id": "358bab9c",
   "metadata": {},
   "outputs": [
    {
     "name": "stdout",
     "output_type": "stream",
     "text": [
      "Validation fold: 1\n",
      "X_train_norm shape...:(27496, 375)\n",
      "X_val_norm shape.....:(3010, 375)\n",
      "\n",
      " Threshold: 0.10762756199409233\n",
      " Count mutual: 204\n",
      "\n",
      "X_train_mutual...: (27496, 204)\n",
      "X_val_mutual.....: (3010, 204)\n",
      "\n"
     ]
    },
    {
     "name": "stderr",
     "output_type": "stream",
     "text": [
      "\r",
      "  0%|                                                                                            | 0/1 [00:00<?, ?it/s]"
     ]
    },
    {
     "name": "stdout",
     "output_type": "stream",
     "text": [
      "Forest\n",
      "RandomForestClassifier(n_estimators=500, n_jobs=-1)\n",
      "(27496, 204)\n"
     ]
    },
    {
     "name": "stderr",
     "output_type": "stream",
     "text": [
      "100%|████████████████████████████████████████████████████████████████████████████████████| 1/1 [01:11<00:00, 71.67s/it]"
     ]
    },
    {
     "name": "stdout",
     "output_type": "stream",
     "text": [
      "                  precision    recall  f1-score   support\n",
      "\n",
      "      background       0.77      0.74      0.76       756\n",
      "        car_horn       0.84      0.77      0.80       252\n",
      "children_playing       0.71      0.84      0.77       700\n",
      "        dog_bark       0.81      0.82      0.81       700\n",
      "           siren       0.92      0.77      0.84       602\n",
      "\n",
      "        accuracy                           0.79      3010\n",
      "       macro avg       0.81      0.79      0.80      3010\n",
      "    weighted avg       0.80      0.79      0.79      3010\n",
      "\n",
      "Validation fold: 10\n"
     ]
    },
    {
     "name": "stderr",
     "output_type": "stream",
     "text": [
      "\n"
     ]
    },
    {
     "name": "stdout",
     "output_type": "stream",
     "text": [
      "X_train_norm shape...:(27573, 375)\n",
      "X_val_norm shape.....:(2933, 375)\n",
      "\n",
      " Threshold: 0.11083259333976928\n",
      " Count mutual: 204\n",
      "\n",
      "X_train_mutual...: (27573, 204)\n",
      "X_val_mutual.....: (2933, 204)\n",
      "\n"
     ]
    },
    {
     "name": "stderr",
     "output_type": "stream",
     "text": [
      "\r",
      "  0%|                                                                                            | 0/1 [00:00<?, ?it/s]"
     ]
    },
    {
     "name": "stdout",
     "output_type": "stream",
     "text": [
      "Forest\n",
      "RandomForestClassifier(n_estimators=500, n_jobs=-1)\n",
      "(27573, 204)\n"
     ]
    },
    {
     "name": "stderr",
     "output_type": "stream",
     "text": [
      "100%|████████████████████████████████████████████████████████████████████████████████████| 1/1 [01:11<00:00, 71.47s/it]"
     ]
    },
    {
     "name": "stdout",
     "output_type": "stream",
     "text": [
      "                  precision    recall  f1-score   support\n",
      "\n",
      "      background       0.85      0.89      0.87       721\n",
      "        car_horn       0.96      0.69      0.80       231\n",
      "children_playing       0.57      0.87      0.69       700\n",
      "        dog_bark       0.85      0.74      0.79       700\n",
      "           siren       0.67      0.40      0.50       581\n",
      "\n",
      "        accuracy                           0.74      2933\n",
      "       macro avg       0.78      0.72      0.73      2933\n",
      "    weighted avg       0.76      0.74      0.73      2933\n",
      "\n",
      "Validation fold: 2\n"
     ]
    },
    {
     "name": "stderr",
     "output_type": "stream",
     "text": [
      "\n"
     ]
    },
    {
     "name": "stdout",
     "output_type": "stream",
     "text": [
      "X_train_norm shape...:(27503, 375)\n",
      "X_val_norm shape.....:(3003, 375)\n",
      "\n",
      " Threshold: 0.11068853430405833\n",
      " Count mutual: 200\n",
      "\n",
      "X_train_mutual...: (27503, 200)\n",
      "X_val_mutual.....: (3003, 200)\n",
      "\n"
     ]
    },
    {
     "name": "stderr",
     "output_type": "stream",
     "text": [
      "\r",
      "  0%|                                                                                            | 0/1 [00:00<?, ?it/s]"
     ]
    },
    {
     "name": "stdout",
     "output_type": "stream",
     "text": [
      "Forest\n",
      "RandomForestClassifier(n_estimators=500, n_jobs=-1)\n",
      "(27503, 200)\n"
     ]
    },
    {
     "name": "stderr",
     "output_type": "stream",
     "text": [
      "100%|████████████████████████████████████████████████████████████████████████████████████| 1/1 [01:11<00:00, 71.64s/it]"
     ]
    },
    {
     "name": "stdout",
     "output_type": "stream",
     "text": [
      "                  precision    recall  f1-score   support\n",
      "\n",
      "      background       0.81      0.80      0.81       672\n",
      "        car_horn       0.85      0.29      0.44       294\n",
      "children_playing       0.59      0.91      0.72       700\n",
      "        dog_bark       0.86      0.86      0.86       700\n",
      "           siren       0.82      0.57      0.67       637\n",
      "\n",
      "        accuracy                           0.74      3003\n",
      "       macro avg       0.79      0.69      0.70      3003\n",
      "    weighted avg       0.78      0.74      0.73      3003\n",
      "\n",
      "Validation fold: 3\n"
     ]
    },
    {
     "name": "stderr",
     "output_type": "stream",
     "text": [
      "\n"
     ]
    },
    {
     "name": "stdout",
     "output_type": "stream",
     "text": [
      "X_train_norm shape...:(27132, 375)\n",
      "X_val_norm shape.....:(3374, 375)\n",
      "\n",
      " Threshold: 0.11047889904825874\n",
      " Count mutual: 205\n",
      "\n",
      "X_train_mutual...: (27132, 205)\n",
      "X_val_mutual.....: (3374, 205)\n",
      "\n"
     ]
    },
    {
     "name": "stderr",
     "output_type": "stream",
     "text": [
      "\r",
      "  0%|                                                                                            | 0/1 [00:00<?, ?it/s]"
     ]
    },
    {
     "name": "stdout",
     "output_type": "stream",
     "text": [
      "Forest\n",
      "RandomForestClassifier(n_estimators=500, n_jobs=-1)\n",
      "(27132, 205)\n"
     ]
    },
    {
     "name": "stderr",
     "output_type": "stream",
     "text": [
      "100%|████████████████████████████████████████████████████████████████████████████████████| 1/1 [01:09<00:00, 69.71s/it]"
     ]
    },
    {
     "name": "stdout",
     "output_type": "stream",
     "text": [
      "                  precision    recall  f1-score   support\n",
      "\n",
      "      background       0.66      0.82      0.73       840\n",
      "        car_horn       0.97      0.92      0.94       301\n",
      "children_playing       0.74      0.86      0.79       700\n",
      "        dog_bark       0.89      0.74      0.81       700\n",
      "           siren       0.87      0.69      0.77       833\n",
      "\n",
      "        accuracy                           0.79      3374\n",
      "       macro avg       0.83      0.80      0.81      3374\n",
      "    weighted avg       0.80      0.79      0.79      3374\n",
      "\n",
      "Validation fold: 4\n"
     ]
    },
    {
     "name": "stderr",
     "output_type": "stream",
     "text": [
      "\n"
     ]
    },
    {
     "name": "stdout",
     "output_type": "stream",
     "text": [
      "X_train_norm shape...:(26733, 375)\n",
      "X_val_norm shape.....:(3773, 375)\n",
      "\n",
      " Threshold: 0.11533239039357507\n",
      " Count mutual: 206\n",
      "\n",
      "X_train_mutual...: (26733, 206)\n",
      "X_val_mutual.....: (3773, 206)\n",
      "\n"
     ]
    },
    {
     "name": "stderr",
     "output_type": "stream",
     "text": [
      "\r",
      "  0%|                                                                                            | 0/1 [00:00<?, ?it/s]"
     ]
    },
    {
     "name": "stdout",
     "output_type": "stream",
     "text": [
      "Forest\n",
      "RandomForestClassifier(n_estimators=500, n_jobs=-1)\n",
      "(26733, 206)\n"
     ]
    },
    {
     "name": "stderr",
     "output_type": "stream",
     "text": [
      "100%|████████████████████████████████████████████████████████████████████████████████████| 1/1 [01:10<00:00, 70.43s/it]"
     ]
    },
    {
     "name": "stdout",
     "output_type": "stream",
     "text": [
      "                  precision    recall  f1-score   support\n",
      "\n",
      "      background       0.66      0.80      0.73       798\n",
      "        car_horn       0.94      0.43      0.59       413\n",
      "children_playing       0.66      0.69      0.68       700\n",
      "        dog_bark       0.76      0.88      0.82       700\n",
      "           siren       0.90      0.83      0.86      1162\n",
      "\n",
      "        accuracy                           0.76      3773\n",
      "       macro avg       0.78      0.73      0.73      3773\n",
      "    weighted avg       0.78      0.76      0.76      3773\n",
      "\n",
      "Validation fold: 5\n"
     ]
    },
    {
     "name": "stderr",
     "output_type": "stream",
     "text": [
      "\n"
     ]
    },
    {
     "name": "stdout",
     "output_type": "stream",
     "text": [
      "X_train_norm shape...:(27230, 375)\n",
      "X_val_norm shape.....:(3276, 375)\n",
      "\n",
      " Threshold: 0.11063312371681618\n",
      " Count mutual: 204\n",
      "\n",
      "X_train_mutual...: (27230, 204)\n",
      "X_val_mutual.....: (3276, 204)\n",
      "\n"
     ]
    },
    {
     "name": "stderr",
     "output_type": "stream",
     "text": [
      "\r",
      "  0%|                                                                                            | 0/1 [00:00<?, ?it/s]"
     ]
    },
    {
     "name": "stdout",
     "output_type": "stream",
     "text": [
      "Forest\n",
      "RandomForestClassifier(n_estimators=500, n_jobs=-1)\n",
      "(27230, 204)\n"
     ]
    },
    {
     "name": "stderr",
     "output_type": "stream",
     "text": [
      "100%|████████████████████████████████████████████████████████████████████████████████████| 1/1 [01:11<00:00, 71.06s/it]"
     ]
    },
    {
     "name": "stdout",
     "output_type": "stream",
     "text": [
      "                  precision    recall  f1-score   support\n",
      "\n",
      "      background       0.59      0.83      0.69       693\n",
      "        car_horn       0.97      0.63      0.76       686\n",
      "children_playing       0.71      0.71      0.71       700\n",
      "        dog_bark       0.74      0.74      0.74       700\n",
      "           siren       0.82      0.76      0.79       497\n",
      "\n",
      "        accuracy                           0.73      3276\n",
      "       macro avg       0.77      0.74      0.74      3276\n",
      "    weighted avg       0.76      0.73      0.74      3276\n",
      "\n",
      "Validation fold: 6\n"
     ]
    },
    {
     "name": "stderr",
     "output_type": "stream",
     "text": [
      "\n"
     ]
    },
    {
     "name": "stdout",
     "output_type": "stream",
     "text": [
      "X_train_norm shape...:(27706, 375)\n",
      "X_val_norm shape.....:(2800, 375)\n",
      "\n",
      " Threshold: 0.11106739312228185\n",
      " Count mutual: 201\n",
      "\n",
      "X_train_mutual...: (27706, 201)\n",
      "X_val_mutual.....: (2800, 201)\n",
      "\n"
     ]
    },
    {
     "name": "stderr",
     "output_type": "stream",
     "text": [
      "\r",
      "  0%|                                                                                            | 0/1 [00:00<?, ?it/s]"
     ]
    },
    {
     "name": "stdout",
     "output_type": "stream",
     "text": [
      "Forest\n",
      "RandomForestClassifier(n_estimators=500, n_jobs=-1)\n",
      "(27706, 201)\n"
     ]
    },
    {
     "name": "stderr",
     "output_type": "stream",
     "text": [
      "100%|████████████████████████████████████████████████████████████████████████████████████| 1/1 [01:11<00:00, 71.69s/it]"
     ]
    },
    {
     "name": "stdout",
     "output_type": "stream",
     "text": [
      "                  precision    recall  f1-score   support\n",
      "\n",
      "      background       0.65      0.87      0.74       686\n",
      "        car_horn       0.97      0.65      0.78       196\n",
      "children_playing       0.73      0.84      0.78       700\n",
      "        dog_bark       0.86      0.72      0.78       700\n",
      "           siren       0.92      0.64      0.76       518\n",
      "\n",
      "        accuracy                           0.77      2800\n",
      "       macro avg       0.83      0.74      0.77      2800\n",
      "    weighted avg       0.79      0.77      0.77      2800\n",
      "\n",
      "Validation fold: 7\n"
     ]
    },
    {
     "name": "stderr",
     "output_type": "stream",
     "text": [
      "\n"
     ]
    },
    {
     "name": "stdout",
     "output_type": "stream",
     "text": [
      "X_train_norm shape...:(27671, 375)\n",
      "X_val_norm shape.....:(2835, 375)\n",
      "\n",
      " Threshold: 0.11314889533800833\n",
      " Count mutual: 206\n",
      "\n",
      "X_train_mutual...: (27671, 206)\n",
      "X_val_mutual.....: (2835, 206)\n",
      "\n"
     ]
    },
    {
     "name": "stderr",
     "output_type": "stream",
     "text": [
      "\r",
      "  0%|                                                                                            | 0/1 [00:00<?, ?it/s]"
     ]
    },
    {
     "name": "stdout",
     "output_type": "stream",
     "text": [
      "Forest\n",
      "RandomForestClassifier(n_estimators=500, n_jobs=-1)\n",
      "(27671, 206)\n"
     ]
    },
    {
     "name": "stderr",
     "output_type": "stream",
     "text": [
      "100%|████████████████████████████████████████████████████████████████████████████████████| 1/1 [01:12<00:00, 72.05s/it]"
     ]
    },
    {
     "name": "stdout",
     "output_type": "stream",
     "text": [
      "                  precision    recall  f1-score   support\n",
      "\n",
      "      background       0.63      0.71      0.67       700\n",
      "        car_horn       0.87      0.43      0.57       196\n",
      "children_playing       0.67      0.79      0.72       700\n",
      "        dog_bark       0.87      0.84      0.85       700\n",
      "           siren       0.73      0.59      0.66       539\n",
      "\n",
      "        accuracy                           0.72      2835\n",
      "       macro avg       0.75      0.67      0.70      2835\n",
      "    weighted avg       0.73      0.72      0.72      2835\n",
      "\n",
      "Validation fold: 8\n"
     ]
    },
    {
     "name": "stderr",
     "output_type": "stream",
     "text": [
      "\n"
     ]
    },
    {
     "name": "stdout",
     "output_type": "stream",
     "text": [
      "X_train_norm shape...:(27776, 375)\n",
      "X_val_norm shape.....:(2730, 375)\n",
      "\n",
      " Threshold: 0.10897163119138233\n",
      " Count mutual: 202\n",
      "\n",
      "X_train_mutual...: (27776, 202)\n",
      "X_val_mutual.....: (2730, 202)\n",
      "\n"
     ]
    },
    {
     "name": "stderr",
     "output_type": "stream",
     "text": [
      "\r",
      "  0%|                                                                                            | 0/1 [00:00<?, ?it/s]"
     ]
    },
    {
     "name": "stdout",
     "output_type": "stream",
     "text": [
      "Forest\n",
      "RandomForestClassifier(n_estimators=500, n_jobs=-1)\n",
      "(27776, 202)\n"
     ]
    },
    {
     "name": "stderr",
     "output_type": "stream",
     "text": [
      "100%|████████████████████████████████████████████████████████████████████████████████████| 1/1 [01:12<00:00, 72.95s/it]"
     ]
    },
    {
     "name": "stdout",
     "output_type": "stream",
     "text": [
      "                  precision    recall  f1-score   support\n",
      "\n",
      "      background       0.54      0.82      0.65       560\n",
      "        car_horn       0.97      0.88      0.92       210\n",
      "children_playing       0.73      0.70      0.71       700\n",
      "        dog_bark       0.84      0.72      0.77       700\n",
      "           siren       0.80      0.59      0.68       560\n",
      "\n",
      "        accuracy                           0.72      2730\n",
      "       macro avg       0.77      0.74      0.75      2730\n",
      "    weighted avg       0.75      0.72      0.72      2730\n",
      "\n",
      "Validation fold: 9\n"
     ]
    },
    {
     "name": "stderr",
     "output_type": "stream",
     "text": [
      "\n"
     ]
    },
    {
     "name": "stdout",
     "output_type": "stream",
     "text": [
      "X_train_norm shape...:(27734, 375)\n",
      "X_val_norm shape.....:(2772, 375)\n",
      "\n",
      " Threshold: 0.10717792197111309\n",
      " Count mutual: 202\n",
      "\n",
      "X_train_mutual...: (27734, 202)\n",
      "X_val_mutual.....: (2772, 202)\n",
      "\n"
     ]
    },
    {
     "name": "stderr",
     "output_type": "stream",
     "text": [
      "\r",
      "  0%|                                                                                            | 0/1 [00:00<?, ?it/s]"
     ]
    },
    {
     "name": "stdout",
     "output_type": "stream",
     "text": [
      "Forest\n",
      "RandomForestClassifier(n_estimators=500, n_jobs=-1)\n",
      "(27734, 202)\n"
     ]
    },
    {
     "name": "stderr",
     "output_type": "stream",
     "text": [
      "100%|████████████████████████████████████████████████████████████████████████████████████| 1/1 [01:12<00:00, 72.34s/it]"
     ]
    },
    {
     "name": "stdout",
     "output_type": "stream",
     "text": [
      "                  precision    recall  f1-score   support\n",
      "\n",
      "      background       0.78      0.86      0.82       574\n",
      "        car_horn       0.94      0.84      0.89       224\n",
      "children_playing       0.74      0.72      0.73       700\n",
      "        dog_bark       0.72      0.68      0.70       700\n",
      "           siren       0.90      0.94      0.92       574\n",
      "\n",
      "        accuracy                           0.79      2772\n",
      "       macro avg       0.82      0.81      0.81      2772\n",
      "    weighted avg       0.79      0.79      0.79      2772\n",
      "\n"
     ]
    },
    {
     "name": "stderr",
     "output_type": "stream",
     "text": [
      "\n"
     ]
    }
   ],
   "source": [
    "# Option for scalerOpt is either \"normalization\" or \"standardization\"\n",
    "\n",
    "# PCA with mutual is ilogical, results will be useless\n",
    "# Mutual does not work with negative numbers, therefore \"standardization\" returns an error\n",
    "# Mutual will trigger only Random Forest\n",
    "\n",
    "metrics_set, models_set,  ratio, batch_name = model_classifiers(DB_from_pkl,\n",
    "                                                                scalerOpt = 'normalization',\n",
    "                                                                use_PCA = False,\n",
    "                                                                use_mutual = True)"
   ]
  },
  {
   "cell_type": "code",
   "execution_count": 20,
   "id": "3674816b",
   "metadata": {},
   "outputs": [
    {
     "data": {
      "text/plain": [
       "'_norm_mutual'"
      ]
     },
     "execution_count": 20,
     "metadata": {},
     "output_type": "execute_result"
    }
   ],
   "source": [
    "batch_name"
   ]
  },
  {
   "cell_type": "markdown",
   "id": "73169e4d",
   "metadata": {},
   "source": [
    "## Metrics for the classifiers\n",
    "\n",
    "\n",
    "1. Accuracy: Accuracy is a measure of how many correct predictions a model makes overall, i.e., the ratio of correct predictions to the total number of predictions. It's a commonly used metric for evaluating models, but it may not be suitable in certain situations.\n",
    "\n",
    "2. Precision: Precision measures the ratio of true positives (correctly predicted positive instances) to all instances predicted as positive. It focuses on the accuracy of positive predictions.\n",
    "\n",
    "3. Recall: Recall, also known as sensitivity or true positive rate, measures the ratio of true positives to all actual positive instances. It focuses on how well a model captures all the positive instances.\n",
    "\n",
    "4. F1 Score: The F1 score is the harmonic mean of precision and recall. It provides a balanced measure that takes into account both false positives and false negatives. The F1 score is especially useful when you want to strike a balance between precision and recall.\n",
    "\n",
    "\n",
    "The F1 score is a metric that combines precision and recall, and it is particularly useful in situations where class imbalance or unequal misclassification costs are present. In such contexts, the F1 score can be more informative and meaningful than accuracy.\n",
    "\n",
    "A context where considering the F1 score makes more sense than accuracy:\n",
    "\n",
    "**Medical Diagnosis:**\n",
    "\n",
    "Imagine you're developing a model to diagnose a rare disease, and only 5% of the population has this disease. In this case, you have a significant class imbalance, where the majority of cases are negative (non-disease) and only a small fraction are positive (disease). If you were to use accuracy as the evaluation metric, the model could achieve a high accuracy by simply predicting \"negative\" for every case, because it would be correct 95% of the time due to the class imbalance. However, this would be entirely useless for detecting the actual disease.\n",
    "\n",
    "In this scenario, you'd be more interested in the F1 score. The F1 score considers both precision and recall, helping you find a balance between correctly identifying the disease (high recall) and not making too many false positive predictions (high precision). A high F1 score in this context indicates that your model is effective at correctly identifying the disease while minimizing false alarms."
   ]
  },
  {
   "cell_type": "code",
   "execution_count": 21,
   "id": "3e2c20ac",
   "metadata": {},
   "outputs": [
    {
     "data": {
      "text/html": [
       "<div>\n",
       "<style scoped>\n",
       "    .dataframe tbody tr th:only-of-type {\n",
       "        vertical-align: middle;\n",
       "    }\n",
       "\n",
       "    .dataframe tbody tr th {\n",
       "        vertical-align: top;\n",
       "    }\n",
       "\n",
       "    .dataframe thead th {\n",
       "        text-align: right;\n",
       "    }\n",
       "</style>\n",
       "<table border=\"1\" class=\"dataframe\">\n",
       "  <thead>\n",
       "    <tr style=\"text-align: right;\">\n",
       "      <th></th>\n",
       "      <th>Model</th>\n",
       "      <th>Fold</th>\n",
       "      <th>Accuracy(Train)</th>\n",
       "      <th>Accuracy(Validation)</th>\n",
       "      <th>F1(Train)</th>\n",
       "      <th>...</th>\n",
       "      <th>Precision(Validation)</th>\n",
       "      <th>Recall(Train)</th>\n",
       "      <th>Recall(Validation)</th>\n",
       "      <th>Conf_M</th>\n",
       "      <th>Process_time</th>\n",
       "    </tr>\n",
       "  </thead>\n",
       "  <tbody>\n",
       "    <tr>\n",
       "      <th>0</th>\n",
       "      <td>Forest</td>\n",
       "      <td>1</td>\n",
       "      <td>1.0</td>\n",
       "      <td>0.791362</td>\n",
       "      <td>1.0</td>\n",
       "      <td>...</td>\n",
       "      <td>0.798954</td>\n",
       "      <td>1.0</td>\n",
       "      <td>0.791362</td>\n",
       "      <td>[[563, 9, 95, 69, 20], [49, 194, 5, 0, 4], [37, 0, 586, 62, 15], [16, 28, 76, 577, 3], [68, 0, 64, 8, 462]]</td>\n",
       "      <td>406.250</td>\n",
       "    </tr>\n",
       "    <tr>\n",
       "      <th>1</th>\n",
       "      <td>Forest</td>\n",
       "      <td>10</td>\n",
       "      <td>1.0</td>\n",
       "      <td>0.735424</td>\n",
       "      <td>1.0</td>\n",
       "      <td>...</td>\n",
       "      <td>0.757484</td>\n",
       "      <td>1.0</td>\n",
       "      <td>0.735424</td>\n",
       "      <td>[[640, 5, 46, 5, 25], [43, 160, 28, 0, 0], [5, 0, 606, 44, 45], [14, 0, 124, 520, 42], [47, 2, 256, 45, 231]]</td>\n",
       "      <td>453.125</td>\n",
       "    </tr>\n",
       "    <tr>\n",
       "      <th>2</th>\n",
       "      <td>Forest</td>\n",
       "      <td>2</td>\n",
       "      <td>1.0</td>\n",
       "      <td>0.743923</td>\n",
       "      <td>1.0</td>\n",
       "      <td>...</td>\n",
       "      <td>0.775727</td>\n",
       "      <td>1.0</td>\n",
       "      <td>0.743923</td>\n",
       "      <td>[[539, 7, 77, 21, 28], [19, 86, 131, 21, 37], [44, 0, 640, 6, 10], [17, 7, 66, 604, 6], [46, 1, 174, 51, 365]]</td>\n",
       "      <td>328.125</td>\n",
       "    </tr>\n",
       "    <tr>\n",
       "      <th>3</th>\n",
       "      <td>Forest</td>\n",
       "      <td>3</td>\n",
       "      <td>1.0</td>\n",
       "      <td>0.786900</td>\n",
       "      <td>1.0</td>\n",
       "      <td>...</td>\n",
       "      <td>0.804245</td>\n",
       "      <td>1.0</td>\n",
       "      <td>0.786900</td>\n",
       "      <td>[[685, 9, 109, 6, 31], [20, 276, 0, 4, 1], [28, 1, 599, 51, 21], [59, 0, 92, 519, 30], [240, 0, 12, 5, 576]]</td>\n",
       "      <td>421.875</td>\n",
       "    </tr>\n",
       "    <tr>\n",
       "      <th>4</th>\n",
       "      <td>Forest</td>\n",
       "      <td>4</td>\n",
       "      <td>1.0</td>\n",
       "      <td>0.763848</td>\n",
       "      <td>1.0</td>\n",
       "      <td>...</td>\n",
       "      <td>0.784014</td>\n",
       "      <td>1.0</td>\n",
       "      <td>0.763848</td>\n",
       "      <td>[[642, 11, 79, 23, 43], [167, 176, 15, 29, 26], [122, 0, 486, 79, 13], [12, 0, 50, 617, 21], [28, 0, 109, 64, 961]]</td>\n",
       "      <td>390.625</td>\n",
       "    </tr>\n",
       "    <tr>\n",
       "      <th>5</th>\n",
       "      <td>Forest</td>\n",
       "      <td>5</td>\n",
       "      <td>1.0</td>\n",
       "      <td>0.733516</td>\n",
       "      <td>1.0</td>\n",
       "      <td>...</td>\n",
       "      <td>0.763320</td>\n",
       "      <td>1.0</td>\n",
       "      <td>0.733516</td>\n",
       "      <td>[[575, 0, 67, 34, 17], [207, 433, 23, 0, 23], [103, 0, 499, 62, 36], [67, 0, 108, 516, 9], [17, 14, 4, 82, 380]]</td>\n",
       "      <td>453.125</td>\n",
       "    </tr>\n",
       "    <tr>\n",
       "      <th>6</th>\n",
       "      <td>Forest</td>\n",
       "      <td>6</td>\n",
       "      <td>1.0</td>\n",
       "      <td>0.766786</td>\n",
       "      <td>1.0</td>\n",
       "      <td>...</td>\n",
       "      <td>0.794928</td>\n",
       "      <td>1.0</td>\n",
       "      <td>0.766786</td>\n",
       "      <td>[[595, 1, 54, 26, 10], [53, 127, 16, 0, 0], [54, 0, 588, 46, 12], [65, 0, 124, 503, 8], [148, 3, 26, 7, 334]]</td>\n",
       "      <td>593.750</td>\n",
       "    </tr>\n",
       "    <tr>\n",
       "      <th>7</th>\n",
       "      <td>Forest</td>\n",
       "      <td>7</td>\n",
       "      <td>1.0</td>\n",
       "      <td>0.721340</td>\n",
       "      <td>1.0</td>\n",
       "      <td>...</td>\n",
       "      <td>0.733442</td>\n",
       "      <td>1.0</td>\n",
       "      <td>0.721340</td>\n",
       "      <td>[[498, 5, 123, 18, 56], [30, 84, 57, 16, 9], [104, 8, 556, 23, 9], [13, 0, 58, 587, 42], [144, 0, 41, 34, 320]]</td>\n",
       "      <td>390.625</td>\n",
       "    </tr>\n",
       "    <tr>\n",
       "      <th>8</th>\n",
       "      <td>Forest</td>\n",
       "      <td>8</td>\n",
       "      <td>1.0</td>\n",
       "      <td>0.720513</td>\n",
       "      <td>1.0</td>\n",
       "      <td>...</td>\n",
       "      <td>0.750896</td>\n",
       "      <td>1.0</td>\n",
       "      <td>0.720513</td>\n",
       "      <td>[[458, 0, 57, 14, 31], [8, 185, 17, 0, 0], [157, 3, 490, 35, 15], [61, 3, 98, 503, 35], [169, 0, 13, 47, 331]]</td>\n",
       "      <td>375.000</td>\n",
       "    </tr>\n",
       "    <tr>\n",
       "      <th>9</th>\n",
       "      <td>Forest</td>\n",
       "      <td>9</td>\n",
       "      <td>1.0</td>\n",
       "      <td>0.794012</td>\n",
       "      <td>1.0</td>\n",
       "      <td>...</td>\n",
       "      <td>0.793207</td>\n",
       "      <td>1.0</td>\n",
       "      <td>0.794012</td>\n",
       "      <td>[[495, 13, 43, 3, 20], [35, 189, 0, 0, 0], [22, 0, 507, 160, 11], [86, 0, 113, 473, 28], [0, 0, 20, 17, 537]]</td>\n",
       "      <td>265.625</td>\n",
       "    </tr>\n",
       "  </tbody>\n",
       "</table>\n",
       "<p>10 rows × 12 columns</p>\n",
       "</div>"
      ],
      "text/plain": [
       "    Model Fold  Accuracy(Train)  Accuracy(Validation)  F1(Train)  ...  Precision(Validation)  Recall(Train)  Recall(Validation)                                                                                                               Conf_M  Process_time\n",
       "0  Forest    1              1.0              0.791362        1.0  ...               0.798954            1.0            0.791362          [[563, 9, 95, 69, 20], [49, 194, 5, 0, 4], [37, 0, 586, 62, 15], [16, 28, 76, 577, 3], [68, 0, 64, 8, 462]]       406.250\n",
       "1  Forest   10              1.0              0.735424        1.0  ...               0.757484            1.0            0.735424        [[640, 5, 46, 5, 25], [43, 160, 28, 0, 0], [5, 0, 606, 44, 45], [14, 0, 124, 520, 42], [47, 2, 256, 45, 231]]       453.125\n",
       "2  Forest    2              1.0              0.743923        1.0  ...               0.775727            1.0            0.743923       [[539, 7, 77, 21, 28], [19, 86, 131, 21, 37], [44, 0, 640, 6, 10], [17, 7, 66, 604, 6], [46, 1, 174, 51, 365]]       328.125\n",
       "3  Forest    3              1.0              0.786900        1.0  ...               0.804245            1.0            0.786900         [[685, 9, 109, 6, 31], [20, 276, 0, 4, 1], [28, 1, 599, 51, 21], [59, 0, 92, 519, 30], [240, 0, 12, 5, 576]]       421.875\n",
       "4  Forest    4              1.0              0.763848        1.0  ...               0.784014            1.0            0.763848  [[642, 11, 79, 23, 43], [167, 176, 15, 29, 26], [122, 0, 486, 79, 13], [12, 0, 50, 617, 21], [28, 0, 109, 64, 961]]       390.625\n",
       "5  Forest    5              1.0              0.733516        1.0  ...               0.763320            1.0            0.733516     [[575, 0, 67, 34, 17], [207, 433, 23, 0, 23], [103, 0, 499, 62, 36], [67, 0, 108, 516, 9], [17, 14, 4, 82, 380]]       453.125\n",
       "6  Forest    6              1.0              0.766786        1.0  ...               0.794928            1.0            0.766786        [[595, 1, 54, 26, 10], [53, 127, 16, 0, 0], [54, 0, 588, 46, 12], [65, 0, 124, 503, 8], [148, 3, 26, 7, 334]]       593.750\n",
       "7  Forest    7              1.0              0.721340        1.0  ...               0.733442            1.0            0.721340      [[498, 5, 123, 18, 56], [30, 84, 57, 16, 9], [104, 8, 556, 23, 9], [13, 0, 58, 587, 42], [144, 0, 41, 34, 320]]       390.625\n",
       "8  Forest    8              1.0              0.720513        1.0  ...               0.750896            1.0            0.720513       [[458, 0, 57, 14, 31], [8, 185, 17, 0, 0], [157, 3, 490, 35, 15], [61, 3, 98, 503, 35], [169, 0, 13, 47, 331]]       375.000\n",
       "9  Forest    9              1.0              0.794012        1.0  ...               0.793207            1.0            0.794012        [[495, 13, 43, 3, 20], [35, 189, 0, 0, 0], [22, 0, 507, 160, 11], [86, 0, 113, 473, 28], [0, 0, 20, 17, 537]]       265.625\n",
       "\n",
       "[10 rows x 12 columns]"
      ]
     },
     "execution_count": 21,
     "metadata": {},
     "output_type": "execute_result"
    }
   ],
   "source": [
    "metrics_set"
   ]
  },
  {
   "cell_type": "code",
   "execution_count": 22,
   "id": "4e29d1a3",
   "metadata": {},
   "outputs": [
    {
     "data": {
      "text/html": [
       "<div>\n",
       "<style scoped>\n",
       "    .dataframe tbody tr th:only-of-type {\n",
       "        vertical-align: middle;\n",
       "    }\n",
       "\n",
       "    .dataframe tbody tr th {\n",
       "        vertical-align: top;\n",
       "    }\n",
       "\n",
       "    .dataframe thead th {\n",
       "        text-align: right;\n",
       "    }\n",
       "</style>\n",
       "<table border=\"1\" class=\"dataframe\">\n",
       "  <thead>\n",
       "    <tr style=\"text-align: right;\">\n",
       "      <th></th>\n",
       "      <th>index</th>\n",
       "      <th>Model</th>\n",
       "      <th>Fold</th>\n",
       "      <th>Accuracy(Train)</th>\n",
       "      <th>Accuracy(Validation)</th>\n",
       "      <th>...</th>\n",
       "      <th>Precision(Validation)</th>\n",
       "      <th>Recall(Train)</th>\n",
       "      <th>Recall(Validation)</th>\n",
       "      <th>Conf_M</th>\n",
       "      <th>Process_time</th>\n",
       "    </tr>\n",
       "  </thead>\n",
       "  <tbody>\n",
       "    <tr>\n",
       "      <th>0</th>\n",
       "      <td>8</td>\n",
       "      <td>Forest</td>\n",
       "      <td>8</td>\n",
       "      <td>1.0</td>\n",
       "      <td>0.720513</td>\n",
       "      <td>...</td>\n",
       "      <td>0.750896</td>\n",
       "      <td>1.0</td>\n",
       "      <td>0.720513</td>\n",
       "      <td>[[458, 0, 57, 14, 31], [8, 185, 17, 0, 0], [157, 3, 490, 35, 15], [61, 3, 98, 503, 35], [169, 0, 13, 47, 331]]</td>\n",
       "      <td>375.000</td>\n",
       "    </tr>\n",
       "    <tr>\n",
       "      <th>1</th>\n",
       "      <td>7</td>\n",
       "      <td>Forest</td>\n",
       "      <td>7</td>\n",
       "      <td>1.0</td>\n",
       "      <td>0.721340</td>\n",
       "      <td>...</td>\n",
       "      <td>0.733442</td>\n",
       "      <td>1.0</td>\n",
       "      <td>0.721340</td>\n",
       "      <td>[[498, 5, 123, 18, 56], [30, 84, 57, 16, 9], [104, 8, 556, 23, 9], [13, 0, 58, 587, 42], [144, 0, 41, 34, 320]]</td>\n",
       "      <td>390.625</td>\n",
       "    </tr>\n",
       "    <tr>\n",
       "      <th>2</th>\n",
       "      <td>5</td>\n",
       "      <td>Forest</td>\n",
       "      <td>5</td>\n",
       "      <td>1.0</td>\n",
       "      <td>0.733516</td>\n",
       "      <td>...</td>\n",
       "      <td>0.763320</td>\n",
       "      <td>1.0</td>\n",
       "      <td>0.733516</td>\n",
       "      <td>[[575, 0, 67, 34, 17], [207, 433, 23, 0, 23], [103, 0, 499, 62, 36], [67, 0, 108, 516, 9], [17, 14, 4, 82, 380]]</td>\n",
       "      <td>453.125</td>\n",
       "    </tr>\n",
       "    <tr>\n",
       "      <th>3</th>\n",
       "      <td>1</td>\n",
       "      <td>Forest</td>\n",
       "      <td>10</td>\n",
       "      <td>1.0</td>\n",
       "      <td>0.735424</td>\n",
       "      <td>...</td>\n",
       "      <td>0.757484</td>\n",
       "      <td>1.0</td>\n",
       "      <td>0.735424</td>\n",
       "      <td>[[640, 5, 46, 5, 25], [43, 160, 28, 0, 0], [5, 0, 606, 44, 45], [14, 0, 124, 520, 42], [47, 2, 256, 45, 231]]</td>\n",
       "      <td>453.125</td>\n",
       "    </tr>\n",
       "    <tr>\n",
       "      <th>4</th>\n",
       "      <td>2</td>\n",
       "      <td>Forest</td>\n",
       "      <td>2</td>\n",
       "      <td>1.0</td>\n",
       "      <td>0.743923</td>\n",
       "      <td>...</td>\n",
       "      <td>0.775727</td>\n",
       "      <td>1.0</td>\n",
       "      <td>0.743923</td>\n",
       "      <td>[[539, 7, 77, 21, 28], [19, 86, 131, 21, 37], [44, 0, 640, 6, 10], [17, 7, 66, 604, 6], [46, 1, 174, 51, 365]]</td>\n",
       "      <td>328.125</td>\n",
       "    </tr>\n",
       "    <tr>\n",
       "      <th>5</th>\n",
       "      <td>4</td>\n",
       "      <td>Forest</td>\n",
       "      <td>4</td>\n",
       "      <td>1.0</td>\n",
       "      <td>0.763848</td>\n",
       "      <td>...</td>\n",
       "      <td>0.784014</td>\n",
       "      <td>1.0</td>\n",
       "      <td>0.763848</td>\n",
       "      <td>[[642, 11, 79, 23, 43], [167, 176, 15, 29, 26], [122, 0, 486, 79, 13], [12, 0, 50, 617, 21], [28, 0, 109, 64, 961]]</td>\n",
       "      <td>390.625</td>\n",
       "    </tr>\n",
       "    <tr>\n",
       "      <th>6</th>\n",
       "      <td>6</td>\n",
       "      <td>Forest</td>\n",
       "      <td>6</td>\n",
       "      <td>1.0</td>\n",
       "      <td>0.766786</td>\n",
       "      <td>...</td>\n",
       "      <td>0.794928</td>\n",
       "      <td>1.0</td>\n",
       "      <td>0.766786</td>\n",
       "      <td>[[595, 1, 54, 26, 10], [53, 127, 16, 0, 0], [54, 0, 588, 46, 12], [65, 0, 124, 503, 8], [148, 3, 26, 7, 334]]</td>\n",
       "      <td>593.750</td>\n",
       "    </tr>\n",
       "    <tr>\n",
       "      <th>7</th>\n",
       "      <td>3</td>\n",
       "      <td>Forest</td>\n",
       "      <td>3</td>\n",
       "      <td>1.0</td>\n",
       "      <td>0.786900</td>\n",
       "      <td>...</td>\n",
       "      <td>0.804245</td>\n",
       "      <td>1.0</td>\n",
       "      <td>0.786900</td>\n",
       "      <td>[[685, 9, 109, 6, 31], [20, 276, 0, 4, 1], [28, 1, 599, 51, 21], [59, 0, 92, 519, 30], [240, 0, 12, 5, 576]]</td>\n",
       "      <td>421.875</td>\n",
       "    </tr>\n",
       "    <tr>\n",
       "      <th>8</th>\n",
       "      <td>0</td>\n",
       "      <td>Forest</td>\n",
       "      <td>1</td>\n",
       "      <td>1.0</td>\n",
       "      <td>0.791362</td>\n",
       "      <td>...</td>\n",
       "      <td>0.798954</td>\n",
       "      <td>1.0</td>\n",
       "      <td>0.791362</td>\n",
       "      <td>[[563, 9, 95, 69, 20], [49, 194, 5, 0, 4], [37, 0, 586, 62, 15], [16, 28, 76, 577, 3], [68, 0, 64, 8, 462]]</td>\n",
       "      <td>406.250</td>\n",
       "    </tr>\n",
       "    <tr>\n",
       "      <th>9</th>\n",
       "      <td>9</td>\n",
       "      <td>Forest</td>\n",
       "      <td>9</td>\n",
       "      <td>1.0</td>\n",
       "      <td>0.794012</td>\n",
       "      <td>...</td>\n",
       "      <td>0.793207</td>\n",
       "      <td>1.0</td>\n",
       "      <td>0.794012</td>\n",
       "      <td>[[495, 13, 43, 3, 20], [35, 189, 0, 0, 0], [22, 0, 507, 160, 11], [86, 0, 113, 473, 28], [0, 0, 20, 17, 537]]</td>\n",
       "      <td>265.625</td>\n",
       "    </tr>\n",
       "  </tbody>\n",
       "</table>\n",
       "<p>10 rows × 13 columns</p>\n",
       "</div>"
      ],
      "text/plain": [
       "   index   Model Fold  Accuracy(Train)  Accuracy(Validation)  ...  Precision(Validation)  Recall(Train)  Recall(Validation)                                                                                                               Conf_M  Process_time\n",
       "0      8  Forest    8              1.0              0.720513  ...               0.750896            1.0            0.720513       [[458, 0, 57, 14, 31], [8, 185, 17, 0, 0], [157, 3, 490, 35, 15], [61, 3, 98, 503, 35], [169, 0, 13, 47, 331]]       375.000\n",
       "1      7  Forest    7              1.0              0.721340  ...               0.733442            1.0            0.721340      [[498, 5, 123, 18, 56], [30, 84, 57, 16, 9], [104, 8, 556, 23, 9], [13, 0, 58, 587, 42], [144, 0, 41, 34, 320]]       390.625\n",
       "2      5  Forest    5              1.0              0.733516  ...               0.763320            1.0            0.733516     [[575, 0, 67, 34, 17], [207, 433, 23, 0, 23], [103, 0, 499, 62, 36], [67, 0, 108, 516, 9], [17, 14, 4, 82, 380]]       453.125\n",
       "3      1  Forest   10              1.0              0.735424  ...               0.757484            1.0            0.735424        [[640, 5, 46, 5, 25], [43, 160, 28, 0, 0], [5, 0, 606, 44, 45], [14, 0, 124, 520, 42], [47, 2, 256, 45, 231]]       453.125\n",
       "4      2  Forest    2              1.0              0.743923  ...               0.775727            1.0            0.743923       [[539, 7, 77, 21, 28], [19, 86, 131, 21, 37], [44, 0, 640, 6, 10], [17, 7, 66, 604, 6], [46, 1, 174, 51, 365]]       328.125\n",
       "5      4  Forest    4              1.0              0.763848  ...               0.784014            1.0            0.763848  [[642, 11, 79, 23, 43], [167, 176, 15, 29, 26], [122, 0, 486, 79, 13], [12, 0, 50, 617, 21], [28, 0, 109, 64, 961]]       390.625\n",
       "6      6  Forest    6              1.0              0.766786  ...               0.794928            1.0            0.766786        [[595, 1, 54, 26, 10], [53, 127, 16, 0, 0], [54, 0, 588, 46, 12], [65, 0, 124, 503, 8], [148, 3, 26, 7, 334]]       593.750\n",
       "7      3  Forest    3              1.0              0.786900  ...               0.804245            1.0            0.786900         [[685, 9, 109, 6, 31], [20, 276, 0, 4, 1], [28, 1, 599, 51, 21], [59, 0, 92, 519, 30], [240, 0, 12, 5, 576]]       421.875\n",
       "8      0  Forest    1              1.0              0.791362  ...               0.798954            1.0            0.791362          [[563, 9, 95, 69, 20], [49, 194, 5, 0, 4], [37, 0, 586, 62, 15], [16, 28, 76, 577, 3], [68, 0, 64, 8, 462]]       406.250\n",
       "9      9  Forest    9              1.0              0.794012  ...               0.793207            1.0            0.794012        [[495, 13, 43, 3, 20], [35, 189, 0, 0, 0], [22, 0, 507, 160, 11], [86, 0, 113, 473, 28], [0, 0, 20, 17, 537]]       265.625\n",
       "\n",
       "[10 rows x 13 columns]"
      ]
     },
     "execution_count": 22,
     "metadata": {},
     "output_type": "execute_result"
    }
   ],
   "source": [
    "# Sort by Model and Accuracy test. Reset the index.\n",
    "\n",
    "metrics_set = metrics_set.sort_values(['Model', 'Accuracy(Validation)'], ascending = [True, True]).reset_index()\n",
    "metrics_set"
   ]
  },
  {
   "cell_type": "code",
   "execution_count": 23,
   "id": "c5af9afe",
   "metadata": {},
   "outputs": [
    {
     "data": {
      "text/html": [
       "<style type=\"text/css\">\n",
       "#T_78c56_row0_col1 {\n",
       "  background-color: #f7fbff;\n",
       "  color: #000000;\n",
       "}\n",
       "#T_78c56_row1_col1 {\n",
       "  background-color: #f5fafe;\n",
       "  color: #000000;\n",
       "}\n",
       "#T_78c56_row2_col1 {\n",
       "  background-color: #d4e4f4;\n",
       "  color: #000000;\n",
       "}\n",
       "#T_78c56_row3_col1 {\n",
       "  background-color: #d0e1f2;\n",
       "  color: #000000;\n",
       "}\n",
       "#T_78c56_row4_col1 {\n",
       "  background-color: #b0d2e7;\n",
       "  color: #000000;\n",
       "}\n",
       "#T_78c56_row5_col1 {\n",
       "  background-color: #4e9acb;\n",
       "  color: #f1f1f1;\n",
       "}\n",
       "#T_78c56_row6_col1 {\n",
       "  background-color: #4090c5;\n",
       "  color: #f1f1f1;\n",
       "}\n",
       "#T_78c56_row7_col1 {\n",
       "  background-color: #084990;\n",
       "  color: #f1f1f1;\n",
       "}\n",
       "#T_78c56_row8_col1 {\n",
       "  background-color: #083979;\n",
       "  color: #f1f1f1;\n",
       "}\n",
       "#T_78c56_row9_col1 {\n",
       "  background-color: #08306b;\n",
       "  color: #f1f1f1;\n",
       "}\n",
       "</style>\n",
       "<table id=\"T_78c56\">\n",
       "  <thead>\n",
       "    <tr>\n",
       "      <th class=\"blank level0\" >&nbsp;</th>\n",
       "      <th id=\"T_78c56_level0_col0\" class=\"col_heading level0 col0\" >Model</th>\n",
       "      <th id=\"T_78c56_level0_col1\" class=\"col_heading level0 col1\" >Accuracy(Validation)</th>\n",
       "    </tr>\n",
       "  </thead>\n",
       "  <tbody>\n",
       "    <tr>\n",
       "      <th id=\"T_78c56_level0_row0\" class=\"row_heading level0 row0\" >0</th>\n",
       "      <td id=\"T_78c56_row0_col0\" class=\"data row0 col0\" >Forest</td>\n",
       "      <td id=\"T_78c56_row0_col1\" class=\"data row0 col1\" >0.720513</td>\n",
       "    </tr>\n",
       "    <tr>\n",
       "      <th id=\"T_78c56_level0_row1\" class=\"row_heading level0 row1\" >1</th>\n",
       "      <td id=\"T_78c56_row1_col0\" class=\"data row1 col0\" >Forest</td>\n",
       "      <td id=\"T_78c56_row1_col1\" class=\"data row1 col1\" >0.721340</td>\n",
       "    </tr>\n",
       "    <tr>\n",
       "      <th id=\"T_78c56_level0_row2\" class=\"row_heading level0 row2\" >2</th>\n",
       "      <td id=\"T_78c56_row2_col0\" class=\"data row2 col0\" >Forest</td>\n",
       "      <td id=\"T_78c56_row2_col1\" class=\"data row2 col1\" >0.733516</td>\n",
       "    </tr>\n",
       "    <tr>\n",
       "      <th id=\"T_78c56_level0_row3\" class=\"row_heading level0 row3\" >3</th>\n",
       "      <td id=\"T_78c56_row3_col0\" class=\"data row3 col0\" >Forest</td>\n",
       "      <td id=\"T_78c56_row3_col1\" class=\"data row3 col1\" >0.735424</td>\n",
       "    </tr>\n",
       "    <tr>\n",
       "      <th id=\"T_78c56_level0_row4\" class=\"row_heading level0 row4\" >4</th>\n",
       "      <td id=\"T_78c56_row4_col0\" class=\"data row4 col0\" >Forest</td>\n",
       "      <td id=\"T_78c56_row4_col1\" class=\"data row4 col1\" >0.743923</td>\n",
       "    </tr>\n",
       "    <tr>\n",
       "      <th id=\"T_78c56_level0_row5\" class=\"row_heading level0 row5\" >5</th>\n",
       "      <td id=\"T_78c56_row5_col0\" class=\"data row5 col0\" >Forest</td>\n",
       "      <td id=\"T_78c56_row5_col1\" class=\"data row5 col1\" >0.763848</td>\n",
       "    </tr>\n",
       "    <tr>\n",
       "      <th id=\"T_78c56_level0_row6\" class=\"row_heading level0 row6\" >6</th>\n",
       "      <td id=\"T_78c56_row6_col0\" class=\"data row6 col0\" >Forest</td>\n",
       "      <td id=\"T_78c56_row6_col1\" class=\"data row6 col1\" >0.766786</td>\n",
       "    </tr>\n",
       "    <tr>\n",
       "      <th id=\"T_78c56_level0_row7\" class=\"row_heading level0 row7\" >7</th>\n",
       "      <td id=\"T_78c56_row7_col0\" class=\"data row7 col0\" >Forest</td>\n",
       "      <td id=\"T_78c56_row7_col1\" class=\"data row7 col1\" >0.786900</td>\n",
       "    </tr>\n",
       "    <tr>\n",
       "      <th id=\"T_78c56_level0_row8\" class=\"row_heading level0 row8\" >8</th>\n",
       "      <td id=\"T_78c56_row8_col0\" class=\"data row8 col0\" >Forest</td>\n",
       "      <td id=\"T_78c56_row8_col1\" class=\"data row8 col1\" >0.791362</td>\n",
       "    </tr>\n",
       "    <tr>\n",
       "      <th id=\"T_78c56_level0_row9\" class=\"row_heading level0 row9\" >9</th>\n",
       "      <td id=\"T_78c56_row9_col0\" class=\"data row9 col0\" >Forest</td>\n",
       "      <td id=\"T_78c56_row9_col1\" class=\"data row9 col1\" >0.794012</td>\n",
       "    </tr>\n",
       "  </tbody>\n",
       "</table>\n"
      ],
      "text/plain": [
       "<pandas.io.formats.style.Styler at 0x1dd06d06400>"
      ]
     },
     "execution_count": 23,
     "metadata": {},
     "output_type": "execute_result"
    }
   ],
   "source": [
    "metrics_set[['Model', 'Accuracy(Validation)']].style.background_gradient(cmap = cmap_cm)"
   ]
  },
  {
   "cell_type": "code",
   "execution_count": 24,
   "id": "74b6fa6d",
   "metadata": {},
   "outputs": [
    {
     "data": {
      "text/plain": [
       "Model\n",
       "Forest    0.794012\n",
       "Name: Accuracy(Validation), dtype: float64"
      ]
     },
     "execution_count": 24,
     "metadata": {},
     "output_type": "execute_result"
    }
   ],
   "source": [
    "highest_accuracy = metrics_set.groupby('Model')['Accuracy(Validation)'].max()\n",
    "highest_accuracy"
   ]
  },
  {
   "cell_type": "code",
   "execution_count": 25,
   "id": "4f740a0b",
   "metadata": {},
   "outputs": [
    {
     "data": {
      "text/plain": [
       "['Forest']"
      ]
     },
     "execution_count": 25,
     "metadata": {},
     "output_type": "execute_result"
    }
   ],
   "source": [
    "list_classifiers = metrics_set['Model'].unique().tolist()\n",
    "list_classifiers"
   ]
  },
  {
   "cell_type": "code",
   "execution_count": 26,
   "id": "a40226fc",
   "metadata": {},
   "outputs": [],
   "source": [
    "# Creates a dictionary of each classifier and its data explanation\n",
    "\n",
    "unique_models = []\n",
    "results       = {}\n",
    "\n",
    "for c in list_classifiers:\n",
    "    unique_models.append(c)\n",
    "\n",
    "for model in unique_models:\n",
    "    result = metrics_set[metrics_set['Model'] == model].describe().round(4)\n",
    "    results[model] = result"
   ]
  },
  {
   "cell_type": "code",
   "execution_count": 27,
   "id": "f8cf7d53",
   "metadata": {},
   "outputs": [
    {
     "name": "stdout",
     "output_type": "stream",
     "text": [
      "Model...: Forest\n"
     ]
    },
    {
     "data": {
      "text/html": [
       "<div>\n",
       "<style scoped>\n",
       "    .dataframe tbody tr th:only-of-type {\n",
       "        vertical-align: middle;\n",
       "    }\n",
       "\n",
       "    .dataframe tbody tr th {\n",
       "        vertical-align: top;\n",
       "    }\n",
       "\n",
       "    .dataframe thead th {\n",
       "        text-align: right;\n",
       "    }\n",
       "</style>\n",
       "<table border=\"1\" class=\"dataframe\">\n",
       "  <thead>\n",
       "    <tr style=\"text-align: right;\">\n",
       "      <th></th>\n",
       "      <th>index</th>\n",
       "      <th>Accuracy(Train)</th>\n",
       "      <th>Accuracy(Validation)</th>\n",
       "      <th>F1(Train)</th>\n",
       "      <th>F1(Validation)</th>\n",
       "      <th>Precision(Train)</th>\n",
       "      <th>Precision(Validation)</th>\n",
       "      <th>Recall(Train)</th>\n",
       "      <th>Recall(Validation)</th>\n",
       "      <th>Process_time</th>\n",
       "    </tr>\n",
       "  </thead>\n",
       "  <tbody>\n",
       "    <tr>\n",
       "      <th>count</th>\n",
       "      <td>10.0000</td>\n",
       "      <td>10.0</td>\n",
       "      <td>10.0000</td>\n",
       "      <td>10.0</td>\n",
       "      <td>10.0000</td>\n",
       "      <td>10.0</td>\n",
       "      <td>10.0000</td>\n",
       "      <td>10.0</td>\n",
       "      <td>10.0000</td>\n",
       "      <td>10.0000</td>\n",
       "    </tr>\n",
       "    <tr>\n",
       "      <th>mean</th>\n",
       "      <td>4.5000</td>\n",
       "      <td>1.0</td>\n",
       "      <td>0.7558</td>\n",
       "      <td>1.0</td>\n",
       "      <td>0.7546</td>\n",
       "      <td>1.0</td>\n",
       "      <td>0.7756</td>\n",
       "      <td>1.0</td>\n",
       "      <td>0.7558</td>\n",
       "      <td>407.8125</td>\n",
       "    </tr>\n",
       "    <tr>\n",
       "      <th>std</th>\n",
       "      <td>3.0277</td>\n",
       "      <td>0.0</td>\n",
       "      <td>0.0286</td>\n",
       "      <td>0.0</td>\n",
       "      <td>0.0294</td>\n",
       "      <td>0.0</td>\n",
       "      <td>0.0235</td>\n",
       "      <td>0.0</td>\n",
       "      <td>0.0286</td>\n",
       "      <td>86.3547</td>\n",
       "    </tr>\n",
       "    <tr>\n",
       "      <th>min</th>\n",
       "      <td>0.0000</td>\n",
       "      <td>1.0</td>\n",
       "      <td>0.7205</td>\n",
       "      <td>1.0</td>\n",
       "      <td>0.7188</td>\n",
       "      <td>1.0</td>\n",
       "      <td>0.7334</td>\n",
       "      <td>1.0</td>\n",
       "      <td>0.7205</td>\n",
       "      <td>265.6250</td>\n",
       "    </tr>\n",
       "    <tr>\n",
       "      <th>25%</th>\n",
       "      <td>2.2500</td>\n",
       "      <td>1.0</td>\n",
       "      <td>0.7340</td>\n",
       "      <td>1.0</td>\n",
       "      <td>0.7307</td>\n",
       "      <td>1.0</td>\n",
       "      <td>0.7589</td>\n",
       "      <td>1.0</td>\n",
       "      <td>0.7340</td>\n",
       "      <td>378.9062</td>\n",
       "    </tr>\n",
       "    <tr>\n",
       "      <th>50%</th>\n",
       "      <td>4.5000</td>\n",
       "      <td>1.0</td>\n",
       "      <td>0.7539</td>\n",
       "      <td>1.0</td>\n",
       "      <td>0.7485</td>\n",
       "      <td>1.0</td>\n",
       "      <td>0.7799</td>\n",
       "      <td>1.0</td>\n",
       "      <td>0.7539</td>\n",
       "      <td>398.4375</td>\n",
       "    </tr>\n",
       "    <tr>\n",
       "      <th>75%</th>\n",
       "      <td>6.7500</td>\n",
       "      <td>1.0</td>\n",
       "      <td>0.7819</td>\n",
       "      <td>1.0</td>\n",
       "      <td>0.7835</td>\n",
       "      <td>1.0</td>\n",
       "      <td>0.7945</td>\n",
       "      <td>1.0</td>\n",
       "      <td>0.7819</td>\n",
       "      <td>445.3125</td>\n",
       "    </tr>\n",
       "    <tr>\n",
       "      <th>max</th>\n",
       "      <td>9.0000</td>\n",
       "      <td>1.0</td>\n",
       "      <td>0.7940</td>\n",
       "      <td>1.0</td>\n",
       "      <td>0.7926</td>\n",
       "      <td>1.0</td>\n",
       "      <td>0.8042</td>\n",
       "      <td>1.0</td>\n",
       "      <td>0.7940</td>\n",
       "      <td>593.7500</td>\n",
       "    </tr>\n",
       "  </tbody>\n",
       "</table>\n",
       "</div>"
      ],
      "text/plain": [
       "         index  Accuracy(Train)  Accuracy(Validation)  F1(Train)  F1(Validation)  Precision(Train)  Precision(Validation)  Recall(Train)  Recall(Validation)  Process_time\n",
       "count  10.0000             10.0               10.0000       10.0         10.0000              10.0                10.0000           10.0             10.0000       10.0000\n",
       "mean    4.5000              1.0                0.7558        1.0          0.7546               1.0                 0.7756            1.0              0.7558      407.8125\n",
       "std     3.0277              0.0                0.0286        0.0          0.0294               0.0                 0.0235            0.0              0.0286       86.3547\n",
       "min     0.0000              1.0                0.7205        1.0          0.7188               1.0                 0.7334            1.0              0.7205      265.6250\n",
       "25%     2.2500              1.0                0.7340        1.0          0.7307               1.0                 0.7589            1.0              0.7340      378.9062\n",
       "50%     4.5000              1.0                0.7539        1.0          0.7485               1.0                 0.7799            1.0              0.7539      398.4375\n",
       "75%     6.7500              1.0                0.7819        1.0          0.7835               1.0                 0.7945            1.0              0.7819      445.3125\n",
       "max     9.0000              1.0                0.7940        1.0          0.7926               1.0                 0.8042            1.0              0.7940      593.7500"
      ]
     },
     "metadata": {},
     "output_type": "display_data"
    }
   ],
   "source": [
    "for model in results.keys():\n",
    "    print(f'Model...: {model}')\n",
    "    display(results[model])"
   ]
  },
  {
   "cell_type": "code",
   "execution_count": 28,
   "id": "7b3b8a40",
   "metadata": {},
   "outputs": [
    {
     "data": {
      "text/html": [
       "<div>\n",
       "<style scoped>\n",
       "    .dataframe tbody tr th:only-of-type {\n",
       "        vertical-align: middle;\n",
       "    }\n",
       "\n",
       "    .dataframe tbody tr th {\n",
       "        vertical-align: top;\n",
       "    }\n",
       "\n",
       "    .dataframe thead th {\n",
       "        text-align: right;\n",
       "    }\n",
       "</style>\n",
       "<table border=\"1\" class=\"dataframe\">\n",
       "  <thead>\n",
       "    <tr style=\"text-align: right;\">\n",
       "      <th></th>\n",
       "      <th>index</th>\n",
       "      <th>Model</th>\n",
       "      <th>Fold</th>\n",
       "      <th>Accuracy(Train)</th>\n",
       "      <th>Accuracy(Validation)</th>\n",
       "      <th>...</th>\n",
       "      <th>Precision(Train)</th>\n",
       "      <th>Precision(Validation)</th>\n",
       "      <th>Recall(Train)</th>\n",
       "      <th>Recall(Validation)</th>\n",
       "      <th>Process_time</th>\n",
       "    </tr>\n",
       "  </thead>\n",
       "  <tbody>\n",
       "    <tr>\n",
       "      <th>0</th>\n",
       "      <td>8</td>\n",
       "      <td>Forest</td>\n",
       "      <td>8</td>\n",
       "      <td>1.0</td>\n",
       "      <td>0.720513</td>\n",
       "      <td>...</td>\n",
       "      <td>1.0</td>\n",
       "      <td>0.750896</td>\n",
       "      <td>1.0</td>\n",
       "      <td>0.720513</td>\n",
       "      <td>375.000</td>\n",
       "    </tr>\n",
       "    <tr>\n",
       "      <th>1</th>\n",
       "      <td>7</td>\n",
       "      <td>Forest</td>\n",
       "      <td>7</td>\n",
       "      <td>1.0</td>\n",
       "      <td>0.721340</td>\n",
       "      <td>...</td>\n",
       "      <td>1.0</td>\n",
       "      <td>0.733442</td>\n",
       "      <td>1.0</td>\n",
       "      <td>0.721340</td>\n",
       "      <td>390.625</td>\n",
       "    </tr>\n",
       "    <tr>\n",
       "      <th>2</th>\n",
       "      <td>5</td>\n",
       "      <td>Forest</td>\n",
       "      <td>5</td>\n",
       "      <td>1.0</td>\n",
       "      <td>0.733516</td>\n",
       "      <td>...</td>\n",
       "      <td>1.0</td>\n",
       "      <td>0.763320</td>\n",
       "      <td>1.0</td>\n",
       "      <td>0.733516</td>\n",
       "      <td>453.125</td>\n",
       "    </tr>\n",
       "    <tr>\n",
       "      <th>3</th>\n",
       "      <td>1</td>\n",
       "      <td>Forest</td>\n",
       "      <td>10</td>\n",
       "      <td>1.0</td>\n",
       "      <td>0.735424</td>\n",
       "      <td>...</td>\n",
       "      <td>1.0</td>\n",
       "      <td>0.757484</td>\n",
       "      <td>1.0</td>\n",
       "      <td>0.735424</td>\n",
       "      <td>453.125</td>\n",
       "    </tr>\n",
       "    <tr>\n",
       "      <th>4</th>\n",
       "      <td>2</td>\n",
       "      <td>Forest</td>\n",
       "      <td>2</td>\n",
       "      <td>1.0</td>\n",
       "      <td>0.743923</td>\n",
       "      <td>...</td>\n",
       "      <td>1.0</td>\n",
       "      <td>0.775727</td>\n",
       "      <td>1.0</td>\n",
       "      <td>0.743923</td>\n",
       "      <td>328.125</td>\n",
       "    </tr>\n",
       "    <tr>\n",
       "      <th>5</th>\n",
       "      <td>4</td>\n",
       "      <td>Forest</td>\n",
       "      <td>4</td>\n",
       "      <td>1.0</td>\n",
       "      <td>0.763848</td>\n",
       "      <td>...</td>\n",
       "      <td>1.0</td>\n",
       "      <td>0.784014</td>\n",
       "      <td>1.0</td>\n",
       "      <td>0.763848</td>\n",
       "      <td>390.625</td>\n",
       "    </tr>\n",
       "    <tr>\n",
       "      <th>6</th>\n",
       "      <td>6</td>\n",
       "      <td>Forest</td>\n",
       "      <td>6</td>\n",
       "      <td>1.0</td>\n",
       "      <td>0.766786</td>\n",
       "      <td>...</td>\n",
       "      <td>1.0</td>\n",
       "      <td>0.794928</td>\n",
       "      <td>1.0</td>\n",
       "      <td>0.766786</td>\n",
       "      <td>593.750</td>\n",
       "    </tr>\n",
       "    <tr>\n",
       "      <th>7</th>\n",
       "      <td>3</td>\n",
       "      <td>Forest</td>\n",
       "      <td>3</td>\n",
       "      <td>1.0</td>\n",
       "      <td>0.786900</td>\n",
       "      <td>...</td>\n",
       "      <td>1.0</td>\n",
       "      <td>0.804245</td>\n",
       "      <td>1.0</td>\n",
       "      <td>0.786900</td>\n",
       "      <td>421.875</td>\n",
       "    </tr>\n",
       "    <tr>\n",
       "      <th>8</th>\n",
       "      <td>0</td>\n",
       "      <td>Forest</td>\n",
       "      <td>1</td>\n",
       "      <td>1.0</td>\n",
       "      <td>0.791362</td>\n",
       "      <td>...</td>\n",
       "      <td>1.0</td>\n",
       "      <td>0.798954</td>\n",
       "      <td>1.0</td>\n",
       "      <td>0.791362</td>\n",
       "      <td>406.250</td>\n",
       "    </tr>\n",
       "    <tr>\n",
       "      <th>9</th>\n",
       "      <td>9</td>\n",
       "      <td>Forest</td>\n",
       "      <td>9</td>\n",
       "      <td>1.0</td>\n",
       "      <td>0.794012</td>\n",
       "      <td>...</td>\n",
       "      <td>1.0</td>\n",
       "      <td>0.793207</td>\n",
       "      <td>1.0</td>\n",
       "      <td>0.794012</td>\n",
       "      <td>265.625</td>\n",
       "    </tr>\n",
       "  </tbody>\n",
       "</table>\n",
       "<p>10 rows × 12 columns</p>\n",
       "</div>"
      ],
      "text/plain": [
       "   index   Model Fold  Accuracy(Train)  Accuracy(Validation)  ...  Precision(Train)  Precision(Validation)  Recall(Train)  Recall(Validation)  Process_time\n",
       "0      8  Forest    8              1.0              0.720513  ...               1.0               0.750896            1.0            0.720513       375.000\n",
       "1      7  Forest    7              1.0              0.721340  ...               1.0               0.733442            1.0            0.721340       390.625\n",
       "2      5  Forest    5              1.0              0.733516  ...               1.0               0.763320            1.0            0.733516       453.125\n",
       "3      1  Forest   10              1.0              0.735424  ...               1.0               0.757484            1.0            0.735424       453.125\n",
       "4      2  Forest    2              1.0              0.743923  ...               1.0               0.775727            1.0            0.743923       328.125\n",
       "5      4  Forest    4              1.0              0.763848  ...               1.0               0.784014            1.0            0.763848       390.625\n",
       "6      6  Forest    6              1.0              0.766786  ...               1.0               0.794928            1.0            0.766786       593.750\n",
       "7      3  Forest    3              1.0              0.786900  ...               1.0               0.804245            1.0            0.786900       421.875\n",
       "8      0  Forest    1              1.0              0.791362  ...               1.0               0.798954            1.0            0.791362       406.250\n",
       "9      9  Forest    9              1.0              0.794012  ...               1.0               0.793207            1.0            0.794012       265.625\n",
       "\n",
       "[10 rows x 12 columns]"
      ]
     },
     "execution_count": 28,
     "metadata": {},
     "output_type": "execute_result"
    }
   ],
   "source": [
    "metrics_set_no_cm = metrics_set.drop('Conf_M', axis=1)\n",
    "metrics_set_no_cm"
   ]
  },
  {
   "cell_type": "code",
   "execution_count": 29,
   "id": "1be91243",
   "metadata": {},
   "outputs": [
    {
     "name": "stdout",
     "output_type": "stream",
     "text": [
      "US8K_AV_metrics_set_norm_mutual_windowed.csv\n",
      "US8K_AV_metrics_set_norm_mutual_windowed_no_cm.csv\n"
     ]
    }
   ],
   "source": [
    "metrics_set_name       = nom_dataset + '_metrics_set' + batch_name +  model_surname + '.csv'\n",
    "metrics_set_name_no_cm = nom_dataset + '_metrics_set' + batch_name +  model_surname + '_no_cm.csv'\n",
    "\n",
    "print(metrics_set_name)\n",
    "print(metrics_set_name_no_cm)"
   ]
  },
  {
   "cell_type": "code",
   "execution_count": 30,
   "id": "3d17b960",
   "metadata": {},
   "outputs": [],
   "source": [
    "# Writes de results to a CSV file\n",
    "\n",
    "metrics_set.to_csv(os.path.join(path_models, metrics_set_name), sep='\\t', encoding='utf-8')\n",
    "metrics_set_no_cm.to_csv(os.path.join(path_models, metrics_set_name_no_cm), sep='\\t', encoding='utf-8')"
   ]
  },
  {
   "cell_type": "code",
   "execution_count": 31,
   "id": "faea2f5b",
   "metadata": {},
   "outputs": [
    {
     "data": {
      "text/plain": [
       "{'Forest': {'Accuracy(Validation)': 0.7940115440115441,\n",
       "  'Conf_M': array([[495,  13,  43,   3,  20],\n",
       "         [ 35, 189,   0,   0,   0],\n",
       "         [ 22,   0, 507, 160,  11],\n",
       "         [ 86,   0, 113, 473,  28],\n",
       "         [  0,   0,  20,  17, 537]], dtype=int64)}}"
      ]
     },
     "execution_count": 31,
     "metadata": {},
     "output_type": "execute_result"
    }
   ],
   "source": [
    "idx = metrics_set.groupby('Model')['Accuracy(Validation)'].idxmax()\n",
    "conf_matrices = metrics_set.loc[idx, ['Model','Accuracy(Validation)','Conf_M']]\n",
    "conf_matrices.set_index('Model', inplace=True)\n",
    "conf_matrices_dict = conf_matrices.to_dict('index')\n",
    "conf_matrices_dict"
   ]
  },
  {
   "cell_type": "code",
   "execution_count": 32,
   "id": "1603ff77",
   "metadata": {},
   "outputs": [
    {
     "data": {
      "text/plain": [
       "array([[495,  13,  43,   3,  20],\n",
       "       [ 35, 189,   0,   0,   0],\n",
       "       [ 22,   0, 507, 160,  11],\n",
       "       [ 86,   0, 113, 473,  28],\n",
       "       [  0,   0,  20,  17, 537]], dtype=int64)"
      ]
     },
     "execution_count": 32,
     "metadata": {},
     "output_type": "execute_result"
    }
   ],
   "source": [
    "conf_matrices_dict['Forest']['Conf_M']"
   ]
  },
  {
   "cell_type": "code",
   "execution_count": 33,
   "id": "4c32d216",
   "metadata": {},
   "outputs": [
    {
     "name": "stdout",
     "output_type": "stream",
     "text": [
      "1\n",
      "Forest\n",
      "0.7940115440115441\n",
      "[[495  13  43   3  20]\n",
      " [ 35 189   0   0   0]\n",
      " [ 22   0 507 160  11]\n",
      " [ 86   0 113 473  28]\n",
      " [  0   0  20  17 537]]\n"
     ]
    }
   ],
   "source": [
    "for i, idx in zip(conf_matrices_dict.keys(), range(1, len(conf_matrices_dict) + 1)):\n",
    "    print(idx)\n",
    "    print(i)\n",
    "    print(conf_matrices_dict[i]['Accuracy(Validation)'])\n",
    "    print(conf_matrices_dict[i]['Conf_M'])"
   ]
  },
  {
   "cell_type": "code",
   "execution_count": 34,
   "id": "e5e53550",
   "metadata": {
    "scrolled": true
   },
   "outputs": [
    {
     "data": {
      "image/png": "[encoded data removed]",
      "text/plain": [
       "<Figure size 2500x2500 with 2 Axes>"
      ]
     },
     "metadata": {},
     "output_type": "display_data"
    }
   ],
   "source": [
    "# Plot the confusion matrix for the highest accuracy test classifiers\n",
    "\n",
    "picture_name = f'{pic_first_name}{get_next_file_number(path_pic):02d}.png'\n",
    "\n",
    "plt.figure(figsize=(25,25))\n",
    "plt.suptitle('Confusion matrices of the best results for each classifier', fontsize = 16,  y=0.97)\n",
    "for i, idx in zip(conf_matrices_dict.keys(), range(1, len(conf_matrices_dict) + 1)):\n",
    "    title = nom_dataset + model_surname + batch_name + ' - Classifier '+ i + ' (Highest accuracy (Validation): ' + str(\"{:0.4f}\".format(conf_matrices_dict[i]['Accuracy(Validation)'])) +')'\n",
    "    plt.subplot(3,2,idx)\n",
    "    plot_confusion_matrix(conf_matrices_dict[i]['Conf_M'],  \n",
    "                          nom_classes, \n",
    "                          title,\n",
    "                          cmap = None,                          \n",
    "                          normalize = False)\n",
    "plt.tight_layout(pad=4.0)\n",
    "plt.savefig(os.path.join(path_pic, picture_name))"
   ]
  },
  {
   "cell_type": "code",
   "execution_count": 35,
   "id": "0742e05f",
   "metadata": {
    "scrolled": true
   },
   "outputs": [
    {
     "data": {
      "image/png": "[encoded data removed]",
      "text/plain": [
       "<Figure size 1800x800 with 1 Axes>"
      ]
     },
     "metadata": {},
     "output_type": "display_data"
    }
   ],
   "source": [
    "picture_name = f'{pic_first_name}{get_next_file_number(path_pic):02d}.png'\n",
    "\n",
    "plt.figure(figsize=(18,8))\n",
    "plt.suptitle(f'{nom_dataset} - Box plot each classifier (batch type: {model_surname + batch_name})', fontsize = 16,  y=0.97)\n",
    "box_plot = sns.boxplot(data=metrics_set, x=\"Model\", y=\"Accuracy(Validation)\", showfliers = True)\n",
    "\n",
    "medians = list(metrics_set.groupby(['Model'], sort = False)['Accuracy(Validation)'].median())\n",
    "medians = [round(element, 2) for element in medians]\n",
    "\n",
    "vertical_offset = metrics_set['Accuracy(Validation)'].median()*0.001  # offset from median for display\n",
    "\n",
    "for xtick in box_plot.get_xticks():\n",
    "    box_plot.text(xtick, medians[xtick] + vertical_offset, medians[xtick], \n",
    "            horizontalalignment='center',size='medium',color='w',weight='semibold')\n",
    "plt.savefig(os.path.join(path_pic, picture_name))"
   ]
  },
  {
   "cell_type": "markdown",
   "id": "3a789e38",
   "metadata": {},
   "source": [
    "## Results ESC-10"
   ]
  },
  {
   "cell_type": "markdown",
   "id": "6f2692c9",
   "metadata": {},
   "source": []
  },
  {
   "cell_type": "markdown",
   "id": "a6b58377",
   "metadata": {},
   "source": [
    "## Results BDLib2"
   ]
  },
  {
   "cell_type": "markdown",
   "id": "cf61ea6f",
   "metadata": {},
   "source": []
  },
  {
   "cell_type": "markdown",
   "id": "d1a889f3",
   "metadata": {},
   "source": [
    "## Results US8K"
   ]
  },
  {
   "cell_type": "markdown",
   "id": "64e1aa32",
   "metadata": {},
   "source": []
  },
  {
   "cell_type": "markdown",
   "id": "688d9c4e",
   "metadata": {},
   "source": [
    "## Results US8K_AV"
   ]
  },
  {
   "cell_type": "markdown",
   "id": "f1c625c5",
   "metadata": {},
   "source": []
  },
  {
   "cell_type": "markdown",
   "id": "dff244f0",
   "metadata": {},
   "source": [
    "# End of notebook"
   ]
  },
  {
   "cell_type": "code",
   "execution_count": null,
   "id": "5c23c64a-cc72-4172-a4a7-aa5c28d7e5bd",
   "metadata": {},
   "outputs": [],
   "source": []
  }
 ],
 "metadata": {
  "kernelspec": {
   "display_name": "Python 3 (ipykernel)",
   "language": "python",
   "name": "python3"
  },
  "language_info": {
   "codemirror_mode": {
    "name": "ipython",
    "version": 3
   },
   "file_extension": ".py",
   "mimetype": "text/x-python",
   "name": "python",
   "nbconvert_exporter": "python",
   "pygments_lexer": "ipython3",
   "version": "3.8.18"
  }
 },
 "nbformat": 4,
 "nbformat_minor": 5
}
