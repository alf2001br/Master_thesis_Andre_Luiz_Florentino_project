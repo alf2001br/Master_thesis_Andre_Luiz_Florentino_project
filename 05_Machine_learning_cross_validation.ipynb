{
 "cells": [
  {
   "cell_type": "markdown",
   "id": "3faa6a4b",
   "metadata": {},
   "source": [
    "### Faculdade de Engenharia Industrial - FEI\n",
    "\n",
    "### Centro Universitário da Fundação Educacional Inaciana \"Padre Sabóia de Medeiros\" (FEI)\n",
    "\n",
    "\n",
    "*FEI's Stricto Sensu Graduate Program in Electrical Engineering*\n",
    "\n",
    "Concentration area: ARTIFICIAL INTELLIGENCE APPLIED TO AUTOMATION AND ROBOTICS\n",
    "\n",
    "Master's thesis student Andre Luiz Florentino"
   ]
  },
  {
   "cell_type": "markdown",
   "id": "5bd16632",
   "metadata": {},
   "source": [
    "***"
   ]
  },
  {
   "cell_type": "markdown",
   "id": "02245d16",
   "metadata": {},
   "source": [
    "## Check for GPU"
   ]
  },
  {
   "cell_type": "code",
   "execution_count": 1,
   "id": "6ffabcfc",
   "metadata": {},
   "outputs": [
    {
     "name": "stdout",
     "output_type": "stream",
     "text": [
      "2.10.0\n",
      "PhysicalDevice(name='/physical_device:CPU:0', device_type='CPU')\n",
      "------------------------------------------------------------------------------------------\n",
      "[]\n",
      "<function is_built_with_cuda at 0x000001EA833688B0>\n",
      "\n",
      "PhysicalDevice(name='/physical_device:CPU:0', device_type='CPU')\n"
     ]
    }
   ],
   "source": [
    "import tensorflow as tf\n",
    "print(tf.__version__)\n",
    "\n",
    "pd = tf.config.experimental.list_physical_devices()\n",
    "for i in pd:\n",
    "    print(i)\n",
    "print('------------------------------------------------------------------------------------------')\n",
    "\n",
    "\n",
    "print(tf.config.list_physical_devices('GPU'))\n",
    "# [PhysicalDevice(name='/physical_device:GPU:0', device_type='GPU')]\n",
    "\n",
    "print(tf.test.is_built_with_cuda)\n",
    "# <function is_built_with_cuda at 0x000001AA24AFEC10>\n",
    "\n",
    "print(tf.test.gpu_device_name())\n",
    "# /device:GPU:0\n",
    "\n",
    "#gvd = tf.config.get_visible_devices()\n",
    "for j in tf.config.get_visible_devices():\n",
    "    print(j)\n",
    "# PhysicalDevice(name='/physical_device:CPU:0', device_type='CPU')\n",
    "# PhysicalDevice(name='/physical_device:GPU:0', device_type='GPU')"
   ]
  },
  {
   "cell_type": "markdown",
   "id": "68de63c0",
   "metadata": {},
   "source": [
    "# Chapter 5: Machine learning k-fold cross-validation\n",
    "\n",
    "ASSUMPTION --> run for datasets ESC-10, BDLib2 and US8K:\n",
    "\n",
    "* *01_Feature_extraction_exploration.ipynb*\n",
    "* *02_PreProcessing_and_ML_modeling.ipynb* \n",
    "\n",
    "And run for the new dataset US8K_AV:\n",
    "* *03_New_dataset_US8K_AV.ipynb*\n",
    "\n",
    "After that, run for all datasets:\n",
    "* *04_ML_modeling.ipynb*\n",
    "\n",
    "***"
   ]
  },
  {
   "cell_type": "markdown",
   "id": "f4504379",
   "metadata": {},
   "source": [
    "## Importe modules"
   ]
  },
  {
   "cell_type": "code",
   "execution_count": 2,
   "id": "6f29048a",
   "metadata": {},
   "outputs": [],
   "source": [
    "import librosa\n",
    "import os\n",
    "import glob\n",
    "import warnings\n",
    "import mimetypes\n",
    "import itertools\n",
    "import time\n",
    "import sys\n",
    "\n",
    "import pandas  as pd\n",
    "import seaborn as sns\n",
    "import numpy   as np\n",
    "from IPython.display import display\n",
    "\n",
    "from matplotlib  import pyplot as plt\n",
    "\n",
    "from tqdm                      import tqdm\n",
    "\n",
    "from sklearn                   import metrics\n",
    "from sklearn.feature_selection import mutual_info_classif, SelectKBest, chi2\n",
    "from sklearn.linear_model      import LogisticRegression\n",
    "from sklearn.naive_bayes       import GaussianNB\n",
    "from sklearn.svm               import SVC\n",
    "from sklearn.neighbors         import KNeighborsClassifier\n",
    "from sklearn.ensemble          import RandomForestClassifier, VotingClassifier\n",
    "from sklearn.decomposition     import PCA\n",
    "from sklearn.metrics           import classification_report\n",
    "\n",
    "mimetypes.init()\n",
    "mimetypes.add_type('audio/ogg','.ogg')\n",
    "\n",
    "warnings.filterwarnings('ignore')\n",
    "\n",
    "pd.set_option('display.max_columns', 10)\n",
    "pd.set_option('display.width', 300)\n",
    "pd.set_option('display.max_colwidth', 120)\n",
    "\n",
    "cmap_cm   = plt.cm.Blues"
   ]
  },
  {
   "cell_type": "code",
   "execution_count": 3,
   "id": "de6556a6",
   "metadata": {},
   "outputs": [],
   "source": [
    "# Globals\n",
    "current_path = os.getcwd()\n",
    "\n",
    "# For the picture names\n",
    "pic_first_name = '05_Machine_learning_cross_validation_'\n",
    "\n",
    "# For Librosa\n",
    "FRAME_SIZE  = 1024\n",
    "HOP_LENGTH  = 512\n",
    "SEED        = 1000\n",
    "SR          = 22050"
   ]
  },
  {
   "cell_type": "markdown",
   "id": "53326eea",
   "metadata": {},
   "source": [
    "# Loading the dataset\n"
   ]
  },
  {
   "cell_type": "code",
   "execution_count": 4,
   "id": "64563cdf",
   "metadata": {},
   "outputs": [
    {
     "name": "stdout",
     "output_type": "stream",
     "text": [
      "\n",
      "1-) ESC-10\n",
      "2-) BDLib2\n",
      "3-) US8K\n",
      "4-) US8K_AV\n"
     ]
    },
    {
     "name": "stdin",
     "output_type": "stream",
     "text": [
      "\n",
      "Select the dataset:  3\n"
     ]
    }
   ],
   "source": [
    "# Select the dataset\n",
    "\n",
    "opc = 0\n",
    "while str(opc) not in '1234':\n",
    "    print()\n",
    "    print(\"1-) ESC-10\")\n",
    "    print(\"2-) BDLib2\")\n",
    "    print(\"3-) US8K\")\n",
    "    print(\"4-) US8K_AV\")\n",
    "\n",
    "\n",
    "    opc = input(\"\\nSelect the dataset: \")\n",
    "    if opc.isdigit():\n",
    "        opc = int(opc)\n",
    "    else:\n",
    "        opc = 0\n",
    "\n",
    "if opc == 1:\n",
    "\n",
    "    path        = os.path.join(current_path, \"_dataset\", \"ESC-10\")\n",
    "    path_pic    = os.path.join(current_path, \"ESC-10_results\")\n",
    "    path_models = os.path.join(current_path, \"ESC-10_saved_models\")\n",
    "    \n",
    "   \n",
    "    subfolders  = next(os.walk(path))[1]\n",
    "    nom_dataset = 'ESC-10' \n",
    "    csv_file    = 'ESC-10.csv'\n",
    "    fold        = '1'\n",
    "\n",
    "    pkl_features           = 'ESC-10_features_original.pkl'\n",
    "    pkl_aug_features      = 'ESC-10_features_augmented_no_windowing.pkl'\n",
    "    pkl_aug_wind_features = 'ESC-10_features_augmented.pkl'\n",
    "\n",
    "    \n",
    "if opc == 2:\n",
    "    \n",
    "    path        = os.path.join(current_path, \"_dataset\", \"BDLib2\")\n",
    "    path_pic    = os.path.join(current_path, \"BDLib2_results\")\n",
    "    path_models = os.path.join(current_path, \"BDLib2_saved_models\")\n",
    "\n",
    "    subfolders  = next(os.walk(path))[1]\n",
    "    nom_dataset = 'BDLib2' \n",
    "    csv_file    = 'BDLib2.csv'\n",
    "    fold        = 'fold-1'\n",
    "\n",
    "    pkl_features          = 'BDLib2_features_original.pkl'\n",
    "    pkl_aug_features      = 'BDLib2_features_augmented_no_windowing.pkl'\n",
    "    pkl_aug_wind_features = 'BDLib2_features_augmented.pkl'\n",
    "\n",
    "    \n",
    "if opc == 3:\n",
    "    \n",
    "    path        = os.path.join(current_path, \"_dataset\", \"US8K\")\n",
    "    path_pic    = os.path.join(current_path, \"US8K_results\")\n",
    "    path_models = os.path.join(current_path, \"US8K_saved_models\")\n",
    "    \n",
    "    subfolders  = next(os.walk(path))[1]\n",
    "    nom_dataset = 'US8K' \n",
    "    csv_file    = 'US8K.csv'\n",
    "    fold        = '1'\n",
    "    \n",
    "    pkl_features          = 'US8K_features_original.pkl'\n",
    "    pkl_aug_features      = 'US8K_features_augmented_no_windowing.pkl'\n",
    "    pkl_aug_wind_features = 'US8K_features_windowed.pkl' # augmented and windowed makes no sense. Dataset is already quite large\n",
    "    \n",
    "\n",
    "if opc == 4:\n",
    "\n",
    "    path        = os.path.join(current_path, \"_dataset\", \"US8K_AV\")\n",
    "    path_pic    = os.path.join(current_path, \"US8K_AV_results\")\n",
    "    path_models = os.path.join(current_path, \"US8K_AV_saved_models\")\n",
    "\n",
    "    subfolders  = next(os.walk(path))[1]\n",
    "    nom_dataset = 'US8K_AV' \n",
    "    csv_file    = 'US8K_AV.csv'\n",
    "    fold        = '1'\n",
    "\n",
    "    pkl_features          = 'US8K_AV_features_original.pkl'\n",
    "    pkl_aug_features      = 'US8K_AV_features_augmented_no_windowing.pkl'\n",
    "    pkl_aug_wind_features = 'US8K_AV_features_windowed.pkl' # augmented and windowed makes no sense. Dataset is already quite large"
   ]
  },
  {
   "cell_type": "code",
   "execution_count": 5,
   "id": "c8a054a0",
   "metadata": {},
   "outputs": [],
   "source": [
    "def get_next_file_number(folder: str):\n",
    "    files = [f for f in os.listdir(folder) if os.path.isfile(os.path.join(folder, f)) and f.startswith(pic_first_name)]\n",
    "    if not files:\n",
    "        return 1\n",
    "    else:\n",
    "        numbers = [int(f.split('.')[0].split('_')[-1]) for f in files]\n",
    "        return max(numbers) + 1"
   ]
  },
  {
   "cell_type": "code",
   "execution_count": 6,
   "id": "0ff6af21",
   "metadata": {},
   "outputs": [],
   "source": [
    "from MT_loadDataset import loadDataset"
   ]
  },
  {
   "cell_type": "code",
   "execution_count": 7,
   "id": "d08ecfe4",
   "metadata": {},
   "outputs": [
    {
     "name": "stdout",
     "output_type": "stream",
     "text": [
      "\n",
      "CSV exported.\n",
      "Check the folder :  C:\\Andre_Florentino\\03_particular\\04_mestrado-FEI\\97_master\\_dataset\\US8K\n",
      "\n",
      "Classes:\n",
      "--------------------\n",
      "Class_categorical\n",
      "dog_bark            1000\n",
      "children_playing    1000\n",
      "air_conditioner     1000\n",
      "street_music        1000\n",
      "engine_idling       1000\n",
      "jackhammer          1000\n",
      "drilling            1000\n",
      "siren                929\n",
      "car_horn             429\n",
      "gun_shot             374\n",
      "Name: count, dtype: int64\n",
      "\n",
      "Total number of unique files..........:  8732\n",
      "Total number of AUDIO files...........:  8732\n"
     ]
    },
    {
     "data": {
      "text/html": [
       "<div>\n",
       "<style scoped>\n",
       "    .dataframe tbody tr th:only-of-type {\n",
       "        vertical-align: middle;\n",
       "    }\n",
       "\n",
       "    .dataframe tbody tr th {\n",
       "        vertical-align: top;\n",
       "    }\n",
       "\n",
       "    .dataframe thead th {\n",
       "        text-align: right;\n",
       "    }\n",
       "</style>\n",
       "<table border=\"1\" class=\"dataframe\">\n",
       "  <thead>\n",
       "    <tr style=\"text-align: right;\">\n",
       "      <th></th>\n",
       "      <th>Fold</th>\n",
       "      <th>Folder_name</th>\n",
       "      <th>Class_OHEV</th>\n",
       "      <th>Class_categorical</th>\n",
       "      <th>File_name</th>\n",
       "      <th>...</th>\n",
       "      <th>classID</th>\n",
       "      <th>fsID</th>\n",
       "      <th>start</th>\n",
       "      <th>end</th>\n",
       "      <th>salience</th>\n",
       "    </tr>\n",
       "  </thead>\n",
       "  <tbody>\n",
       "    <tr>\n",
       "      <th>0</th>\n",
       "      <td>5</td>\n",
       "      <td>fold5</td>\n",
       "      <td>[0, 0, 0, 1, 0, 0, 0, 0, 0, 0]</td>\n",
       "      <td>dog_bark</td>\n",
       "      <td>100032-3-0-0.wav</td>\n",
       "      <td>...</td>\n",
       "      <td>3</td>\n",
       "      <td>100032</td>\n",
       "      <td>0.000000</td>\n",
       "      <td>0.317551</td>\n",
       "      <td>1</td>\n",
       "    </tr>\n",
       "    <tr>\n",
       "      <th>1</th>\n",
       "      <td>5</td>\n",
       "      <td>fold5</td>\n",
       "      <td>[0, 0, 1, 0, 0, 0, 0, 0, 0, 0]</td>\n",
       "      <td>children_playing</td>\n",
       "      <td>100263-2-0-117.wav</td>\n",
       "      <td>...</td>\n",
       "      <td>2</td>\n",
       "      <td>100263</td>\n",
       "      <td>58.500000</td>\n",
       "      <td>62.500000</td>\n",
       "      <td>1</td>\n",
       "    </tr>\n",
       "    <tr>\n",
       "      <th>2</th>\n",
       "      <td>5</td>\n",
       "      <td>fold5</td>\n",
       "      <td>[0, 0, 1, 0, 0, 0, 0, 0, 0, 0]</td>\n",
       "      <td>children_playing</td>\n",
       "      <td>100263-2-0-121.wav</td>\n",
       "      <td>...</td>\n",
       "      <td>2</td>\n",
       "      <td>100263</td>\n",
       "      <td>60.500000</td>\n",
       "      <td>64.500000</td>\n",
       "      <td>1</td>\n",
       "    </tr>\n",
       "    <tr>\n",
       "      <th>3</th>\n",
       "      <td>5</td>\n",
       "      <td>fold5</td>\n",
       "      <td>[0, 0, 1, 0, 0, 0, 0, 0, 0, 0]</td>\n",
       "      <td>children_playing</td>\n",
       "      <td>100263-2-0-126.wav</td>\n",
       "      <td>...</td>\n",
       "      <td>2</td>\n",
       "      <td>100263</td>\n",
       "      <td>63.000000</td>\n",
       "      <td>67.000000</td>\n",
       "      <td>1</td>\n",
       "    </tr>\n",
       "    <tr>\n",
       "      <th>4</th>\n",
       "      <td>5</td>\n",
       "      <td>fold5</td>\n",
       "      <td>[0, 0, 1, 0, 0, 0, 0, 0, 0, 0]</td>\n",
       "      <td>children_playing</td>\n",
       "      <td>100263-2-0-137.wav</td>\n",
       "      <td>...</td>\n",
       "      <td>2</td>\n",
       "      <td>100263</td>\n",
       "      <td>68.500000</td>\n",
       "      <td>72.500000</td>\n",
       "      <td>1</td>\n",
       "    </tr>\n",
       "    <tr>\n",
       "      <th>...</th>\n",
       "      <td>...</td>\n",
       "      <td>...</td>\n",
       "      <td>...</td>\n",
       "      <td>...</td>\n",
       "      <td>...</td>\n",
       "      <td>...</td>\n",
       "      <td>...</td>\n",
       "      <td>...</td>\n",
       "      <td>...</td>\n",
       "      <td>...</td>\n",
       "      <td>...</td>\n",
       "    </tr>\n",
       "    <tr>\n",
       "      <th>8727</th>\n",
       "      <td>7</td>\n",
       "      <td>fold7</td>\n",
       "      <td>[0, 1, 0, 0, 0, 0, 0, 0, 0, 0]</td>\n",
       "      <td>car_horn</td>\n",
       "      <td>99812-1-2-0.wav</td>\n",
       "      <td>...</td>\n",
       "      <td>1</td>\n",
       "      <td>99812</td>\n",
       "      <td>159.522205</td>\n",
       "      <td>163.522205</td>\n",
       "      <td>2</td>\n",
       "    </tr>\n",
       "    <tr>\n",
       "      <th>8728</th>\n",
       "      <td>7</td>\n",
       "      <td>fold7</td>\n",
       "      <td>[0, 1, 0, 0, 0, 0, 0, 0, 0, 0]</td>\n",
       "      <td>car_horn</td>\n",
       "      <td>99812-1-3-0.wav</td>\n",
       "      <td>...</td>\n",
       "      <td>1</td>\n",
       "      <td>99812</td>\n",
       "      <td>181.142431</td>\n",
       "      <td>183.284976</td>\n",
       "      <td>2</td>\n",
       "    </tr>\n",
       "    <tr>\n",
       "      <th>8729</th>\n",
       "      <td>7</td>\n",
       "      <td>fold7</td>\n",
       "      <td>[0, 1, 0, 0, 0, 0, 0, 0, 0, 0]</td>\n",
       "      <td>car_horn</td>\n",
       "      <td>99812-1-4-0.wav</td>\n",
       "      <td>...</td>\n",
       "      <td>1</td>\n",
       "      <td>99812</td>\n",
       "      <td>242.691902</td>\n",
       "      <td>246.197885</td>\n",
       "      <td>2</td>\n",
       "    </tr>\n",
       "    <tr>\n",
       "      <th>8730</th>\n",
       "      <td>7</td>\n",
       "      <td>fold7</td>\n",
       "      <td>[0, 1, 0, 0, 0, 0, 0, 0, 0, 0]</td>\n",
       "      <td>car_horn</td>\n",
       "      <td>99812-1-5-0.wav</td>\n",
       "      <td>...</td>\n",
       "      <td>1</td>\n",
       "      <td>99812</td>\n",
       "      <td>253.209850</td>\n",
       "      <td>255.741948</td>\n",
       "      <td>2</td>\n",
       "    </tr>\n",
       "    <tr>\n",
       "      <th>8731</th>\n",
       "      <td>7</td>\n",
       "      <td>fold7</td>\n",
       "      <td>[0, 1, 0, 0, 0, 0, 0, 0, 0, 0]</td>\n",
       "      <td>car_horn</td>\n",
       "      <td>99812-1-6-0.wav</td>\n",
       "      <td>...</td>\n",
       "      <td>1</td>\n",
       "      <td>99812</td>\n",
       "      <td>332.289233</td>\n",
       "      <td>334.821332</td>\n",
       "      <td>2</td>\n",
       "    </tr>\n",
       "  </tbody>\n",
       "</table>\n",
       "<p>8732 rows × 11 columns</p>\n",
       "</div>"
      ],
      "text/plain": [
       "      Fold Folder_name                      Class_OHEV Class_categorical           File_name  ... classID    fsID       start         end  salience\n",
       "0        5       fold5  [0, 0, 0, 1, 0, 0, 0, 0, 0, 0]          dog_bark    100032-3-0-0.wav  ...       3  100032    0.000000    0.317551         1\n",
       "1        5       fold5  [0, 0, 1, 0, 0, 0, 0, 0, 0, 0]  children_playing  100263-2-0-117.wav  ...       2  100263   58.500000   62.500000         1\n",
       "2        5       fold5  [0, 0, 1, 0, 0, 0, 0, 0, 0, 0]  children_playing  100263-2-0-121.wav  ...       2  100263   60.500000   64.500000         1\n",
       "3        5       fold5  [0, 0, 1, 0, 0, 0, 0, 0, 0, 0]  children_playing  100263-2-0-126.wav  ...       2  100263   63.000000   67.000000         1\n",
       "4        5       fold5  [0, 0, 1, 0, 0, 0, 0, 0, 0, 0]  children_playing  100263-2-0-137.wav  ...       2  100263   68.500000   72.500000         1\n",
       "...    ...         ...                             ...               ...                 ...  ...     ...     ...         ...         ...       ...\n",
       "8727     7       fold7  [0, 1, 0, 0, 0, 0, 0, 0, 0, 0]          car_horn     99812-1-2-0.wav  ...       1   99812  159.522205  163.522205         2\n",
       "8728     7       fold7  [0, 1, 0, 0, 0, 0, 0, 0, 0, 0]          car_horn     99812-1-3-0.wav  ...       1   99812  181.142431  183.284976         2\n",
       "8729     7       fold7  [0, 1, 0, 0, 0, 0, 0, 0, 0, 0]          car_horn     99812-1-4-0.wav  ...       1   99812  242.691902  246.197885         2\n",
       "8730     7       fold7  [0, 1, 0, 0, 0, 0, 0, 0, 0, 0]          car_horn     99812-1-5-0.wav  ...       1   99812  253.209850  255.741948         2\n",
       "8731     7       fold7  [0, 1, 0, 0, 0, 0, 0, 0, 0, 0]          car_horn     99812-1-6-0.wav  ...       1   99812  332.289233  334.821332         2\n",
       "\n",
       "[8732 rows x 11 columns]"
      ]
     },
     "execution_count": 7,
     "metadata": {},
     "output_type": "execute_result"
    }
   ],
   "source": [
    "loadDataset = loadDataset(path)\n",
    "DB          = loadDataset.db_B\n",
    "\n",
    "print(\"\\nClasses:\\n--------------------\")\n",
    "print(DB[\"Class_categorical\"].value_counts())\n",
    "print(\"\\nTotal number of unique files..........: \", len(np.unique(DB[\"File_name\"])))\n",
    "print(\"Total number of AUDIO files...........: \", len(DB))\n",
    "DB"
   ]
  },
  {
   "cell_type": "code",
   "execution_count": 8,
   "id": "6aa52adb",
   "metadata": {},
   "outputs": [
    {
     "data": {
      "text/plain": [
       "Fold                   int64\n",
       "Folder_name           object\n",
       "Class_OHEV            object\n",
       "Class_categorical     object\n",
       "File_name             object\n",
       "Path                  object\n",
       "classID                int64\n",
       "fsID                   int64\n",
       "start                float64\n",
       "end                  float64\n",
       "salience               int64\n",
       "dtype: object"
      ]
     },
     "execution_count": 8,
     "metadata": {},
     "output_type": "execute_result"
    }
   ],
   "source": [
    "DB.dtypes"
   ]
  },
  {
   "cell_type": "code",
   "execution_count": 9,
   "id": "c6ee21d6",
   "metadata": {},
   "outputs": [
    {
     "data": {
      "image/png": "[encoded data removed]",
      "text/plain": [
       "<Figure size 1150.62x500 with 1 Axes>"
      ]
     },
     "metadata": {},
     "output_type": "display_data"
    }
   ],
   "source": [
    "# Analysis of the class balancing\n",
    "\n",
    "sns.set_style(\"darkgrid\")\n",
    "gTitle = f'{nom_dataset} - Number of classes = ' + str(len(pd.Series(DB['Class_categorical']).unique()))\n",
    "g = sns.displot(DB,x='Class_categorical', hue='Class_categorical',height = 5, aspect = 2).set(title=gTitle)\n",
    "g.set_xticklabels(rotation=90)\n",
    "g.set_titles('Number of classes')\n",
    "\n",
    "# Retrieve the axes object from the plot\n",
    "axes = g.ax\n",
    "\n",
    "# Iterate over each bar in the plot\n",
    "for p in axes.patches:\n",
    "    # Get the coordinates of the bar\n",
    "    width = p.get_width()\n",
    "    height = p.get_height()\n",
    "    cord_x, cord_y = p.get_xy()\n",
    "    if height > 0:\n",
    "        axes.annotate(f'{height}', (cord_x + width/2, cord_y + height), ha='center')\n",
    "        \n",
    "g._legend.remove()\n",
    "\n",
    "plt.tight_layout()"
   ]
  },
  {
   "cell_type": "code",
   "execution_count": 10,
   "id": "82624f6b",
   "metadata": {},
   "outputs": [
    {
     "name": "stdout",
     "output_type": "stream",
     "text": [
      "\n",
      "1-) Features original\n",
      "2-) Features augmented\n",
      "3-) Features augmented and windowed (US8K only windowed)\n"
     ]
    },
    {
     "name": "stdin",
     "output_type": "stream",
     "text": [
      "\n",
      "Select the dataset:  3\n"
     ]
    }
   ],
   "source": [
    "# Read the pkl file with the augmented features extracted\n",
    "\n",
    "opc = 0\n",
    "while str(opc) not in '123':\n",
    "    print()\n",
    "    print(\"1-) Features original\")\n",
    "    print(\"2-) Features augmented\")\n",
    "    print(\"3-) Features augmented and windowed (US8K only windowed)\")\n",
    "\n",
    "    opc = input(\"\\nSelect the dataset: \")\n",
    "    if opc.isdigit():\n",
    "        opc = int(opc)\n",
    "    else:\n",
    "        opc = 0\n",
    "\n",
    "if opc == 1:\n",
    "    DB_from_pkl   = pd.read_pickle(os.path.join(path_models, pkl_features))\n",
    "    model_surname = '_original'\n",
    "\n",
    "if opc == 2:\n",
    "    DB_from_pkl   = pd.read_pickle(os.path.join(path_models, pkl_aug_features))\n",
    "    model_surname = '_augmented'\n",
    "\n",
    "if opc == 3:\n",
    "    DB_from_pkl = pd.read_pickle(os.path.join(path_models, pkl_aug_wind_features))\n",
    "    model_surname = '_windowed'"
   ]
  },
  {
   "cell_type": "code",
   "execution_count": 11,
   "id": "10c3404c",
   "metadata": {},
   "outputs": [
    {
     "data": {
      "text/plain": [
       "Audio                  object\n",
       "Class_categorical      object\n",
       "Class_OHEV             object\n",
       "Fold                   object\n",
       "RMSE                  float64\n",
       "                       ...   \n",
       "TONNETZ_6             float64\n",
       "TONNETZ_std_6         float64\n",
       "TONNETZ_median_6      float64\n",
       "TONNETZ_skew_6        float64\n",
       "TONNETZ_kurtosis_6    float64\n",
       "Length: 379, dtype: object"
      ]
     },
     "execution_count": 11,
     "metadata": {},
     "output_type": "execute_result"
    }
   ],
   "source": [
    "DB_from_pkl.dtypes"
   ]
  },
  {
   "cell_type": "code",
   "execution_count": 12,
   "id": "f65b3d15",
   "metadata": {},
   "outputs": [
    {
     "name": "stdout",
     "output_type": "stream",
     "text": [
      "Total duration of the dataset:  16.9527 h\n"
     ]
    }
   ],
   "source": [
    "total_duration = 0\n",
    "for audio in DB_from_pkl['Audio']:\n",
    "    total_duration = total_duration + librosa.get_duration(y=audio)\n",
    "print('Total duration of the dataset: ' , \"{:0.4f} h\".format(total_duration / 3600))"
   ]
  },
  {
   "cell_type": "code",
   "execution_count": 13,
   "id": "3ccdf122",
   "metadata": {},
   "outputs": [
    {
     "data": {
      "text/html": [
       "<div>\n",
       "<style scoped>\n",
       "    .dataframe tbody tr th:only-of-type {\n",
       "        vertical-align: middle;\n",
       "    }\n",
       "\n",
       "    .dataframe tbody tr th {\n",
       "        vertical-align: top;\n",
       "    }\n",
       "\n",
       "    .dataframe thead th {\n",
       "        text-align: right;\n",
       "    }\n",
       "</style>\n",
       "<table border=\"1\" class=\"dataframe\">\n",
       "  <thead>\n",
       "    <tr style=\"text-align: right;\">\n",
       "      <th></th>\n",
       "      <th>Audio</th>\n",
       "      <th>Class_categorical</th>\n",
       "      <th>Class_OHEV</th>\n",
       "      <th>Fold</th>\n",
       "      <th>RMSE</th>\n",
       "      <th>...</th>\n",
       "      <th>TONNETZ_6</th>\n",
       "      <th>TONNETZ_std_6</th>\n",
       "      <th>TONNETZ_median_6</th>\n",
       "      <th>TONNETZ_skew_6</th>\n",
       "      <th>TONNETZ_kurtosis_6</th>\n",
       "    </tr>\n",
       "  </thead>\n",
       "  <tbody>\n",
       "    <tr>\n",
       "      <th>0</th>\n",
       "      <td>[-0.0034710653, -0.0050192624, -0.004654482, -0.0049833283, -0.0038681468, -0.0023575649, -0.00025486574, 0.00135406...</td>\n",
       "      <td>dog_bark</td>\n",
       "      <td>[0, 0, 0, 1, 0, 0, 0, 0, 0, 0]</td>\n",
       "      <td>5</td>\n",
       "      <td>0.117183</td>\n",
       "      <td>...</td>\n",
       "      <td>-0.046177</td>\n",
       "      <td>0.025644</td>\n",
       "      <td>-0.046785</td>\n",
       "      <td>0.461191</td>\n",
       "      <td>-0.338882</td>\n",
       "    </tr>\n",
       "    <tr>\n",
       "      <th>1</th>\n",
       "      <td>[-0.015428771, -0.0064468235, -0.002025701, -0.009768408, -0.020482529, -0.03246226, -0.046539657, -0.050950672, -0....</td>\n",
       "      <td>dog_bark</td>\n",
       "      <td>[0, 0, 0, 1, 0, 0, 0, 0, 0, 0]</td>\n",
       "      <td>5</td>\n",
       "      <td>0.111724</td>\n",
       "      <td>...</td>\n",
       "      <td>-0.026347</td>\n",
       "      <td>0.026433</td>\n",
       "      <td>-0.030688</td>\n",
       "      <td>0.414979</td>\n",
       "      <td>-0.840459</td>\n",
       "    </tr>\n",
       "    <tr>\n",
       "      <th>2</th>\n",
       "      <td>[-0.17165461, -0.1961453, -0.2095497, -0.116395764, 0.02499168, 0.15181583, 0.2456393, 0.24304995, 0.1697193, 0.0706...</td>\n",
       "      <td>dog_bark</td>\n",
       "      <td>[0, 0, 0, 1, 0, 0, 0, 0, 0, 0]</td>\n",
       "      <td>5</td>\n",
       "      <td>0.124646</td>\n",
       "      <td>...</td>\n",
       "      <td>-0.045096</td>\n",
       "      <td>0.023640</td>\n",
       "      <td>-0.045384</td>\n",
       "      <td>0.629947</td>\n",
       "      <td>0.096665</td>\n",
       "    </tr>\n",
       "    <tr>\n",
       "      <th>3</th>\n",
       "      <td>[-0.004147315, -0.014180049, -0.016550057, -0.017083425, -0.010863152, -0.0018686495, 0.006234308, 0.00725661, 0.005...</td>\n",
       "      <td>dog_bark</td>\n",
       "      <td>[0, 0, 0, 1, 0, 0, 0, 0, 0, 0]</td>\n",
       "      <td>5</td>\n",
       "      <td>0.110741</td>\n",
       "      <td>...</td>\n",
       "      <td>-0.020052</td>\n",
       "      <td>0.024617</td>\n",
       "      <td>-0.025407</td>\n",
       "      <td>0.554764</td>\n",
       "      <td>-0.364067</td>\n",
       "    </tr>\n",
       "    <tr>\n",
       "      <th>4</th>\n",
       "      <td>[-0.047271818, -0.08598116, -0.08329079, -0.15244874, -0.21367016, -0.26584676, -0.19677721, -0.17195633, -0.0841544...</td>\n",
       "      <td>dog_bark</td>\n",
       "      <td>[0, 0, 0, 1, 0, 0, 0, 0, 0, 0]</td>\n",
       "      <td>5</td>\n",
       "      <td>0.125728</td>\n",
       "      <td>...</td>\n",
       "      <td>-0.032483</td>\n",
       "      <td>0.024934</td>\n",
       "      <td>-0.036388</td>\n",
       "      <td>0.770805</td>\n",
       "      <td>0.232676</td>\n",
       "    </tr>\n",
       "    <tr>\n",
       "      <th>...</th>\n",
       "      <td>...</td>\n",
       "      <td>...</td>\n",
       "      <td>...</td>\n",
       "      <td>...</td>\n",
       "      <td>...</td>\n",
       "      <td>...</td>\n",
       "      <td>...</td>\n",
       "      <td>...</td>\n",
       "      <td>...</td>\n",
       "      <td>...</td>\n",
       "      <td>...</td>\n",
       "    </tr>\n",
       "    <tr>\n",
       "      <th>61119</th>\n",
       "      <td>[-0.024376377, -0.010054192, 0.0009410139, 0.005863713, -0.0005189497, -0.0021953415, 0.0013682423, -0.0043018945, -...</td>\n",
       "      <td>car_horn</td>\n",
       "      <td>[0, 1, 0, 0, 0, 0, 0, 0, 0, 0]</td>\n",
       "      <td>7</td>\n",
       "      <td>0.012771</td>\n",
       "      <td>...</td>\n",
       "      <td>-0.066230</td>\n",
       "      <td>0.033488</td>\n",
       "      <td>-0.069738</td>\n",
       "      <td>0.175013</td>\n",
       "      <td>-0.974133</td>\n",
       "    </tr>\n",
       "    <tr>\n",
       "      <th>61120</th>\n",
       "      <td>[0.0066777063, 0.008175363, 0.006157635, 0.0026387093, 0.00059039844, 0.0030925209, 0.0033645788, 0.0056151543, 0.00...</td>\n",
       "      <td>car_horn</td>\n",
       "      <td>[0, 1, 0, 0, 0, 0, 0, 0, 0, 0]</td>\n",
       "      <td>7</td>\n",
       "      <td>0.007954</td>\n",
       "      <td>...</td>\n",
       "      <td>-0.022097</td>\n",
       "      <td>0.021007</td>\n",
       "      <td>-0.018432</td>\n",
       "      <td>-0.690702</td>\n",
       "      <td>-0.099409</td>\n",
       "    </tr>\n",
       "    <tr>\n",
       "      <th>61121</th>\n",
       "      <td>[-0.0020232266, 0.001032982, 0.0023606261, 0.0017964527, 0.0009908059, -0.0011728329, -0.003362489, -0.0054453667, -...</td>\n",
       "      <td>car_horn</td>\n",
       "      <td>[0, 1, 0, 0, 0, 0, 0, 0, 0, 0]</td>\n",
       "      <td>7</td>\n",
       "      <td>0.008383</td>\n",
       "      <td>...</td>\n",
       "      <td>-0.013611</td>\n",
       "      <td>0.021124</td>\n",
       "      <td>-0.016391</td>\n",
       "      <td>-0.028383</td>\n",
       "      <td>-1.071243</td>\n",
       "    </tr>\n",
       "    <tr>\n",
       "      <th>61122</th>\n",
       "      <td>[-0.0015619812, 0.0005301243, 0.0032789772, 0.002725502, 0.0023546133, -0.0019822496, -0.002666029, -0.004454969, -0...</td>\n",
       "      <td>car_horn</td>\n",
       "      <td>[0, 1, 0, 0, 0, 0, 0, 0, 0, 0]</td>\n",
       "      <td>7</td>\n",
       "      <td>0.010459</td>\n",
       "      <td>...</td>\n",
       "      <td>-0.012274</td>\n",
       "      <td>0.027106</td>\n",
       "      <td>-0.017513</td>\n",
       "      <td>-0.121982</td>\n",
       "      <td>-0.606880</td>\n",
       "    </tr>\n",
       "    <tr>\n",
       "      <th>61123</th>\n",
       "      <td>[9.745802e-05, -0.003326854, -0.007318441, -0.0072634676, -0.0057516163, -0.0039380156, -0.0028245365, -0.000594039,...</td>\n",
       "      <td>car_horn</td>\n",
       "      <td>[0, 1, 0, 0, 0, 0, 0, 0, 0, 0]</td>\n",
       "      <td>7</td>\n",
       "      <td>0.013639</td>\n",
       "      <td>...</td>\n",
       "      <td>-0.058342</td>\n",
       "      <td>0.038524</td>\n",
       "      <td>-0.054895</td>\n",
       "      <td>-0.195825</td>\n",
       "      <td>-1.209213</td>\n",
       "    </tr>\n",
       "  </tbody>\n",
       "</table>\n",
       "<p>61124 rows × 379 columns</p>\n",
       "</div>"
      ],
      "text/plain": [
       "                                                                                                                         Audio Class_categorical                      Class_OHEV Fold      RMSE  ...  TONNETZ_6  TONNETZ_std_6  TONNETZ_median_6  TONNETZ_skew_6  TONNETZ_kurtosis_6\n",
       "0      [-0.0034710653, -0.0050192624, -0.004654482, -0.0049833283, -0.0038681468, -0.0023575649, -0.00025486574, 0.00135406...          dog_bark  [0, 0, 0, 1, 0, 0, 0, 0, 0, 0]    5  0.117183  ...  -0.046177       0.025644         -0.046785        0.461191           -0.338882\n",
       "1      [-0.015428771, -0.0064468235, -0.002025701, -0.009768408, -0.020482529, -0.03246226, -0.046539657, -0.050950672, -0....          dog_bark  [0, 0, 0, 1, 0, 0, 0, 0, 0, 0]    5  0.111724  ...  -0.026347       0.026433         -0.030688        0.414979           -0.840459\n",
       "2      [-0.17165461, -0.1961453, -0.2095497, -0.116395764, 0.02499168, 0.15181583, 0.2456393, 0.24304995, 0.1697193, 0.0706...          dog_bark  [0, 0, 0, 1, 0, 0, 0, 0, 0, 0]    5  0.124646  ...  -0.045096       0.023640         -0.045384        0.629947            0.096665\n",
       "3      [-0.004147315, -0.014180049, -0.016550057, -0.017083425, -0.010863152, -0.0018686495, 0.006234308, 0.00725661, 0.005...          dog_bark  [0, 0, 0, 1, 0, 0, 0, 0, 0, 0]    5  0.110741  ...  -0.020052       0.024617         -0.025407        0.554764           -0.364067\n",
       "4      [-0.047271818, -0.08598116, -0.08329079, -0.15244874, -0.21367016, -0.26584676, -0.19677721, -0.17195633, -0.0841544...          dog_bark  [0, 0, 0, 1, 0, 0, 0, 0, 0, 0]    5  0.125728  ...  -0.032483       0.024934         -0.036388        0.770805            0.232676\n",
       "...                                                                                                                        ...               ...                             ...  ...       ...  ...        ...            ...               ...             ...                 ...\n",
       "61119  [-0.024376377, -0.010054192, 0.0009410139, 0.005863713, -0.0005189497, -0.0021953415, 0.0013682423, -0.0043018945, -...          car_horn  [0, 1, 0, 0, 0, 0, 0, 0, 0, 0]    7  0.012771  ...  -0.066230       0.033488         -0.069738        0.175013           -0.974133\n",
       "61120  [0.0066777063, 0.008175363, 0.006157635, 0.0026387093, 0.00059039844, 0.0030925209, 0.0033645788, 0.0056151543, 0.00...          car_horn  [0, 1, 0, 0, 0, 0, 0, 0, 0, 0]    7  0.007954  ...  -0.022097       0.021007         -0.018432       -0.690702           -0.099409\n",
       "61121  [-0.0020232266, 0.001032982, 0.0023606261, 0.0017964527, 0.0009908059, -0.0011728329, -0.003362489, -0.0054453667, -...          car_horn  [0, 1, 0, 0, 0, 0, 0, 0, 0, 0]    7  0.008383  ...  -0.013611       0.021124         -0.016391       -0.028383           -1.071243\n",
       "61122  [-0.0015619812, 0.0005301243, 0.0032789772, 0.002725502, 0.0023546133, -0.0019822496, -0.002666029, -0.004454969, -0...          car_horn  [0, 1, 0, 0, 0, 0, 0, 0, 0, 0]    7  0.010459  ...  -0.012274       0.027106         -0.017513       -0.121982           -0.606880\n",
       "61123  [9.745802e-05, -0.003326854, -0.007318441, -0.0072634676, -0.0057516163, -0.0039380156, -0.0028245365, -0.000594039,...          car_horn  [0, 1, 0, 0, 0, 0, 0, 0, 0, 0]    7  0.013639  ...  -0.058342       0.038524         -0.054895       -0.195825           -1.209213\n",
       "\n",
       "[61124 rows x 379 columns]"
      ]
     },
     "execution_count": 13,
     "metadata": {},
     "output_type": "execute_result"
    }
   ],
   "source": [
    "DB_from_pkl"
   ]
  },
  {
   "cell_type": "code",
   "execution_count": 14,
   "id": "5592d70f",
   "metadata": {},
   "outputs": [
    {
     "name": "stdout",
     "output_type": "stream",
     "text": [
      "Class_categorical       \n",
      "air_conditioner    21862    [1, 0, 0, 0, 0, 0, 0, 0, 0, 0]\n",
      "car_horn           53318    [0, 1, 0, 0, 0, 0, 0, 0, 0, 0]\n",
      "children_playing   51965    [0, 0, 1, 0, 0, 0, 0, 0, 0, 0]\n",
      "dog_bark           21233    [0, 0, 0, 1, 0, 0, 0, 0, 0, 0]\n",
      "drilling           52240    [0, 0, 0, 0, 1, 0, 0, 0, 0, 0]\n",
      "engine_idling      8304     [0, 0, 0, 0, 0, 1, 0, 0, 0, 0]\n",
      "gun_shot           43257    [0, 0, 0, 0, 0, 0, 1, 0, 0, 0]\n",
      "jackhammer         13713    [0, 0, 0, 0, 0, 0, 0, 1, 0, 0]\n",
      "siren              54022    [0, 0, 0, 0, 0, 0, 0, 0, 1, 0]\n",
      "street_music       59007    [0, 0, 0, 0, 0, 0, 0, 0, 0, 1]\n",
      "Name: Class_OHEV, dtype: object\n"
     ]
    },
    {
     "data": {
      "text/plain": [
       "{'air_conditioner': array([1, 0, 0, 0, 0, 0, 0, 0, 0, 0]),\n",
       " 'car_horn': array([0, 1, 0, 0, 0, 0, 0, 0, 0, 0]),\n",
       " 'children_playing': array([0, 0, 1, 0, 0, 0, 0, 0, 0, 0]),\n",
       " 'dog_bark': array([0, 0, 0, 1, 0, 0, 0, 0, 0, 0]),\n",
       " 'drilling': array([0, 0, 0, 0, 1, 0, 0, 0, 0, 0]),\n",
       " 'engine_idling': array([0, 0, 0, 0, 0, 1, 0, 0, 0, 0]),\n",
       " 'gun_shot': array([0, 0, 0, 0, 0, 0, 1, 0, 0, 0]),\n",
       " 'jackhammer': array([0, 0, 0, 0, 0, 0, 0, 1, 0, 0]),\n",
       " 'siren': array([0, 0, 0, 0, 0, 0, 0, 0, 1, 0]),\n",
       " 'street_music': array([0, 0, 0, 0, 0, 0, 0, 0, 0, 1])}"
      ]
     },
     "execution_count": 14,
     "metadata": {},
     "output_type": "execute_result"
    }
   ],
   "source": [
    "# Group by the class and get one random sample of each class\n",
    "k = DB_from_pkl.groupby('Class_categorical')['Class_OHEV'].apply(lambda s: s.sample(1))\n",
    "print(k)\n",
    "\n",
    "# Convert the pandas series into a dataframe\n",
    "temp_k_df = k.reset_index()\n",
    "\n",
    "# Delete the index from the grouppby result\n",
    "del temp_k_df['level_1']\n",
    "\n",
    "# Set the \"Class\" as the dataframe index\n",
    "temp_k_df.set_index(\"Class_categorical\", inplace=True)\n",
    "\n",
    "# Convert the dataframe to a dictionary (Class: Class_encoder)\n",
    "encoder_dict = temp_k_df[\"Class_OHEV\"].to_dict()\n",
    "encoder_dict"
   ]
  },
  {
   "cell_type": "code",
   "execution_count": 15,
   "id": "2d05be1c",
   "metadata": {},
   "outputs": [
    {
     "data": {
      "text/plain": [
       "['air_conditioner',\n",
       " 'car_horn',\n",
       " 'children_playing',\n",
       " 'dog_bark',\n",
       " 'drilling',\n",
       " 'engine_idling',\n",
       " 'gun_shot',\n",
       " 'jackhammer',\n",
       " 'siren',\n",
       " 'street_music']"
      ]
     },
     "execution_count": 15,
     "metadata": {},
     "output_type": "execute_result"
    }
   ],
   "source": [
    "nom_classes = list(encoder_dict.keys())\n",
    "nom_classes"
   ]
  },
  {
   "cell_type": "markdown",
   "id": "d0504cb8",
   "metadata": {},
   "source": [
    "## ML Modeling"
   ]
  },
  {
   "cell_type": "code",
   "execution_count": 16,
   "id": "e8ae0b2a",
   "metadata": {},
   "outputs": [],
   "source": [
    "def get_mutual_info (X: list, X_val: list, X_norm: list, y: list):\n",
    "    \n",
    "    mutual_info = mutual_info_classif(X_norm, y)\n",
    "    mutual_info = pd.Series(mutual_info)\n",
    "    \n",
    "    threshold = np.mean(mutual_info.sort_values(ascending=False))\n",
    "    print(f' Threshold: {threshold}')\n",
    "    \n",
    "    count_mutual = sum(1 for element in mutual_info if element > threshold)\n",
    "    print(f' Count mutual: {count_mutual}\\n')\n",
    "    \n",
    "    chi2_selector    = SelectKBest(chi2, k=count_mutual).fit(X_norm, y)\n",
    "    mutual_idx_train = chi2_selector.get_support(1)\n",
    "    \n",
    "    X_mutual     = X[X.columns[mutual_idx_train]] # final features\n",
    "    X_val_mutual = X_val[X_val.columns[mutual_idx_train]] # final features\n",
    "\n",
    "    print(f'X_train_mutual...: {X_mutual.shape}')\n",
    "    print(f'X_val_mutual.....: {X_val_mutual.shape}\\n')\n",
    "\n",
    "    return X_mutual, X_val_mutual"
   ]
  },
  {
   "cell_type": "code",
   "execution_count": 17,
   "id": "73c4cf38",
   "metadata": {},
   "outputs": [],
   "source": [
    "# Plot the confusion matrix\n",
    "\n",
    "def plot_confusion_matrix(cm, labels, title, cmap, normalize):\n",
    "\n",
    "    if labels is not None:\n",
    "        tick_marks = np.arange(len(labels))\n",
    "        plt.xticks(tick_marks, labels, fontsize=10, rotation=45)\n",
    "        plt.yticks(tick_marks, labels, fontsize=10)\n",
    "   \n",
    "    if cmap is None:\n",
    "        cmap = plt.get_cmap('Blues')\n",
    "    \n",
    "    if normalize:\n",
    "        cm = cm.astype('float') / cm.sum(axis=1)[:, np.newaxis]\n",
    "\n",
    "    thresh = cm.max() / 1.5 if normalize else cm.max() / 2\n",
    "    \n",
    "    for i, j in itertools.product(range(cm.shape[0]), range(cm.shape[1])):\n",
    "        if normalize:\n",
    "            plt.text(j, i, \"{:0.4f}\".format(cm[i, j]),\n",
    "                     horizontalalignment=\"center\",\n",
    "                     color=\"white\" if cm[i, j] > thresh else \"black\", fontsize = 8)\n",
    "        else:\n",
    "            plt.text(j, i, \"{:,}\".format(cm[i, j]),\n",
    "                     horizontalalignment=\"center\",\n",
    "                     color=\"white\" if cm[i, j] > thresh else \"black\", fontsize = 8)\n",
    "\n",
    "    plt.imshow(cm, interpolation = 'nearest', cmap = cmap)\n",
    "    plt.title(title, fontsize=13)\n",
    "    plt.colorbar(shrink=1)\n",
    "    plt.ylabel('True label')\n",
    "    plt.xlabel('Predicted label')\n",
    "    plt.grid(None)\n",
    "    plt.tight_layout()"
   ]
  },
  {
   "cell_type": "code",
   "execution_count": 18,
   "id": "b1a186ee",
   "metadata": {},
   "outputs": [],
   "source": [
    "# Pipeline to run the classifiers and their metrics using k-fold stratification according to the dataset specification\n",
    "\n",
    "def model_classifiers(db: pd.DataFrame, \n",
    "                      scalerOpt: str, \n",
    "                      use_PCA = False,\n",
    "                      use_mutual = False):\n",
    "    \n",
    "    if use_PCA:\n",
    "        p = 2\n",
    "    else:\n",
    "        p = 1\n",
    "    \n",
    "    classifiers = ['Naïve Bayes', 'SVC', 'LogisticR', 'KNN', 'Forest', 'Voting']\n",
    "    \n",
    "    \n",
    "    NB_c          = GaussianNB()\n",
    "    SVC_c         = SVC(kernel = 'linear', C = 0.5, probability = True, random_state = SEED)\n",
    "    LogisticR_c   = LogisticRegression(solver = 'saga', max_iter = 500, C = 0.5, n_jobs = -1)\n",
    "    KNN_c         = KNeighborsClassifier(n_neighbors = 3, metric = 'minkowski', p = p, leaf_size = 20, n_jobs = -1)\n",
    "    forest_c      = RandomForestClassifier(n_estimators = 500, criterion = 'gini',bootstrap = True, n_jobs = -1)\n",
    "    voting_c      = VotingClassifier(estimators = [(classifiers[0], NB_c),\n",
    "                                                   (classifiers[1], SVC_c),\n",
    "                                                   (classifiers[2], LogisticR_c),\n",
    "                                                   (classifiers[3], KNN_c)],\n",
    "                                     voting = 'soft')\n",
    "    \n",
    "    dic_classifiers = {'GaussianNB': NB_c, \n",
    "                       'SVC': SVC_c, \n",
    "                       'LogisticR' : LogisticR_c, \n",
    "                       'KNN': KNN_c, \n",
    "                       'Forest': forest_c, \n",
    "                       'Voting': voting_c}\n",
    "\n",
    "    count       = 1\n",
    "    ratio       = []\n",
    "    models      = []\n",
    "    acc_set     = pd.DataFrame(index=None, columns=['Model',\n",
    "                                                    'Fold',\n",
    "                                                    'Accuracy(Train)',\n",
    "                                                    'Accuracy(Validation)',\n",
    "                                                    'F1(Train)',\n",
    "                                                    'F1(Validation)', \n",
    "                                                    'Precision(Train)',\n",
    "                                                    'Precision(Validation)', \n",
    "                                                    'Recall(Train)',\n",
    "                                                    'Recall(Validation)', \n",
    "                                                    'Conf_M',\n",
    "                                                    'Process_time'])\n",
    "    \n",
    "    for fold in np.unique(db['Fold']):\n",
    "        print(f\"Validation fold: {fold}\")\n",
    "    \n",
    "        DB_VAL = db[db['Fold'] == fold]\n",
    "        DB_TRN = db[db['Fold'] != fold]\n",
    "        \n",
    "        X      = DB_TRN.drop(columns=['Audio','Class_categorical','Class_OHEV', 'Fold'])\n",
    "        y      = np.array(DB_TRN.Class_categorical.to_list())\n",
    "        y_OHEV = np.array(DB_TRN.Class_OHEV.to_list())\n",
    "\n",
    "        X_val      = DB_VAL.drop(columns=['Audio','Class_categorical','Class_OHEV', 'Fold'])\n",
    "        y_val      = np.array(DB_VAL.Class_categorical.to_list())\n",
    "        y_OHEV_val = np.array(DB_VAL.Class_OHEV.to_list())\n",
    "\n",
    "        X_statistics = pd.DataFrame({'mean': X.mean(), 'std': X.std(), 'min': X.min(), 'max': X.max()})\n",
    "\n",
    "        X_mean   = X_statistics.values[:, 0]\n",
    "        X_std    = X_statistics.values[:, 1]\n",
    "        X_min    = X_statistics.values[:, 2]\n",
    "        X_max    = X_statistics.values[:, 3]\n",
    "        \n",
    "        if scalerOpt == \"normalization\":\n",
    "            X_train_norm = (X.values - X_min) / (X_max - X_min)\n",
    "            X_val_norm   = (X_val.values - X_min) / (X_max - X_min)\n",
    "            batch_type    = '_norm'\n",
    "            print(f'X_train_norm shape...:{X_train_norm.shape}')\n",
    "            print(f'X_val_norm shape.....:{X_val_norm.shape}\\n')\n",
    "            \n",
    "        elif scalerOpt == \"standardization\":\n",
    "            X_train_norm = (X.values - X_mean) / X_std\n",
    "            X_val_norm   = (X_val.values - X_mean) / X_std\n",
    "            batch_type    = '_std'\n",
    "            print(f'X_train_norm shape...:{X_train_norm.shape}')\n",
    "            print(f'X_val_norm shape.....:{X_val_norm.shape}\\n')\n",
    "            \n",
    "        else:\n",
    "            sys.exit()\n",
    "            \n",
    "        if use_mutual:\n",
    "            if scalerOpt == \"standardization\":\n",
    "                print(f'Mutual information requires normalization!')\n",
    "                sys.exit()\n",
    "            else:\n",
    "                X_train_norm, X_val_norm = get_mutual_info(X, X_val, X_train_norm, y)\n",
    "                classifiers = ['Forest']\n",
    "                dic_classifiers = {'Forest': forest_c}\n",
    "                batch_type    = batch_type + '_mutual'\n",
    "   \n",
    "        if use_PCA:\n",
    "            pcaT = PCA()\n",
    "            pcaT.fit(X_train_norm)\n",
    "            ratio = pcaT.explained_variance_ratio_\n",
    "            \n",
    "            batch_type = batch_type + '_PCA'\n",
    "            \n",
    "            T           = 0.98\n",
    "            current_sum = 0\n",
    "            countComp   = 0\n",
    "\n",
    "            for element in ratio:\n",
    "                current_sum += element\n",
    "                countComp   += 1\n",
    "\n",
    "                if current_sum >= T:\n",
    "                    break\n",
    "\n",
    "            # Print the result\n",
    "            print(f'Sum of elements............: {current_sum}')\n",
    "            print(f'Number of elements summed..: {countComp}\\n')           \n",
    "            \n",
    "            pca          = PCA(n_components = countComp)\n",
    "            X_train_norm = pca.fit_transform(X_train_norm)\n",
    "            X_val_norm   = pca.transform(X_val_norm)\n",
    "            \n",
    "        for c in tqdm(dic_classifiers.items()):\n",
    "            \n",
    "            name         = c[0]\n",
    "            model_name   = ('Model_' + c[0] + '_' + str(count))\n",
    "            count        = count + 1\n",
    "            model        = c[1]\n",
    "            print(name)\n",
    "            print(model)\n",
    "            print(np.shape(X_train_norm))\n",
    "            \n",
    "            # Fitting the model to the classifier\n",
    "            model.fit(X_train_norm, y)\n",
    "\n",
    "            # Get the model predictions\n",
    "            y_train_predicted = model.predict(X_train_norm)\n",
    "            \n",
    "            t_srt             = time.process_time_ns()\n",
    "            y_val_predicited  = model.predict(X_val_norm)\n",
    "            t_end             = time.process_time_ns()\n",
    "            proc_time         = ((t_end - t_srt) / 1000000)\n",
    "\n",
    "            # Compute the classifier metrics\n",
    "            accuracy_train = metrics.accuracy_score(y, y_train_predicted)\n",
    "            accuracy_val   = metrics.accuracy_score(y_val,  y_val_predicited)\n",
    "\n",
    "            f1_Score_train = metrics.f1_score(y, y_train_predicted, average = 'weighted')\n",
    "            f1_Score_val   = metrics.f1_score(y_val,  y_val_predicited, average = 'weighted')\n",
    "\n",
    "            precision_score_train = metrics.precision_score(y, y_train_predicted, average = 'weighted')\n",
    "            precision_score_val   = metrics.precision_score(y_val,  y_val_predicited, average = 'weighted')\n",
    "\n",
    "            recall_score_train = metrics.recall_score(y, y_train_predicted, average = 'weighted')\n",
    "            recall_score_val   = metrics.recall_score(y_val,  y_val_predicited, average = 'weighted')\n",
    "\n",
    "            class_report_val = classification_report(y_val, y_val_predicited)\n",
    "            print(class_report_val)\n",
    "            \n",
    "            # Compute the confusion matrix\n",
    "            CM = metrics.confusion_matrix(y_val, y_val_predicited)\n",
    "\n",
    "            # Store the name, validation accuracy results and model\n",
    "            models.append((name, accuracy_val, model))\n",
    "            \n",
    "            del model\n",
    "                    \n",
    "            acc_set = pd.concat([acc_set, pd.DataFrame({'Model': [name],\n",
    "                                                        'Fold': [fold],\n",
    "                                                        'Accuracy(Train)': [accuracy_train],\n",
    "                                                        'Accuracy(Validation)': [accuracy_val],\n",
    "                                                        'F1(Train)': [f1_Score_train],\n",
    "                                                        'F1(Validation)': [f1_Score_val],\n",
    "                                                        'Precision(Train)': [precision_score_train],\n",
    "                                                        'Precision(Validation)': [precision_score_val],\n",
    "                                                        'Recall(Train)': [recall_score_train],\n",
    "                                                        'Recall(Validation)': [recall_score_val],\n",
    "                                                        'Conf_M': [CM],\n",
    "                                                        'Process_time': [proc_time]})], ignore_index = True)\n",
    "                   \n",
    "    return acc_set, models, ratio, batch_type"
   ]
  },
  {
   "cell_type": "code",
   "execution_count": null,
   "id": "358bab9c",
   "metadata": {},
   "outputs": [
    {
     "name": "stdout",
     "output_type": "stream",
     "text": [
      "Validation fold: 1\n",
      "X_train_norm shape...:(55013, 375)\n",
      "X_val_norm shape.....:(6111, 375)\n",
      "\n",
      "Sum of elements............: 0.9803541013471814\n",
      "Number of elements summed..: 241\n",
      "\n"
     ]
    },
    {
     "name": "stderr",
     "output_type": "stream",
     "text": [
      "  0%|                                                                                            | 0/6 [00:00<?, ?it/s]"
     ]
    },
    {
     "name": "stdout",
     "output_type": "stream",
     "text": [
      "GaussianNB\n",
      "GaussianNB()\n",
      "(55013, 241)\n"
     ]
    },
    {
     "name": "stderr",
     "output_type": "stream",
     "text": [
      " 17%|██████████████                                                                      | 1/6 [00:03<00:15,  3.05s/it]"
     ]
    },
    {
     "name": "stdout",
     "output_type": "stream",
     "text": [
      "                  precision    recall  f1-score   support\n",
      "\n",
      " air_conditioner       0.25      0.26      0.26       700\n",
      "        car_horn       0.17      0.44      0.25       252\n",
      "children_playing       0.39      0.73      0.51       700\n",
      "        dog_bark       0.49      0.39      0.44       700\n",
      "        drilling       0.63      0.19      0.29       700\n",
      "   engine_idling       0.37      0.19      0.26       672\n",
      "        gun_shot       0.60      0.38      0.47       245\n",
      "      jackhammer       0.57      0.83      0.68       840\n",
      "           siren       0.30      0.22      0.25       602\n",
      "    street_music       0.39      0.25      0.31       700\n",
      "\n",
      "        accuracy                           0.40      6111\n",
      "       macro avg       0.42      0.39      0.37      6111\n",
      "    weighted avg       0.43      0.40      0.38      6111\n",
      "\n",
      "SVC\n",
      "SVC(C=0.5, kernel='linear', probability=True, random_state=1000)\n",
      "(55013, 241)\n"
     ]
    },
    {
     "name": "stderr",
     "output_type": "stream",
     "text": [
      " 33%|██████████████████████████▋                                                     | 2/6 [30:02<1:10:40, 1060.01s/it]"
     ]
    },
    {
     "name": "stdout",
     "output_type": "stream",
     "text": [
      "                  precision    recall  f1-score   support\n",
      "\n",
      " air_conditioner       0.53      0.37      0.43       700\n",
      "        car_horn       0.61      0.87      0.72       252\n",
      "children_playing       0.59      0.78      0.67       700\n",
      "        dog_bark       0.61      0.76      0.68       700\n",
      "        drilling       0.50      0.56      0.53       700\n",
      "   engine_idling       0.53      0.55      0.54       672\n",
      "        gun_shot       0.91      0.80      0.85       245\n",
      "      jackhammer       0.62      0.30      0.40       840\n",
      "           siren       0.72      0.67      0.70       602\n",
      "    street_music       0.59      0.66      0.62       700\n",
      "\n",
      "        accuracy                           0.60      6111\n",
      "       macro avg       0.62      0.63      0.61      6111\n",
      "    weighted avg       0.60      0.60      0.58      6111\n",
      "\n",
      "LogisticR\n",
      "LogisticRegression(C=0.5, max_iter=500, n_jobs=-1, solver='saga')\n",
      "(55013, 241)\n"
     ]
    },
    {
     "name": "stderr",
     "output_type": "stream",
     "text": [
      " 50%|█████████████████████████████████████████▌                                         | 3/6 [36:21<37:25, 748.62s/it]"
     ]
    },
    {
     "name": "stdout",
     "output_type": "stream",
     "text": [
      "                  precision    recall  f1-score   support\n",
      "\n",
      " air_conditioner       0.63      0.41      0.50       700\n",
      "        car_horn       0.69      0.86      0.77       252\n",
      "children_playing       0.62      0.77      0.69       700\n",
      "        dog_bark       0.72      0.76      0.74       700\n",
      "        drilling       0.49      0.49      0.49       700\n",
      "   engine_idling       0.62      0.56      0.59       672\n",
      "        gun_shot       0.66      0.91      0.76       245\n",
      "      jackhammer       0.69      0.57      0.62       840\n",
      "           siren       0.71      0.71      0.71       602\n",
      "    street_music       0.56      0.65      0.60       700\n",
      "\n",
      "        accuracy                           0.63      6111\n",
      "       macro avg       0.64      0.67      0.65      6111\n",
      "    weighted avg       0.63      0.63      0.63      6111\n",
      "\n",
      "KNN\n",
      "KNeighborsClassifier(leaf_size=20, n_jobs=-1, n_neighbors=3)\n",
      "(55013, 241)\n"
     ]
    },
    {
     "name": "stderr",
     "output_type": "stream",
     "text": [
      " 67%|███████████████████████████████████████████████████████▎                           | 4/6 [36:42<15:23, 461.68s/it]"
     ]
    },
    {
     "name": "stdout",
     "output_type": "stream",
     "text": [
      "                  precision    recall  f1-score   support\n",
      "\n",
      " air_conditioner       0.21      0.16      0.18       700\n",
      "        car_horn       0.70      0.81      0.75       252\n",
      "children_playing       0.43      0.77      0.55       700\n",
      "        dog_bark       0.52      0.61      0.56       700\n",
      "        drilling       0.48      0.50      0.49       700\n",
      "   engine_idling       0.52      0.38      0.44       672\n",
      "        gun_shot       0.88      0.91      0.89       245\n",
      "      jackhammer       0.34      0.24      0.28       840\n",
      "           siren       0.78      0.71      0.75       602\n",
      "    street_music       0.69      0.54      0.61       700\n",
      "\n",
      "        accuracy                           0.51      6111\n",
      "       macro avg       0.55      0.56      0.55      6111\n",
      "    weighted avg       0.51      0.51      0.50      6111\n",
      "\n",
      "Forest\n",
      "RandomForestClassifier(n_estimators=500, n_jobs=-1)\n",
      "(55013, 241)\n"
     ]
    },
    {
     "name": "stderr",
     "output_type": "stream",
     "text": [
      " 83%|█████████████████████████████████████████████████████████████████████▏             | 5/6 [41:48<06:45, 405.42s/it]"
     ]
    },
    {
     "name": "stdout",
     "output_type": "stream",
     "text": [
      "                  precision    recall  f1-score   support\n",
      "\n",
      " air_conditioner       0.50      0.19      0.28       700\n",
      "        car_horn       0.81      0.75      0.78       252\n",
      "children_playing       0.56      0.75      0.64       700\n",
      "        dog_bark       0.57      0.79      0.66       700\n",
      "        drilling       0.54      0.64      0.59       700\n",
      "   engine_idling       0.63      0.51      0.57       672\n",
      "        gun_shot       0.93      0.75      0.83       245\n",
      "      jackhammer       0.59      0.52      0.55       840\n",
      "           siren       0.82      0.79      0.81       602\n",
      "    street_music       0.65      0.72      0.68       700\n",
      "\n",
      "        accuracy                           0.62      6111\n",
      "       macro avg       0.66      0.64      0.64      6111\n",
      "    weighted avg       0.62      0.62      0.61      6111\n",
      "\n",
      "Voting\n",
      "VotingClassifier(estimators=[('Naïve Bayes', GaussianNB()),\n",
      "                             ('SVC',\n",
      "                              SVC(C=0.5, kernel='linear', probability=True,\n",
      "                                  random_state=1000)),\n",
      "                             ('LogisticR',\n",
      "                              LogisticRegression(C=0.5, max_iter=500, n_jobs=-1,\n",
      "                                                 solver='saga')),\n",
      "                             ('KNN',\n",
      "                              KNeighborsClassifier(leaf_size=20, n_jobs=-1,\n",
      "                                                   n_neighbors=3))],\n",
      "                 voting='soft')\n",
      "(55013, 241)\n"
     ]
    },
    {
     "name": "stderr",
     "output_type": "stream",
     "text": [
      "100%|█████████████████████████████████████████████████████████████████████████████████| 6/6 [1:18:41<00:00, 786.87s/it]"
     ]
    },
    {
     "name": "stdout",
     "output_type": "stream",
     "text": [
      "                  precision    recall  f1-score   support\n",
      "\n",
      " air_conditioner       0.44      0.28      0.34       700\n",
      "        car_horn       0.70      0.89      0.78       252\n",
      "children_playing       0.52      0.85      0.65       700\n",
      "        dog_bark       0.67      0.72      0.69       700\n",
      "        drilling       0.56      0.55      0.55       700\n",
      "   engine_idling       0.70      0.47      0.56       672\n",
      "        gun_shot       0.89      0.91      0.90       245\n",
      "      jackhammer       0.58      0.59      0.59       840\n",
      "           siren       0.71      0.68      0.70       602\n",
      "    street_music       0.68      0.60      0.64       700\n",
      "\n",
      "        accuracy                           0.62      6111\n",
      "       macro avg       0.65      0.66      0.64      6111\n",
      "    weighted avg       0.62      0.62      0.61      6111\n",
      "\n",
      "Validation fold: 10\n"
     ]
    },
    {
     "name": "stderr",
     "output_type": "stream",
     "text": [
      "\n"
     ]
    },
    {
     "name": "stdout",
     "output_type": "stream",
     "text": [
      "X_train_norm shape...:(55265, 375)\n",
      "X_val_norm shape.....:(5859, 375)\n",
      "\n",
      "Sum of elements............: 0.9800512129496242\n",
      "Number of elements summed..: 244\n",
      "\n"
     ]
    },
    {
     "name": "stderr",
     "output_type": "stream",
     "text": [
      "  0%|                                                                                            | 0/6 [00:00<?, ?it/s]"
     ]
    },
    {
     "name": "stdout",
     "output_type": "stream",
     "text": [
      "GaussianNB\n",
      "GaussianNB()\n",
      "(55265, 244)\n"
     ]
    },
    {
     "name": "stderr",
     "output_type": "stream",
     "text": [
      " 17%|██████████████                                                                      | 1/6 [00:02<00:14,  2.88s/it]"
     ]
    },
    {
     "name": "stdout",
     "output_type": "stream",
     "text": [
      "                  precision    recall  f1-score   support\n",
      "\n",
      " air_conditioner       0.22      0.36      0.27       700\n",
      "        car_horn       0.23      0.39      0.29       231\n",
      "children_playing       0.35      0.59      0.44       700\n",
      "        dog_bark       0.50      0.39      0.44       700\n",
      "        drilling       0.66      0.16      0.26       700\n",
      "   engine_idling       0.49      0.10      0.17       651\n",
      "        gun_shot       0.71      0.67      0.69       224\n",
      "      jackhammer       0.42      0.91      0.58       672\n",
      "           siren       0.65      0.16      0.26       581\n",
      "    street_music       0.54      0.39      0.45       700\n",
      "\n",
      "        accuracy                           0.40      5859\n",
      "       macro avg       0.48      0.41      0.38      5859\n",
      "    weighted avg       0.47      0.40      0.37      5859\n",
      "\n",
      "SVC\n",
      "SVC(C=0.5, kernel='linear', probability=True, random_state=1000)\n",
      "(55265, 244)\n"
     ]
    },
    {
     "name": "stderr",
     "output_type": "stream",
     "text": [
      " 33%|██████████████████████████▋                                                     | 2/6 [35:32<1:23:35, 1253.85s/it]"
     ]
    },
    {
     "name": "stdout",
     "output_type": "stream",
     "text": [
      "                  precision    recall  f1-score   support\n",
      "\n",
      " air_conditioner       0.67      0.60      0.63       700\n",
      "        car_horn       0.71      0.66      0.68       231\n",
      "children_playing       0.54      0.83      0.65       700\n",
      "        dog_bark       0.71      0.69      0.70       700\n",
      "        drilling       0.68      0.68      0.68       700\n",
      "   engine_idling       0.70      0.67      0.69       651\n",
      "        gun_shot       0.83      0.90      0.86       224\n",
      "      jackhammer       0.85      0.75      0.79       672\n",
      "           siren       0.72      0.47      0.57       581\n",
      "    street_music       0.75      0.76      0.76       700\n",
      "\n",
      "        accuracy                           0.69      5859\n",
      "       macro avg       0.71      0.70      0.70      5859\n",
      "    weighted avg       0.71      0.69      0.69      5859\n",
      "\n",
      "LogisticR\n",
      "LogisticRegression(C=0.5, max_iter=500, n_jobs=-1, solver='saga')\n",
      "(55265, 244)\n"
     ]
    },
    {
     "name": "stderr",
     "output_type": "stream",
     "text": [
      " 50%|█████████████████████████████████████████▌                                         | 3/6 [43:15<44:38, 892.77s/it]"
     ]
    },
    {
     "name": "stdout",
     "output_type": "stream",
     "text": [
      "                  precision    recall  f1-score   support\n",
      "\n",
      " air_conditioner       0.68      0.63      0.66       700\n",
      "        car_horn       0.85      0.68      0.76       231\n",
      "children_playing       0.57      0.78      0.66       700\n",
      "        dog_bark       0.75      0.69      0.72       700\n",
      "        drilling       0.68      0.63      0.65       700\n",
      "   engine_idling       0.66      0.69      0.68       651\n",
      "        gun_shot       0.96      0.89      0.92       224\n",
      "      jackhammer       0.70      0.80      0.75       672\n",
      "           siren       0.72      0.50      0.59       581\n",
      "    street_music       0.76      0.78      0.77       700\n",
      "\n",
      "        accuracy                           0.70      5859\n",
      "       macro avg       0.73      0.71      0.71      5859\n",
      "    weighted avg       0.71      0.70      0.70      5859\n",
      "\n",
      "KNN\n",
      "KNeighborsClassifier(leaf_size=20, n_jobs=-1, n_neighbors=3)\n",
      "(55265, 244)\n"
     ]
    },
    {
     "name": "stderr",
     "output_type": "stream",
     "text": [
      " 67%|███████████████████████████████████████████████████████▎                           | 4/6 [43:42<18:21, 550.91s/it]"
     ]
    },
    {
     "name": "stdout",
     "output_type": "stream",
     "text": [
      "                  precision    recall  f1-score   support\n",
      "\n",
      " air_conditioner       0.49      0.71      0.58       700\n",
      "        car_horn       0.53      0.51      0.52       231\n",
      "children_playing       0.37      0.79      0.51       700\n",
      "        dog_bark       0.75      0.54      0.63       700\n",
      "        drilling       0.62      0.37      0.47       700\n",
      "   engine_idling       0.79      0.52      0.63       651\n",
      "        gun_shot       0.84      0.88      0.86       224\n",
      "      jackhammer       0.54      0.51      0.52       672\n",
      "           siren       0.59      0.41      0.48       581\n",
      "    street_music       0.77      0.58      0.66       700\n",
      "\n",
      "        accuracy                           0.57      5859\n",
      "       macro avg       0.63      0.58      0.58      5859\n",
      "    weighted avg       0.62      0.57      0.57      5859\n",
      "\n",
      "Forest\n",
      "RandomForestClassifier(n_estimators=500, n_jobs=-1)\n",
      "(55265, 244)\n"
     ]
    },
    {
     "name": "stderr",
     "output_type": "stream",
     "text": [
      " 83%|█████████████████████████████████████████████████████████████████████▏             | 5/6 [48:49<07:42, 462.96s/it]"
     ]
    },
    {
     "name": "stdout",
     "output_type": "stream",
     "text": [
      "                  precision    recall  f1-score   support\n",
      "\n",
      " air_conditioner       0.76      0.78      0.77       700\n",
      "        car_horn       0.80      0.54      0.64       231\n",
      "children_playing       0.46      0.82      0.59       700\n",
      "        dog_bark       0.82      0.68      0.74       700\n",
      "        drilling       0.57      0.58      0.58       700\n",
      "   engine_idling       0.87      0.71      0.78       651\n",
      "        gun_shot       0.91      0.84      0.87       224\n",
      "      jackhammer       0.70      0.65      0.68       672\n",
      "           siren       0.73      0.44      0.55       581\n",
      "    street_music       0.73      0.76      0.75       700\n",
      "\n",
      "        accuracy                           0.68      5859\n",
      "       macro avg       0.74      0.68      0.70      5859\n",
      "    weighted avg       0.72      0.68      0.69      5859\n",
      "\n",
      "Voting\n",
      "VotingClassifier(estimators=[('Naïve Bayes', GaussianNB()),\n",
      "                             ('SVC',\n",
      "                              SVC(C=0.5, kernel='linear', probability=True,\n",
      "                                  random_state=1000)),\n",
      "                             ('LogisticR',\n",
      "                              LogisticRegression(C=0.5, max_iter=500, n_jobs=-1,\n",
      "                                                 solver='saga')),\n",
      "                             ('KNN',\n",
      "                              KNeighborsClassifier(leaf_size=20, n_jobs=-1,\n",
      "                                                   n_neighbors=3))],\n",
      "                 voting='soft')\n",
      "(55265, 244)\n"
     ]
    },
    {
     "name": "stderr",
     "output_type": "stream",
     "text": [
      "100%|█████████████████████████████████████████████████████████████████████████████████| 6/6 [1:27:35<00:00, 875.99s/it]"
     ]
    },
    {
     "name": "stdout",
     "output_type": "stream",
     "text": [
      "                  precision    recall  f1-score   support\n",
      "\n",
      " air_conditioner       0.66      0.73      0.69       700\n",
      "        car_horn       0.81      0.67      0.73       231\n",
      "children_playing       0.50      0.87      0.63       700\n",
      "        dog_bark       0.85      0.67      0.75       700\n",
      "        drilling       0.85      0.61      0.71       700\n",
      "   engine_idling       0.80      0.58      0.67       651\n",
      "        gun_shot       0.96      0.94      0.95       224\n",
      "      jackhammer       0.66      0.93      0.77       672\n",
      "           siren       0.80      0.45      0.58       581\n",
      "    street_music       0.78      0.73      0.75       700\n",
      "\n",
      "        accuracy                           0.71      5859\n",
      "       macro avg       0.77      0.72      0.72      5859\n",
      "    weighted avg       0.75      0.71      0.71      5859\n",
      "\n",
      "Validation fold: 2\n"
     ]
    },
    {
     "name": "stderr",
     "output_type": "stream",
     "text": [
      "\n"
     ]
    },
    {
     "name": "stdout",
     "output_type": "stream",
     "text": [
      "X_train_norm shape...:(54908, 375)\n",
      "X_val_norm shape.....:(6216, 375)\n",
      "\n",
      "Sum of elements............: 0.9802930008337611\n",
      "Number of elements summed..: 244\n",
      "\n"
     ]
    },
    {
     "name": "stderr",
     "output_type": "stream",
     "text": [
      "  0%|                                                                                            | 0/6 [00:00<?, ?it/s]"
     ]
    },
    {
     "name": "stdout",
     "output_type": "stream",
     "text": [
      "GaussianNB\n",
      "GaussianNB()\n",
      "(54908, 244)\n"
     ]
    },
    {
     "name": "stderr",
     "output_type": "stream",
     "text": [
      " 17%|██████████████                                                                      | 1/6 [00:02<00:13,  2.78s/it]"
     ]
    },
    {
     "name": "stdout",
     "output_type": "stream",
     "text": [
      "                  precision    recall  f1-score   support\n",
      "\n",
      " air_conditioner       0.27      0.66      0.39       700\n",
      "        car_horn       0.15      0.17      0.16       294\n",
      "children_playing       0.36      0.63      0.45       700\n",
      "        dog_bark       0.60      0.40      0.48       700\n",
      "        drilling       0.47      0.08      0.14       700\n",
      "   engine_idling       0.13      0.06      0.09       700\n",
      "        gun_shot       0.54      0.61      0.57       245\n",
      "      jackhammer       0.53      0.58      0.56       840\n",
      "           siren       0.54      0.27      0.36       637\n",
      "    street_music       0.29      0.21      0.24       700\n",
      "\n",
      "        accuracy                           0.37      6216\n",
      "       macro avg       0.39      0.37      0.34      6216\n",
      "    weighted avg       0.39      0.37      0.34      6216\n",
      "\n",
      "SVC\n",
      "SVC(C=0.5, kernel='linear', probability=True, random_state=1000)\n",
      "(54908, 244)\n"
     ]
    },
    {
     "name": "stderr",
     "output_type": "stream",
     "text": [
      " 33%|██████████████████████████▋                                                     | 2/6 [30:10<1:10:58, 1064.61s/it]"
     ]
    },
    {
     "name": "stdout",
     "output_type": "stream",
     "text": [
      "                  precision    recall  f1-score   support\n",
      "\n",
      " air_conditioner       0.52      0.48      0.50       700\n",
      "        car_horn       0.58      0.73      0.65       294\n",
      "children_playing       0.54      0.75      0.63       700\n",
      "        dog_bark       0.82      0.74      0.78       700\n",
      "        drilling       0.70      0.65      0.67       700\n",
      "   engine_idling       0.32      0.49      0.39       700\n",
      "        gun_shot       0.86      0.96      0.91       245\n",
      "      jackhammer       0.44      0.17      0.24       840\n",
      "           siren       0.89      0.75      0.82       637\n",
      "    street_music       0.67      0.71      0.69       700\n",
      "\n",
      "        accuracy                           0.60      6216\n",
      "       macro avg       0.64      0.64      0.63      6216\n",
      "    weighted avg       0.62      0.60      0.60      6216\n",
      "\n",
      "LogisticR\n",
      "LogisticRegression(C=0.5, max_iter=500, n_jobs=-1, solver='saga')\n",
      "(54908, 244)\n"
     ]
    },
    {
     "name": "stderr",
     "output_type": "stream",
     "text": [
      " 50%|█████████████████████████████████████████▌                                         | 3/6 [36:09<37:07, 742.37s/it]"
     ]
    },
    {
     "name": "stdout",
     "output_type": "stream",
     "text": [
      "                  precision    recall  f1-score   support\n",
      "\n",
      " air_conditioner       0.55      0.59      0.57       700\n",
      "        car_horn       0.74      0.60      0.66       294\n",
      "children_playing       0.59      0.75      0.66       700\n",
      "        dog_bark       0.82      0.76      0.79       700\n",
      "        drilling       0.67      0.65      0.66       700\n",
      "   engine_idling       0.32      0.50      0.39       700\n",
      "        gun_shot       0.73      0.90      0.81       245\n",
      "      jackhammer       0.63      0.20      0.30       840\n",
      "           siren       0.88      0.72      0.79       637\n",
      "    street_music       0.60      0.71      0.65       700\n",
      "\n",
      "        accuracy                           0.61      6216\n",
      "       macro avg       0.65      0.64      0.63      6216\n",
      "    weighted avg       0.64      0.61      0.60      6216\n",
      "\n",
      "KNN\n",
      "KNeighborsClassifier(leaf_size=20, n_jobs=-1, n_neighbors=3)\n",
      "(54908, 244)\n"
     ]
    },
    {
     "name": "stderr",
     "output_type": "stream",
     "text": [
      " 67%|███████████████████████████████████████████████████████▎                           | 4/6 [36:29<15:14, 457.10s/it]"
     ]
    },
    {
     "name": "stdout",
     "output_type": "stream",
     "text": [
      "                  precision    recall  f1-score   support\n",
      "\n",
      " air_conditioner       0.34      0.55      0.42       700\n",
      "        car_horn       0.30      0.31      0.30       294\n",
      "children_playing       0.39      0.74      0.51       700\n",
      "        dog_bark       0.75      0.62      0.68       700\n",
      "        drilling       0.77      0.45      0.57       700\n",
      "   engine_idling       0.23      0.16      0.19       700\n",
      "        gun_shot       0.83      0.87      0.85       245\n",
      "      jackhammer       0.38      0.28      0.32       840\n",
      "           siren       0.68      0.50      0.58       637\n",
      "    street_music       0.60      0.53      0.56       700\n",
      "\n",
      "        accuracy                           0.48      6216\n",
      "       macro avg       0.53      0.50      0.50      6216\n",
      "    weighted avg       0.51      0.48      0.48      6216\n",
      "\n",
      "Forest\n",
      "RandomForestClassifier(n_estimators=500, n_jobs=-1)\n",
      "(54908, 244)\n"
     ]
    },
    {
     "name": "stderr",
     "output_type": "stream",
     "text": [
      " 83%|█████████████████████████████████████████████████████████████████████▏             | 5/6 [41:18<06:36, 396.49s/it]"
     ]
    },
    {
     "name": "stdout",
     "output_type": "stream",
     "text": [
      "                  precision    recall  f1-score   support\n",
      "\n",
      " air_conditioner       0.62      0.49      0.55       700\n",
      "        car_horn       0.74      0.23      0.35       294\n",
      "children_playing       0.54      0.84      0.66       700\n",
      "        dog_bark       0.76      0.76      0.76       700\n",
      "        drilling       0.67      0.58      0.62       700\n",
      "   engine_idling       0.39      0.38      0.39       700\n",
      "        gun_shot       0.76      0.91      0.83       245\n",
      "      jackhammer       0.62      0.59      0.60       840\n",
      "           siren       0.80      0.51      0.62       637\n",
      "    street_music       0.52      0.73      0.60       700\n",
      "\n",
      "        accuracy                           0.60      6216\n",
      "       macro avg       0.64      0.60      0.60      6216\n",
      "    weighted avg       0.62      0.60      0.60      6216\n",
      "\n",
      "Voting\n",
      "VotingClassifier(estimators=[('Naïve Bayes', GaussianNB()),\n",
      "                             ('SVC',\n",
      "                              SVC(C=0.5, kernel='linear', probability=True,\n",
      "                                  random_state=1000)),\n",
      "                             ('LogisticR',\n",
      "                              LogisticRegression(C=0.5, max_iter=500, n_jobs=-1,\n",
      "                                                 solver='saga')),\n",
      "                             ('KNN',\n",
      "                              KNeighborsClassifier(leaf_size=20, n_jobs=-1,\n",
      "                                                   n_neighbors=3))],\n",
      "                 voting='soft')\n",
      "(54908, 244)\n"
     ]
    },
    {
     "name": "stderr",
     "output_type": "stream",
     "text": [
      "100%|█████████████████████████████████████████████████████████████████████████████████| 6/6 [1:17:43<00:00, 777.27s/it]"
     ]
    },
    {
     "name": "stdout",
     "output_type": "stream",
     "text": [
      "                  precision    recall  f1-score   support\n",
      "\n",
      " air_conditioner       0.47      0.66      0.55       700\n",
      "        car_horn       0.74      0.50      0.60       294\n",
      "children_playing       0.51      0.79      0.62       700\n",
      "        dog_bark       0.87      0.72      0.79       700\n",
      "        drilling       0.80      0.61      0.70       700\n",
      "   engine_idling       0.28      0.31      0.30       700\n",
      "        gun_shot       0.72      0.94      0.82       245\n",
      "      jackhammer       0.62      0.43      0.51       840\n",
      "           siren       0.89      0.61      0.72       637\n",
      "    street_music       0.61      0.65      0.63       700\n",
      "\n",
      "        accuracy                           0.60      6216\n",
      "       macro avg       0.65      0.62      0.62      6216\n",
      "    weighted avg       0.64      0.60      0.61      6216\n",
      "\n",
      "Validation fold: 3\n"
     ]
    },
    {
     "name": "stderr",
     "output_type": "stream",
     "text": [
      "\n"
     ]
    },
    {
     "name": "stdout",
     "output_type": "stream",
     "text": [
      "X_train_norm shape...:(54649, 375)\n",
      "X_val_norm shape.....:(6475, 375)\n",
      "\n",
      "Sum of elements............: 0.9801863114238477\n",
      "Number of elements summed..: 244\n",
      "\n"
     ]
    },
    {
     "name": "stderr",
     "output_type": "stream",
     "text": [
      "  0%|                                                                                            | 0/6 [00:00<?, ?it/s]"
     ]
    },
    {
     "name": "stdout",
     "output_type": "stream",
     "text": [
      "GaussianNB\n",
      "GaussianNB()\n",
      "(54649, 244)\n"
     ]
    },
    {
     "name": "stderr",
     "output_type": "stream",
     "text": [
      " 17%|██████████████                                                                      | 1/6 [00:02<00:12,  2.59s/it]"
     ]
    },
    {
     "name": "stdout",
     "output_type": "stream",
     "text": [
      "                  precision    recall  f1-score   support\n",
      "\n",
      " air_conditioner       0.17      0.30      0.22       700\n",
      "        car_horn       0.55      0.90      0.69       301\n",
      "children_playing       0.33      0.64      0.43       700\n",
      "        dog_bark       0.68      0.36      0.47       700\n",
      "        drilling       0.79      0.33      0.47       700\n",
      "   engine_idling       0.08      0.02      0.04       749\n",
      "        gun_shot       0.78      0.74      0.76       252\n",
      "      jackhammer       0.44      0.84      0.57       840\n",
      "           siren       0.70      0.22      0.33       833\n",
      "    street_music       0.30      0.16      0.21       700\n",
      "\n",
      "        accuracy                           0.40      6475\n",
      "       macro avg       0.48      0.45      0.42      6475\n",
      "    weighted avg       0.46      0.40      0.38      6475\n",
      "\n",
      "SVC\n",
      "SVC(C=0.5, kernel='linear', probability=True, random_state=1000)\n",
      "(54649, 244)\n"
     ]
    },
    {
     "name": "stderr",
     "output_type": "stream",
     "text": [
      " 33%|███████████████████████████▋                                                       | 2/6 [24:51<58:26, 876.62s/it]"
     ]
    },
    {
     "name": "stdout",
     "output_type": "stream",
     "text": [
      "                  precision    recall  f1-score   support\n",
      "\n",
      " air_conditioner       0.22      0.17      0.19       700\n",
      "        car_horn       0.68      0.95      0.79       301\n",
      "children_playing       0.61      0.69      0.64       700\n",
      "        dog_bark       0.60      0.70      0.64       700\n",
      "        drilling       0.64      0.58      0.61       700\n",
      "   engine_idling       0.53      0.33      0.41       749\n",
      "        gun_shot       0.87      0.95      0.91       252\n",
      "      jackhammer       0.54      0.65      0.59       840\n",
      "           siren       0.76      0.76      0.76       833\n",
      "    street_music       0.59      0.56      0.57       700\n",
      "\n",
      "        accuracy                           0.59      6475\n",
      "       macro avg       0.60      0.63      0.61      6475\n",
      "    weighted avg       0.58      0.59      0.58      6475\n",
      "\n",
      "LogisticR\n",
      "LogisticRegression(C=0.5, max_iter=500, n_jobs=-1, solver='saga')\n",
      "(54649, 244)\n"
     ]
    },
    {
     "name": "stderr",
     "output_type": "stream",
     "text": [
      " 50%|█████████████████████████████████████████▌                                         | 3/6 [29:56<30:47, 615.77s/it]"
     ]
    },
    {
     "name": "stdout",
     "output_type": "stream",
     "text": [
      "                  precision    recall  f1-score   support\n",
      "\n",
      " air_conditioner       0.19      0.13      0.16       700\n",
      "        car_horn       0.75      0.94      0.83       301\n",
      "children_playing       0.61      0.67      0.64       700\n",
      "        dog_bark       0.64      0.67      0.65       700\n",
      "        drilling       0.73      0.62      0.67       700\n",
      "   engine_idling       0.47      0.36      0.41       749\n",
      "        gun_shot       0.82      0.91      0.86       252\n",
      "      jackhammer       0.52      0.74      0.61       840\n",
      "           siren       0.74      0.74      0.74       833\n",
      "    street_music       0.57      0.54      0.56       700\n",
      "\n",
      "        accuracy                           0.59      6475\n",
      "       macro avg       0.60      0.63      0.61      6475\n",
      "    weighted avg       0.58      0.59      0.58      6475\n",
      "\n",
      "KNN\n",
      "KNeighborsClassifier(leaf_size=20, n_jobs=-1, n_neighbors=3)\n",
      "(54649, 244)\n"
     ]
    },
    {
     "name": "stderr",
     "output_type": "stream",
     "text": [
      " 67%|███████████████████████████████████████████████████████▎                           | 4/6 [30:13<12:39, 379.53s/it]"
     ]
    },
    {
     "name": "stdout",
     "output_type": "stream",
     "text": [
      "                  precision    recall  f1-score   support\n",
      "\n",
      " air_conditioner       0.21      0.41      0.28       700\n",
      "        car_horn       0.72      0.92      0.81       301\n",
      "children_playing       0.46      0.78      0.58       700\n",
      "        dog_bark       0.77      0.54      0.64       700\n",
      "        drilling       0.55      0.60      0.57       700\n",
      "   engine_idling       0.19      0.09      0.12       749\n",
      "        gun_shot       0.94      0.98      0.96       252\n",
      "      jackhammer       0.43      0.30      0.35       840\n",
      "           siren       0.85      0.61      0.71       833\n",
      "    street_music       0.58      0.43      0.49       700\n",
      "\n",
      "        accuracy                           0.51      6475\n",
      "       macro avg       0.57      0.57      0.55      6475\n",
      "    weighted avg       0.54      0.51      0.50      6475\n",
      "\n",
      "Forest\n",
      "RandomForestClassifier(n_estimators=500, n_jobs=-1)\n",
      "(54649, 244)\n"
     ]
    },
    {
     "name": "stderr",
     "output_type": "stream",
     "text": [
      " 83%|█████████████████████████████████████████████████████████████████████▏             | 5/6 [34:39<05:38, 338.43s/it]"
     ]
    },
    {
     "name": "stdout",
     "output_type": "stream",
     "text": [
      "                  precision    recall  f1-score   support\n",
      "\n",
      " air_conditioner       0.33      0.19      0.24       700\n",
      "        car_horn       0.94      0.91      0.93       301\n",
      "children_playing       0.58      0.75      0.65       700\n",
      "        dog_bark       0.71      0.67      0.69       700\n",
      "        drilling       0.63      0.70      0.66       700\n",
      "   engine_idling       0.47      0.22      0.30       749\n",
      "        gun_shot       0.96      0.94      0.95       252\n",
      "      jackhammer       0.52      0.84      0.64       840\n",
      "           siren       0.85      0.68      0.75       833\n",
      "    street_music       0.52      0.60      0.56       700\n",
      "\n",
      "        accuracy                           0.61      6475\n",
      "       macro avg       0.65      0.65      0.64      6475\n",
      "    weighted avg       0.61      0.61      0.60      6475\n",
      "\n",
      "Voting\n",
      "VotingClassifier(estimators=[('Naïve Bayes', GaussianNB()),\n",
      "                             ('SVC',\n",
      "                              SVC(C=0.5, kernel='linear', probability=True,\n",
      "                                  random_state=1000)),\n",
      "                             ('LogisticR',\n",
      "                              LogisticRegression(C=0.5, max_iter=500, n_jobs=-1,\n",
      "                                                 solver='saga')),\n",
      "                             ('KNN',\n",
      "                              KNeighborsClassifier(leaf_size=20, n_jobs=-1,\n",
      "                                                   n_neighbors=3))],\n",
      "                 voting='soft')\n",
      "(54649, 244)\n"
     ]
    },
    {
     "name": "stderr",
     "output_type": "stream",
     "text": [
      "100%|█████████████████████████████████████████████████████████████████████████████████| 6/6 [1:05:11<00:00, 651.96s/it]"
     ]
    },
    {
     "name": "stdout",
     "output_type": "stream",
     "text": [
      "                  precision    recall  f1-score   support\n",
      "\n",
      " air_conditioner       0.23      0.26      0.24       700\n",
      "        car_horn       0.88      0.99      0.93       301\n",
      "children_playing       0.52      0.79      0.62       700\n",
      "        dog_bark       0.77      0.61      0.68       700\n",
      "        drilling       0.90      0.66      0.76       700\n",
      "   engine_idling       0.49      0.21      0.29       749\n",
      "        gun_shot       0.94      0.98      0.96       252\n",
      "      jackhammer       0.51      0.85      0.63       840\n",
      "           siren       0.88      0.68      0.77       833\n",
      "    street_music       0.59      0.49      0.54       700\n",
      "\n",
      "        accuracy                           0.61      6475\n",
      "       macro avg       0.67      0.65      0.64      6475\n",
      "    weighted avg       0.64      0.61      0.60      6475\n",
      "\n",
      "Validation fold: 4\n"
     ]
    },
    {
     "name": "stderr",
     "output_type": "stream",
     "text": [
      "\n"
     ]
    },
    {
     "name": "stdout",
     "output_type": "stream",
     "text": [
      "X_train_norm shape...:(54194, 375)\n",
      "X_val_norm shape.....:(6930, 375)\n",
      "\n",
      "Sum of elements............: 0.9800724681395293\n",
      "Number of elements summed..: 246\n",
      "\n"
     ]
    },
    {
     "name": "stderr",
     "output_type": "stream",
     "text": [
      "  0%|                                                                                            | 0/6 [00:00<?, ?it/s]"
     ]
    },
    {
     "name": "stdout",
     "output_type": "stream",
     "text": [
      "GaussianNB\n",
      "GaussianNB()\n",
      "(54194, 246)\n"
     ]
    },
    {
     "name": "stderr",
     "output_type": "stream",
     "text": [
      " 17%|██████████████                                                                      | 1/6 [00:02<00:12,  2.49s/it]"
     ]
    },
    {
     "name": "stdout",
     "output_type": "stream",
     "text": [
      "                  precision    recall  f1-score   support\n",
      "\n",
      " air_conditioner       0.35      0.48      0.41       700\n",
      "        car_horn       0.10      0.10      0.10       413\n",
      "children_playing       0.29      0.66      0.40       700\n",
      "        dog_bark       0.60      0.40      0.48       700\n",
      "        drilling       0.61      0.09      0.15       700\n",
      "   engine_idling       0.03      0.01      0.02       749\n",
      "        gun_shot       0.67      0.64      0.66       266\n",
      "      jackhammer       0.32      0.75      0.45       840\n",
      "           siren       0.65      0.21      0.32      1162\n",
      "    street_music       0.19      0.15      0.17       700\n",
      "\n",
      "        accuracy                           0.34      6930\n",
      "       macro avg       0.38      0.35      0.31      6930\n",
      "    weighted avg       0.39      0.34      0.30      6930\n",
      "\n",
      "SVC\n",
      "SVC(C=0.5, kernel='linear', probability=True, random_state=1000)\n",
      "(54194, 246)\n"
     ]
    },
    {
     "name": "stderr",
     "output_type": "stream",
     "text": [
      " 33%|███████████████████████████                                                      | 2/6 [25:48<1:00:42, 910.58s/it]"
     ]
    },
    {
     "name": "stdout",
     "output_type": "stream",
     "text": [
      "                  precision    recall  f1-score   support\n",
      "\n",
      " air_conditioner       0.39      0.35      0.37       700\n",
      "        car_horn       0.77      0.51      0.61       413\n",
      "children_playing       0.59      0.58      0.59       700\n",
      "        dog_bark       0.66      0.80      0.72       700\n",
      "        drilling       0.50      0.63      0.56       700\n",
      "   engine_idling       0.55      0.69      0.61       749\n",
      "        gun_shot       0.92      0.78      0.84       266\n",
      "      jackhammer       0.73      0.55      0.63       840\n",
      "           siren       0.89      0.86      0.87      1162\n",
      "    street_music       0.62      0.59      0.61       700\n",
      "\n",
      "        accuracy                           0.64      6930\n",
      "       macro avg       0.66      0.63      0.64      6930\n",
      "    weighted avg       0.66      0.64      0.64      6930\n",
      "\n",
      "LogisticR\n",
      "LogisticRegression(C=0.5, max_iter=500, n_jobs=-1, solver='saga')\n",
      "(54194, 246)\n"
     ]
    },
    {
     "name": "stderr",
     "output_type": "stream",
     "text": [
      " 50%|█████████████████████████████████████████▌                                         | 3/6 [30:57<31:46, 635.59s/it]"
     ]
    },
    {
     "name": "stdout",
     "output_type": "stream",
     "text": [
      "                  precision    recall  f1-score   support\n",
      "\n",
      " air_conditioner       0.39      0.35      0.37       700\n",
      "        car_horn       0.81      0.48      0.60       413\n",
      "children_playing       0.66      0.58      0.62       700\n",
      "        dog_bark       0.70      0.75      0.73       700\n",
      "        drilling       0.64      0.71      0.68       700\n",
      "   engine_idling       0.58      0.70      0.63       749\n",
      "        gun_shot       0.84      0.80      0.82       266\n",
      "      jackhammer       0.65      0.73      0.69       840\n",
      "           siren       0.87      0.86      0.86      1162\n",
      "    street_music       0.60      0.58      0.59       700\n",
      "\n",
      "        accuracy                           0.67      6930\n",
      "       macro avg       0.68      0.65      0.66      6930\n",
      "    weighted avg       0.67      0.67      0.67      6930\n",
      "\n",
      "KNN\n",
      "KNeighborsClassifier(leaf_size=20, n_jobs=-1, n_neighbors=3)\n",
      "(54194, 246)\n"
     ]
    },
    {
     "name": "stderr",
     "output_type": "stream",
     "text": [
      " 67%|███████████████████████████████████████████████████████▎                           | 4/6 [31:15<13:04, 392.06s/it]"
     ]
    },
    {
     "name": "stdout",
     "output_type": "stream",
     "text": [
      "                  precision    recall  f1-score   support\n",
      "\n",
      " air_conditioner       0.28      0.36      0.32       700\n",
      "        car_horn       0.74      0.40      0.52       413\n",
      "children_playing       0.29      0.65      0.41       700\n",
      "        dog_bark       0.61      0.60      0.60       700\n",
      "        drilling       0.55      0.51      0.53       700\n",
      "   engine_idling       0.36      0.21      0.26       749\n",
      "        gun_shot       0.87      0.81      0.84       266\n",
      "      jackhammer       0.40      0.40      0.40       840\n",
      "           siren       0.85      0.54      0.66      1162\n",
      "    street_music       0.58      0.51      0.54       700\n",
      "\n",
      "        accuracy                           0.48      6930\n",
      "       macro avg       0.55      0.50      0.51      6930\n",
      "    weighted avg       0.54      0.48      0.49      6930\n",
      "\n",
      "Forest\n",
      "RandomForestClassifier(n_estimators=500, n_jobs=-1)\n",
      "(54194, 246)\n"
     ]
    },
    {
     "name": "stderr",
     "output_type": "stream",
     "text": [
      " 83%|█████████████████████████████████████████████████████████████████████▏             | 5/6 [35:45<05:47, 347.78s/it]"
     ]
    },
    {
     "name": "stdout",
     "output_type": "stream",
     "text": [
      "                  precision    recall  f1-score   support\n",
      "\n",
      " air_conditioner       0.40      0.19      0.26       700\n",
      "        car_horn       0.98      0.36      0.52       413\n",
      "children_playing       0.43      0.61      0.51       700\n",
      "        dog_bark       0.67      0.76      0.71       700\n",
      "        drilling       0.58      0.71      0.64       700\n",
      "   engine_idling       0.37      0.29      0.33       749\n",
      "        gun_shot       0.92      0.73      0.81       266\n",
      "      jackhammer       0.40      0.61      0.48       840\n",
      "           siren       0.90      0.75      0.82      1162\n",
      "    street_music       0.60      0.65      0.63       700\n",
      "\n",
      "        accuracy                           0.58      6930\n",
      "       macro avg       0.63      0.57      0.57      6930\n",
      "    weighted avg       0.60      0.58      0.57      6930\n",
      "\n",
      "Voting\n",
      "VotingClassifier(estimators=[('Naïve Bayes', GaussianNB()),\n",
      "                             ('SVC',\n",
      "                              SVC(C=0.5, kernel='linear', probability=True,\n",
      "                                  random_state=1000)),\n",
      "                             ('LogisticR',\n",
      "                              LogisticRegression(C=0.5, max_iter=500, n_jobs=-1,\n",
      "                                                 solver='saga')),\n",
      "                             ('KNN',\n",
      "                              KNeighborsClassifier(leaf_size=20, n_jobs=-1,\n",
      "                                                   n_neighbors=3))],\n",
      "                 voting='soft')\n",
      "(54194, 246)\n"
     ]
    },
    {
     "name": "stderr",
     "output_type": "stream",
     "text": [
      "100%|█████████████████████████████████████████████████████████████████████████████████| 6/6 [1:08:26<00:00, 684.41s/it]"
     ]
    },
    {
     "name": "stdout",
     "output_type": "stream",
     "text": [
      "                  precision    recall  f1-score   support\n",
      "\n",
      " air_conditioner       0.43      0.37      0.40       700\n",
      "        car_horn       0.89      0.45      0.60       413\n",
      "children_playing       0.48      0.70      0.57       700\n",
      "        dog_bark       0.74      0.71      0.73       700\n",
      "        drilling       0.69      0.61      0.65       700\n",
      "   engine_idling       0.58      0.48      0.53       749\n",
      "        gun_shot       0.87      0.82      0.84       266\n",
      "      jackhammer       0.48      0.78      0.59       840\n",
      "           siren       0.90      0.75      0.82      1162\n",
      "    street_music       0.65      0.53      0.59       700\n",
      "\n",
      "        accuracy                           0.63      6930\n",
      "       macro avg       0.67      0.62      0.63      6930\n",
      "    weighted avg       0.66      0.63      0.63      6930\n",
      "\n",
      "Validation fold: 5\n"
     ]
    },
    {
     "name": "stderr",
     "output_type": "stream",
     "text": [
      "\n"
     ]
    },
    {
     "name": "stdout",
     "output_type": "stream",
     "text": [
      "X_train_norm shape...:(54572, 375)\n",
      "X_val_norm shape.....:(6552, 375)\n",
      "\n",
      "Sum of elements............: 0.9802060314654999\n",
      "Number of elements summed..: 245\n",
      "\n"
     ]
    },
    {
     "name": "stderr",
     "output_type": "stream",
     "text": [
      "  0%|                                                                                            | 0/6 [00:00<?, ?it/s]"
     ]
    },
    {
     "name": "stdout",
     "output_type": "stream",
     "text": [
      "GaussianNB\n",
      "GaussianNB()\n",
      "(54572, 245)\n"
     ]
    },
    {
     "name": "stderr",
     "output_type": "stream",
     "text": [
      " 17%|██████████████                                                                      | 1/6 [00:02<00:12,  2.44s/it]"
     ]
    },
    {
     "name": "stdout",
     "output_type": "stream",
     "text": [
      "                  precision    recall  f1-score   support\n",
      "\n",
      " air_conditioner       0.41      0.56      0.47       700\n",
      "        car_horn       0.13      0.12      0.12       686\n",
      "children_playing       0.38      0.65      0.48       700\n",
      "        dog_bark       0.36      0.29      0.32       700\n",
      "        drilling       0.10      0.03      0.05       700\n",
      "   engine_idling       0.32      0.11      0.17       749\n",
      "        gun_shot       0.76      0.82      0.79       280\n",
      "      jackhammer       0.39      0.69      0.50       840\n",
      "           siren       0.52      0.21      0.30       497\n",
      "    street_music       0.32      0.31      0.32       700\n",
      "\n",
      "        accuracy                           0.36      6552\n",
      "       macro avg       0.37      0.38      0.35      6552\n",
      "    weighted avg       0.34      0.36      0.33      6552\n",
      "\n",
      "SVC\n",
      "SVC(C=0.5, kernel='linear', probability=True, random_state=1000)\n",
      "(54572, 245)\n"
     ]
    },
    {
     "name": "stderr",
     "output_type": "stream",
     "text": [
      " 33%|██████████████████████████▋                                                     | 2/6 [29:50<1:10:12, 1053.01s/it]"
     ]
    },
    {
     "name": "stdout",
     "output_type": "stream",
     "text": [
      "                  precision    recall  f1-score   support\n",
      "\n",
      " air_conditioner       0.55      0.55      0.55       700\n",
      "        car_horn       0.86      0.57      0.69       686\n",
      "children_playing       0.59      0.68      0.63       700\n",
      "        dog_bark       0.62      0.69      0.65       700\n",
      "        drilling       0.52      0.59      0.55       700\n",
      "   engine_idling       0.73      0.59      0.65       749\n",
      "        gun_shot       0.86      0.91      0.88       280\n",
      "      jackhammer       0.91      0.84      0.87       840\n",
      "           siren       0.64      0.82      0.72       497\n",
      "    street_music       0.76      0.77      0.76       700\n",
      "\n",
      "        accuracy                           0.69      6552\n",
      "       macro avg       0.70      0.70      0.70      6552\n",
      "    weighted avg       0.70      0.69      0.69      6552\n",
      "\n",
      "LogisticR\n",
      "LogisticRegression(C=0.5, max_iter=500, n_jobs=-1, solver='saga')\n",
      "(54572, 245)\n"
     ]
    },
    {
     "name": "stderr",
     "output_type": "stream",
     "text": [
      " 50%|█████████████████████████████████████████▌                                         | 3/6 [35:45<36:42, 734.04s/it]"
     ]
    },
    {
     "name": "stdout",
     "output_type": "stream",
     "text": [
      "                  precision    recall  f1-score   support\n",
      "\n",
      " air_conditioner       0.65      0.68      0.66       700\n",
      "        car_horn       0.86      0.50      0.63       686\n",
      "children_playing       0.67      0.68      0.68       700\n",
      "        dog_bark       0.66      0.69      0.68       700\n",
      "        drilling       0.56      0.56      0.56       700\n",
      "   engine_idling       0.70      0.63      0.67       749\n",
      "        gun_shot       0.85      0.92      0.88       280\n",
      "      jackhammer       0.81      0.92      0.86       840\n",
      "           siren       0.71      0.85      0.77       497\n",
      "    street_music       0.73      0.79      0.76       700\n",
      "\n",
      "        accuracy                           0.71      6552\n",
      "       macro avg       0.72      0.72      0.71      6552\n",
      "    weighted avg       0.71      0.71      0.70      6552\n",
      "\n",
      "KNN\n",
      "KNeighborsClassifier(leaf_size=20, n_jobs=-1, n_neighbors=3)\n",
      "(54572, 245)\n"
     ]
    },
    {
     "name": "stderr",
     "output_type": "stream",
     "text": [
      " 67%|███████████████████████████████████████████████████████▎                           | 4/6 [36:04<15:03, 451.83s/it]"
     ]
    },
    {
     "name": "stdout",
     "output_type": "stream",
     "text": [
      "                  precision    recall  f1-score   support\n",
      "\n",
      " air_conditioner       0.42      0.63      0.50       700\n",
      "        car_horn       0.87      0.53      0.66       686\n",
      "children_playing       0.43      0.72      0.54       700\n",
      "        dog_bark       0.66      0.49      0.56       700\n",
      "        drilling       0.53      0.31      0.39       700\n",
      "   engine_idling       0.66      0.42      0.51       749\n",
      "        gun_shot       0.87      0.93      0.90       280\n",
      "      jackhammer       0.72      0.88      0.79       840\n",
      "           siren       0.70      0.78      0.73       497\n",
      "    street_music       0.62      0.57      0.59       700\n",
      "\n",
      "        accuracy                           0.60      6552\n",
      "       macro avg       0.65      0.62      0.62      6552\n",
      "    weighted avg       0.63      0.60      0.60      6552\n",
      "\n",
      "Forest\n",
      "RandomForestClassifier(n_estimators=500, n_jobs=-1)\n",
      "(54572, 245)\n"
     ]
    }
   ],
   "source": [
    "# Option for scalerOpt is either \"normalization\" or \"standardization\"\n",
    "\n",
    "# PCA with mutual is ilogical, results will be useless\n",
    "# Mutual does not work with negative numbers, therefore \"standardization\" returns an error\n",
    "# Mutual will trigger only Random Forest\n",
    "\n",
    "metrics_set, models_set,  ratio, batch_name = model_classifiers(DB_from_pkl,\n",
    "                                                                scalerOpt = 'standardization',\n",
    "                                                                use_PCA = True,\n",
    "                                                                use_mutual = False)"
   ]
  },
  {
   "cell_type": "code",
   "execution_count": null,
   "id": "3674816b",
   "metadata": {},
   "outputs": [],
   "source": [
    "batch_name"
   ]
  },
  {
   "cell_type": "markdown",
   "id": "73169e4d",
   "metadata": {},
   "source": [
    "## Metrics for the classifiers\n",
    "\n",
    "\n",
    "1. Accuracy: Accuracy is a measure of how many correct predictions a model makes overall, i.e., the ratio of correct predictions to the total number of predictions. It's a commonly used metric for evaluating models, but it may not be suitable in certain situations.\n",
    "\n",
    "2. Precision: Precision measures the ratio of true positives (correctly predicted positive instances) to all instances predicted as positive. It focuses on the accuracy of positive predictions.\n",
    "\n",
    "3. Recall: Recall, also known as sensitivity or true positive rate, measures the ratio of true positives to all actual positive instances. It focuses on how well a model captures all the positive instances.\n",
    "\n",
    "4. F1 Score: The F1 score is the harmonic mean of precision and recall. It provides a balanced measure that takes into account both false positives and false negatives. The F1 score is especially useful when you want to strike a balance between precision and recall.\n",
    "\n",
    "\n",
    "The F1 score is a metric that combines precision and recall, and it is particularly useful in situations where class imbalance or unequal misclassification costs are present. In such contexts, the F1 score can be more informative and meaningful than accuracy.\n",
    "\n",
    "A context where considering the F1 score makes more sense than accuracy:\n",
    "\n",
    "**Medical Diagnosis:**\n",
    "\n",
    "Imagine you're developing a model to diagnose a rare disease, and only 5% of the population has this disease. In this case, you have a significant class imbalance, where the majority of cases are negative (non-disease) and only a small fraction are positive (disease). If you were to use accuracy as the evaluation metric, the model could achieve a high accuracy by simply predicting \"negative\" for every case, because it would be correct 95% of the time due to the class imbalance. However, this would be entirely useless for detecting the actual disease.\n",
    "\n",
    "In this scenario, you'd be more interested in the F1 score. The F1 score considers both precision and recall, helping you find a balance between correctly identifying the disease (high recall) and not making too many false positive predictions (high precision). A high F1 score in this context indicates that your model is effective at correctly identifying the disease while minimizing false alarms."
   ]
  },
  {
   "cell_type": "code",
   "execution_count": null,
   "id": "3e2c20ac",
   "metadata": {},
   "outputs": [],
   "source": [
    "metrics_set"
   ]
  },
  {
   "cell_type": "code",
   "execution_count": null,
   "id": "4e29d1a3",
   "metadata": {},
   "outputs": [],
   "source": [
    "# Sort by Model and Accuracy test. Reset the index.\n",
    "\n",
    "metrics_set = metrics_set.sort_values(['Model', 'Accuracy(Validation)'], ascending = [True, True]).reset_index()\n",
    "metrics_set"
   ]
  },
  {
   "cell_type": "code",
   "execution_count": null,
   "id": "c5af9afe",
   "metadata": {},
   "outputs": [],
   "source": [
    "metrics_set[['Model', 'Accuracy(Validation)']].style.background_gradient(cmap = cmap_cm)"
   ]
  },
  {
   "cell_type": "code",
   "execution_count": null,
   "id": "74b6fa6d",
   "metadata": {},
   "outputs": [],
   "source": [
    "highest_accuracy = metrics_set.groupby('Model')['Accuracy(Validation)'].max()\n",
    "highest_accuracy"
   ]
  },
  {
   "cell_type": "code",
   "execution_count": null,
   "id": "4f740a0b",
   "metadata": {},
   "outputs": [],
   "source": [
    "list_classifiers = metrics_set['Model'].unique().tolist()\n",
    "list_classifiers"
   ]
  },
  {
   "cell_type": "code",
   "execution_count": null,
   "id": "a40226fc",
   "metadata": {},
   "outputs": [],
   "source": [
    "# Creates a dictionary of each classifier and its data explanation\n",
    "\n",
    "unique_models = []\n",
    "results       = {}\n",
    "\n",
    "for c in list_classifiers:\n",
    "    unique_models.append(c)\n",
    "\n",
    "for model in unique_models:\n",
    "    result = metrics_set[metrics_set['Model'] == model].describe().round(4)\n",
    "    results[model] = result"
   ]
  },
  {
   "cell_type": "code",
   "execution_count": null,
   "id": "f8cf7d53",
   "metadata": {},
   "outputs": [],
   "source": [
    "for model in results.keys():\n",
    "    print(f'Model...: {model}')\n",
    "    display(results[model])"
   ]
  },
  {
   "cell_type": "code",
   "execution_count": null,
   "id": "7b3b8a40",
   "metadata": {},
   "outputs": [],
   "source": [
    "metrics_set_no_cm = metrics_set.drop('Conf_M', axis=1)\n",
    "metrics_set_no_cm"
   ]
  },
  {
   "cell_type": "code",
   "execution_count": null,
   "id": "1be91243",
   "metadata": {},
   "outputs": [],
   "source": [
    "metrics_set_name       = nom_dataset + '_metrics_set' + batch_name +  model_surname + '.csv'\n",
    "metrics_set_name_no_cm = nom_dataset + '_metrics_set' + batch_name +  model_surname + '_no_cm.csv'\n",
    "\n",
    "print(metrics_set_name)\n",
    "print(metrics_set_name_no_cm)"
   ]
  },
  {
   "cell_type": "code",
   "execution_count": null,
   "id": "3d17b960",
   "metadata": {},
   "outputs": [],
   "source": [
    "# Writes de results to a CSV file\n",
    "\n",
    "metrics_set.to_csv(os.path.join(path_models, metrics_set_name), sep='\\t', encoding='utf-8')\n",
    "metrics_set_no_cm.to_csv(os.path.join(path_models, metrics_set_name_no_cm), sep='\\t', encoding='utf-8')"
   ]
  },
  {
   "cell_type": "code",
   "execution_count": null,
   "id": "faea2f5b",
   "metadata": {},
   "outputs": [],
   "source": [
    "idx = metrics_set.groupby('Model')['Accuracy(Validation)'].idxmax()\n",
    "conf_matrices = metrics_set.loc[idx, ['Model','Accuracy(Validation)','Conf_M']]\n",
    "conf_matrices.set_index('Model', inplace=True)\n",
    "conf_matrices_dict = conf_matrices.to_dict('index')\n",
    "conf_matrices_dict"
   ]
  },
  {
   "cell_type": "code",
   "execution_count": null,
   "id": "1603ff77",
   "metadata": {},
   "outputs": [],
   "source": [
    "conf_matrices_dict['LogisticR']['Conf_M']"
   ]
  },
  {
   "cell_type": "code",
   "execution_count": null,
   "id": "4c32d216",
   "metadata": {},
   "outputs": [],
   "source": [
    "for i, idx in zip(conf_matrices_dict.keys(), range(1, len(conf_matrices_dict) + 1)):\n",
    "    print(idx)\n",
    "    print(i)\n",
    "    print(conf_matrices_dict[i]['Accuracy(Validation)'])\n",
    "    print(conf_matrices_dict[i]['Conf_M'])"
   ]
  },
  {
   "cell_type": "code",
   "execution_count": null,
   "id": "e5e53550",
   "metadata": {
    "scrolled": true
   },
   "outputs": [],
   "source": [
    "# Plot the confusion matrix for the highest accuracy test classifiers\n",
    "\n",
    "picture_name = f'{pic_first_name}{get_next_file_number(path_pic):02d}.png'\n",
    "\n",
    "plt.figure(figsize=(25,25))\n",
    "plt.suptitle('Confusion matrices of the best results for each classifier', fontsize = 16,  y=0.97)\n",
    "for i, idx in zip(conf_matrices_dict.keys(), range(1, len(conf_matrices_dict) + 1)):\n",
    "    title = nom_dataset + model_surname + batch_name + ' - Classifier '+ i + ' (Highest accuracy (Validation): ' + str(\"{:0.4f}\".format(conf_matrices_dict[i]['Accuracy(Validation)'])) +')'\n",
    "    plt.subplot(3,2,idx)\n",
    "    plot_confusion_matrix(conf_matrices_dict[i]['Conf_M'],  \n",
    "                          nom_classes, \n",
    "                          title,\n",
    "                          cmap = None,                          \n",
    "                          normalize = False)\n",
    "plt.tight_layout(pad=4.0)\n",
    "plt.savefig(os.path.join(path_pic, picture_name))"
   ]
  },
  {
   "cell_type": "code",
   "execution_count": null,
   "id": "0742e05f",
   "metadata": {
    "scrolled": true
   },
   "outputs": [],
   "source": [
    "picture_name = f'{pic_first_name}{get_next_file_number(path_pic):02d}.png'\n",
    "\n",
    "plt.figure(figsize=(18,8))\n",
    "plt.suptitle(f'{nom_dataset} - Box plot each classifier (batch type: {model_surname + batch_name})', fontsize = 16,  y=0.97)\n",
    "box_plot = sns.boxplot(data=metrics_set, x=\"Model\", y=\"Accuracy(Validation)\", showfliers = True)\n",
    "\n",
    "medians = list(metrics_set.groupby(['Model'], sort = False)['Accuracy(Validation)'].median())\n",
    "medians = [round(element, 2) for element in medians]\n",
    "\n",
    "vertical_offset = metrics_set['Accuracy(Validation)'].median()*0.001  # offset from median for display\n",
    "\n",
    "for xtick in box_plot.get_xticks():\n",
    "    box_plot.text(xtick, medians[xtick] + vertical_offset, medians[xtick], \n",
    "            horizontalalignment='center',size='medium',color='w',weight='semibold')\n",
    "plt.savefig(os.path.join(path_pic, picture_name))"
   ]
  },
  {
   "cell_type": "markdown",
   "id": "3a789e38",
   "metadata": {},
   "source": [
    "## Results ESC-10"
   ]
  },
  {
   "cell_type": "markdown",
   "id": "6f2692c9",
   "metadata": {},
   "source": []
  },
  {
   "cell_type": "markdown",
   "id": "a6b58377",
   "metadata": {},
   "source": [
    "## Results BDLib2"
   ]
  },
  {
   "cell_type": "markdown",
   "id": "cf61ea6f",
   "metadata": {},
   "source": []
  },
  {
   "cell_type": "markdown",
   "id": "d1a889f3",
   "metadata": {},
   "source": [
    "## Results US8K"
   ]
  },
  {
   "cell_type": "markdown",
   "id": "64e1aa32",
   "metadata": {},
   "source": []
  },
  {
   "cell_type": "markdown",
   "id": "688d9c4e",
   "metadata": {},
   "source": [
    "## Results US8K_AV"
   ]
  },
  {
   "cell_type": "markdown",
   "id": "f1c625c5",
   "metadata": {},
   "source": []
  },
  {
   "cell_type": "markdown",
   "id": "dff244f0",
   "metadata": {},
   "source": [
    "# End of notebook"
   ]
  },
  {
   "cell_type": "code",
   "execution_count": null,
   "id": "5c23c64a-cc72-4172-a4a7-aa5c28d7e5bd",
   "metadata": {},
   "outputs": [],
   "source": []
  }
 ],
 "metadata": {
  "kernelspec": {
   "display_name": "Python 3 (ipykernel)",
   "language": "python",
   "name": "python3"
  },
  "language_info": {
   "codemirror_mode": {
    "name": "ipython",
    "version": 3
   },
   "file_extension": ".py",
   "mimetype": "text/x-python",
   "name": "python",
   "nbconvert_exporter": "python",
   "pygments_lexer": "ipython3",
   "version": "3.9.18"
  }
 },
 "nbformat": 4,
 "nbformat_minor": 5
}
